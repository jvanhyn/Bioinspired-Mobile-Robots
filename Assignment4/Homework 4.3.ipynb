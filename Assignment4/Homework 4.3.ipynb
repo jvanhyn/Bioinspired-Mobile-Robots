{
 "cells": [
  {
   "cell_type": "code",
   "execution_count": 2,
   "id": "161eb6eb",
   "metadata": {},
   "outputs": [],
   "source": [
    "import sympy as sp \n",
    "import numpy as np\n",
    "import matplotlib.pyplot as plt\n",
    "from scipy.optimize import fsolve\n",
    "from scipy.integrate import solve_ivp"
   ]
  },
  {
   "cell_type": "code",
   "execution_count": 8,
   "id": "5d798cee",
   "metadata": {},
   "outputs": [
    {
     "data": {
      "text/plain": [
       "{x1: c/(a + b + tau),\n",
       " v1: c/(a + b + tau),\n",
       " x2: c/(a + b + tau),\n",
       " v2: c/(a + b + tau)}"
      ]
     },
     "metadata": {},
     "output_type": "display_data"
    },
    {
     "data": {
      "text/plain": [
       "{x1: c/tau, v1: 0, x2: c/tau, v2: 0}"
      ]
     },
     "metadata": {},
     "output_type": "display_data"
    }
   ],
   "source": [
    "x1, v1, x2, v2, T, tau, a, b, c = sp.symbols('x1, v1, x2, v2, T, tau, a, b, c')\n",
    "\n",
    "f1 = sp.Matrix([1/tau*(c-a*x2-b*v1)-x1,\n",
    "                     1/T*(x1-v1),\n",
    "                     1/tau*(c-a*x1-b*v2)-x2,\n",
    "                     1/T*(x2-v2)])\n",
    "\n",
    "f2 = sp.Matrix([1/tau*(c-0-b*v1)-x1,\n",
    "                     1/T*(0-v1),\n",
    "                     1/tau*(c-0-b*v2)-x2,\n",
    "                     1/T*(0-v2)])\n",
    "\n",
    "\n",
    "p1 = sp.solve(f1,(x1,v1,x2,v2))\n",
    "p2 = sp.solve(f2,(x1,v1,x2,v2))\n",
    "\n",
    "display(p1)\n",
    "display(p2)"
   ]
  },
  {
   "cell_type": "code",
   "execution_count": 7,
   "id": "81655891",
   "metadata": {},
   "outputs": [
    {
     "data": {
      "text/latex": [
       "$\\displaystyle \\left[\\begin{matrix}-1 & - \\frac{b}{\\tau} & - \\frac{a}{\\tau} & 0\\\\\\frac{1}{T} & - \\frac{1}{T} & 0 & 0\\\\- \\frac{a}{\\tau} & 0 & -1 & - \\frac{b}{\\tau}\\\\0 & 0 & \\frac{1}{T} & - \\frac{1}{T}\\end{matrix}\\right]$"
      ],
      "text/plain": [
       "Matrix([\n",
       "[    -1, -b/tau, -a/tau,      0],\n",
       "[   1/T,   -1/T,      0,      0],\n",
       "[-a/tau,      0,     -1, -b/tau],\n",
       "[     0,      0,    1/T,   -1/T]])"
      ]
     },
     "metadata": {},
     "output_type": "display_data"
    },
    {
     "data": {
      "text/latex": [
       "$\\displaystyle \\left[\\begin{matrix}-1 & - \\frac{b}{\\tau} & - \\frac{a}{\\tau} & 0\\\\\\frac{1}{T} & - \\frac{1}{T} & 0 & 0\\\\- \\frac{a}{\\tau} & 0 & -1 & - \\frac{b}{\\tau}\\\\0 & 0 & \\frac{1}{T} & - \\frac{1}{T}\\end{matrix}\\right]$"
      ],
      "text/plain": [
       "Matrix([\n",
       "[    -1, -b/tau, -a/tau,      0],\n",
       "[   1/T,   -1/T,      0,      0],\n",
       "[-a/tau,      0,     -1, -b/tau],\n",
       "[     0,      0,    1/T,   -1/T]])"
      ]
     },
     "metadata": {},
     "output_type": "display_data"
    }
   ],
   "source": [
    "A1 = f1.jacobian((x1,v1,x2,v2)).subs([(x1,p1[x1]),(v1,p1[v1]),(x2,p1[x2]),(v2,p1[v2])])\n",
    "A2 = f1.jacobian((x1,v1,x2,v2)).subs([(x1,p2[x1]),(v1,p2[v1]),(x2,p2[x2]),(v2,p2[v2])])\n",
    "\n",
    "display(A1)\n",
    "display(A2)"
   ]
  },
  {
   "cell_type": "code",
   "execution_count": 12,
   "id": "b1011606",
   "metadata": {},
   "outputs": [
    {
     "data": {
      "text/latex": [
       "$\\displaystyle \\operatorname{PurePoly}{\\left( l^{4} + \\frac{2 T + 2}{T} l^{3} + \\frac{- T^{2} a^{2} + T^{2} \\tau^{2} + 2 T b \\tau + 4 T \\tau^{2} + \\tau^{2}}{T^{2} \\tau^{2}} l^{2} + \\frac{- 2 T a^{2} + 2 T b \\tau + 2 T \\tau^{2} + 2 b \\tau + 2 \\tau^{2}}{T^{2} \\tau^{2}} l + \\frac{- a^{2} + b^{2} + 2 b \\tau + \\tau^{2}}{T^{2} \\tau^{2}}, l, domain=\\mathbb{Z}\\left(a, b, T, \\tau\\right) \\right)}$"
      ],
      "text/plain": [
       "PurePoly(l**4 + (2*T + 2)/T*l**3 + (-T**2*a**2 + T**2*tau**2 + 2*T*b*tau + 4*T*tau**2 + tau**2)/(T**2*tau**2)*l**2 + (-2*T*a**2 + 2*T*b*tau + 2*T*tau**2 + 2*b*tau + 2*tau**2)/(T**2*tau**2)*l + (-a**2 + b**2 + 2*b*tau + tau**2)/(T**2*tau**2), l, domain='ZZ(a,b,T,tau)')"
      ]
     },
     "execution_count": 12,
     "metadata": {},
     "output_type": "execute_result"
    }
   ],
   "source": [
    "l = sp.symbols(\"l\")\n",
    "charp1 = A1.charpoly(l)\n",
    "charp2 = A1.charpoly(l)\n",
    "charp1"
   ]
  },
  {
   "cell_type": "code",
   "execution_count": 37,
   "id": "88475917",
   "metadata": {},
   "outputs": [],
   "source": [
    "# Numerical Function\n",
    "def q_dot(t,x,args):\n",
    "    x1, v1, x2, v2, = x\n",
    "    T, tau, a, b, c = args;\n",
    "    return np.array([1/tau*(c-a*np.maximum(0,x2)-b*v1)-x1,\n",
    "                     1/T*(np.maximum(0,x1)-v1),\n",
    "                     1/tau*(c-a*np.maximum(0,x1)-b*v2)-x2,\n",
    "                     1/T*(np.maximum(0,x2)-v2)])"
   ]
  },
  {
   "cell_type": "code",
   "execution_count": 91,
   "id": "48b65b52",
   "metadata": {},
   "outputs": [
    {
     "data": {
      "text/plain": [
       "array([0.11764706, 0.11764706, 0.11764706, 0.11764706])"
      ]
     },
     "execution_count": 91,
     "metadata": {},
     "output_type": "execute_result"
    }
   ],
   "source": [
    "arg = [2.5,2.5,1.5,0.25,0.5]\n",
    "fsolve(lambda x: q_dot(1,x,arg),[0,0,0,0])"
   ]
  },
  {
   "cell_type": "code",
   "execution_count": 94,
   "id": "3e759758",
   "metadata": {},
   "outputs": [
    {
     "data": {
      "text/plain": [
       "[<matplotlib.lines.Line2D at 0x14478d910>]"
      ]
     },
     "execution_count": 94,
     "metadata": {},
     "output_type": "execute_result"
    },
    {
     "data": {
      "image/png": "[encoded data removed]",
      "text/plain": [
       "<Figure size 640x480 with 1 Axes>"
      ]
     },
     "metadata": {},
     "output_type": "display_data"
    }
   ],
   "source": [
    "x0 = [[1,0,0,0]]\n",
    "t = np.linspace(0,10,100)\n",
    "s = []\n",
    "for i in range(len(x0)):\n",
    "    s.append(solve_ivp(q_dot, [0, max(t)],x0[i], args=[arg], t_eval=t).y)\n",
    "\n",
    "plt.plot(t,s[0][0])\n",
    "plt.plot(t,s[0][1])\n",
    "plt.plot(t,s[0][2])\n",
    "plt.plot(t,s[0][3])"
   ]
  },
  {
   "cell_type": "code",
   "execution_count": 12,
   "id": "b94dcb07",
   "metadata": {},
   "outputs": [],
   "source": [
    "# def plot_system(f,t,arg,x0,xlims,ylims,res):\n",
    "    \n",
    "#     s = []\n",
    "#     for i in range(len(x0)):\n",
    "#         s.append(solve_ivp(f, [0, max(t)],x0[i], args=[arg], t_eval=t).y)\n",
    "        \n",
    "#     xmin,xmax, = xlims\n",
    "#     ymin,ymax, = ylims\n",
    "    \n",
    "#     x = np.linspace(xmin,xmax,res)\n",
    "#     y = np.linspace(ymin,ymax,res)\n",
    "    \n",
    "#     X, Y = np.meshgrid(x,y)\n",
    "#     XY = [X, Y]\n",
    "\n",
    "#     UV = f(t,XY,args)\n",
    "#     U, V = UV\n",
    "    \n",
    "#     mag = sqrt(np.power(U,2) + np.power(V,2))\n",
    "#     Uhat = np.divide(U, mag, out=np.zeros_like(U),where=mag!=0)\n",
    "#     Vhat = np.divide(V, mag, out=np.zeros_like(U),where=mag!=0)\n",
    "    \n",
    "#     fig = plt.figure(figsize=(12,4))\n",
    "    \n",
    "#     gs0 = gridspec.GridSpec(1, 1, figure=fig)\n",
    "    \n",
    "#     gs00 = gridspec.GridSpecFromSubplotSpec(2, 2, subplot_spec=gs0[0])\n",
    "\n",
    "#     ax1 = fig.add_subplot(gs00[:, :-1])\n",
    "#     ax2 = fig.add_subplot(gs00[-0, -1])\n",
    "#     ax3 = fig.add_subplot(gs00[-1, -1])\n",
    "\n",
    "#     ax1.quiver(X,Y,Uhat,Vhat)\n",
    "#     ax1.plot(s1[0,:],s1[1,:])\n",
    "#     ax1.plot(s2[0,:],s2[1,:])\n",
    "#     ax1.plot(s3[0,:],s3[1,:])\n",
    "#     ax1.set_xlim([xmin,xmax])\n",
    "#     ax1.set_ylim([ymin,ymax])\n",
    "#     ax2.plot(t,s1[0])\n",
    "#     ax2.plot(t,s2[0])\n",
    "#     ax2.plot(t,s3[0])\n",
    "#     ax3.plot(t,s1[1])\n",
    "#     ax3.plot(t,s2[1])\n",
    "#     ax3.plot(t,s3[1])\n",
    "#     return [ax1, ax2, ax3]"
   ]
  },
  {
   "cell_type": "code",
   "execution_count": 26,
   "id": "6449d14b",
   "metadata": {},
   "outputs": [
    {
     "ename": "ValueError",
     "evalue": "not enough values to unpack (expected 4, got 2)",
     "output_type": "error",
     "traceback": [
      "\u001b[0;31m---------------------------------------------------------------------------\u001b[0m",
      "\u001b[0;31mValueError\u001b[0m                                Traceback (most recent call last)",
      "Cell \u001b[0;32mIn[26], line 8\u001b[0m\n\u001b[1;32m      5\u001b[0m ylims \u001b[38;5;241m=\u001b[39m [\u001b[38;5;241m-\u001b[39m\u001b[38;5;241m10\u001b[39m,\u001b[38;5;241m10\u001b[39m]\n\u001b[1;32m      6\u001b[0m res \u001b[38;5;241m=\u001b[39m \u001b[38;5;241m50\u001b[39m\n\u001b[0;32m----> 8\u001b[0m plot_system(q_dot,t,args,x0,xlims,ylims,res)\n",
      "Cell \u001b[0;32mIn[12], line 16\u001b[0m, in \u001b[0;36mplot_system\u001b[0;34m(f, t, arg, x0, xlims, ylims, res)\u001b[0m\n\u001b[1;32m     13\u001b[0m X, Y \u001b[38;5;241m=\u001b[39m np\u001b[38;5;241m.\u001b[39mmeshgrid(x,y)\n\u001b[1;32m     14\u001b[0m XY \u001b[38;5;241m=\u001b[39m [X, Y]\n\u001b[0;32m---> 16\u001b[0m UV \u001b[38;5;241m=\u001b[39m f(t,XY,args)\n\u001b[1;32m     17\u001b[0m U, V \u001b[38;5;241m=\u001b[39m UV\n\u001b[1;32m     19\u001b[0m mag \u001b[38;5;241m=\u001b[39m sqrt(np\u001b[38;5;241m.\u001b[39mpower(U,\u001b[38;5;241m2\u001b[39m) \u001b[38;5;241m+\u001b[39m np\u001b[38;5;241m.\u001b[39mpower(V,\u001b[38;5;241m2\u001b[39m))\n",
      "Cell \u001b[0;32mIn[24], line 2\u001b[0m, in \u001b[0;36mq_dot\u001b[0;34m(t, x, args)\u001b[0m\n\u001b[1;32m      1\u001b[0m \u001b[38;5;28;01mdef\u001b[39;00m \u001b[38;5;21mq_dot\u001b[39m(t,x,args):\n\u001b[0;32m----> 2\u001b[0m     x1, v1, x2, v2, \u001b[38;5;241m=\u001b[39m x\n\u001b[1;32m      3\u001b[0m     T, tau, a, b, c \u001b[38;5;241m=\u001b[39m args;\n\u001b[1;32m      4\u001b[0m     \u001b[38;5;28;01mreturn\u001b[39;00m np\u001b[38;5;241m.\u001b[39marray([\u001b[38;5;241m1\u001b[39m\u001b[38;5;241m/\u001b[39mtau\u001b[38;5;241m*\u001b[39m(c\u001b[38;5;241m-\u001b[39ma\u001b[38;5;241m*\u001b[39mnp\u001b[38;5;241m.\u001b[39mmaximum(\u001b[38;5;241m0\u001b[39m,x2)\u001b[38;5;241m-\u001b[39mb\u001b[38;5;241m*\u001b[39mv1)\u001b[38;5;241m-\u001b[39mx1,\n\u001b[1;32m      5\u001b[0m                       \u001b[38;5;241m1\u001b[39m\u001b[38;5;241m/\u001b[39mT\u001b[38;5;241m*\u001b[39m(np\u001b[38;5;241m.\u001b[39mmaximum(\u001b[38;5;241m0\u001b[39m,x1)\u001b[38;5;241m-\u001b[39mv1),\n\u001b[1;32m      6\u001b[0m                       \u001b[38;5;241m1\u001b[39m\u001b[38;5;241m/\u001b[39mtau\u001b[38;5;241m*\u001b[39m(c\u001b[38;5;241m-\u001b[39ma\u001b[38;5;241m*\u001b[39mnp\u001b[38;5;241m.\u001b[39mmaximum(\u001b[38;5;241m0\u001b[39m,x1)\u001b[38;5;241m-\u001b[39mb\u001b[38;5;241m*\u001b[39mv2)\u001b[38;5;241m-\u001b[39mx2,\n\u001b[1;32m      7\u001b[0m                       \u001b[38;5;241m1\u001b[39m\u001b[38;5;241m/\u001b[39mT\u001b[38;5;241m*\u001b[39m(np\u001b[38;5;241m.\u001b[39mmaximum(\u001b[38;5;241m0\u001b[39m,x2)\u001b[38;5;241m-\u001b[39mv2)])\n",
      "\u001b[0;31mValueError\u001b[0m: not enough values to unpack (expected 4, got 2)"
     ]
    }
   ],
   "source": [
    "t = np.linspace(1,10,10)\n",
    "args = [1,1,1,1,1]\n",
    "x0 = [[0,0,0,0]]\n",
    "xlims = [-10,10]\n",
    "ylims = [-10,10]\n",
    "res = 50\n",
    "\n",
    "\n",
    "# plot_system(q_dot,t,args,x0,xlims,ylims,res)"
   ]
  },
  {
   "cell_type": "code",
   "execution_count": 5,
   "id": "0ee68ae1",
   "metadata": {},
   "outputs": [
    {
     "data": {
      "text/plain": [
       "3"
      ]
     },
     "execution_count": 5,
     "metadata": {},
     "output_type": "execute_result"
    }
   ],
   "source": [
    "len(a)"
   ]
  },
  {
   "cell_type": "code",
   "execution_count": null,
   "id": "e35bd7fb",
   "metadata": {},
   "outputs": [],
   "source": []
  }
 ],
 "metadata": {
  "kernelspec": {
   "display_name": "Python 3 (ipykernel)",
   "language": "python",
   "name": "python3"
  },
  "language_info": {
   "codemirror_mode": {
    "name": "ipython",
    "version": 3
   },
   "file_extension": ".py",
   "mimetype": "text/x-python",
   "name": "python",
   "nbconvert_exporter": "python",
   "pygments_lexer": "ipython3",
   "version": "3.11.5"
  }
 },
 "nbformat": 4,
 "nbformat_minor": 5
}
