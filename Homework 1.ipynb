{
 "cells": [
  {
   "cell_type": "code",
   "execution_count": 7,
   "id": "0f69b669",
   "metadata": {},
   "outputs": [],
   "source": [
    "import numpy as np\n",
    "import sympy as sp \n",
    "import matplotlib as mpl\n",
    "import matplotlib.pyplot as plt"
   ]
  },
  {
   "cell_type": "code",
   "execution_count": 2,
   "id": "eac15a9e",
   "metadata": {},
   "outputs": [],
   "source": [
    "%qtconsole"
   ]
  },
  {
   "cell_type": "code",
   "execution_count": 4,
   "id": "21dd0356",
   "metadata": {},
   "outputs": [],
   "source": [
    "## Problem 1\n",
    "# (a) A function for generating a random rotation matrix\n",
    "\n",
    "def Rx(theta):\n",
    "    return np.array([[1, 0, 0],\n",
    "                     [0,np.cos(theta), -np.sin(theta)],\n",
    "                     [0,np.sin(theta), np.cos(theta)]])\n",
    "def Ry(theta):\n",
    "    return np.array([[np.cos(theta), 0, -np.sin(theta)],\n",
    "                     [0, 1, 0],\n",
    "                     [np.sin(theta), 0, np.cos(theta)]])\n",
    "def Rz(theta):\n",
    "    return np.array([[np.cos(theta), -np.sin(theta), 0],\n",
    "                     [np.sin(theta), np.cos(theta),0],\n",
    "                     [0,0,1]])\n",
    "def RR():\n",
    "    alpha = np.random.rand()*2*np.pi; # Three random angles\n",
    "    beta = np.random.rand()*2*np.pi;\n",
    "    gamma = np.random.rand()*2*np.pi;\n",
    "    R1 = Rx(alpha)                    # Random Rotations about XYZ\n",
    "    R2 = Ry(beta)\n",
    "    R3 = Rz(gamma)\n",
    "    return R1 @ R2 @ R3"
   ]
  },
  {
   "cell_type": "code",
   "execution_count": 37,
   "id": "df8282f4",
   "metadata": {},
   "outputs": [],
   "source": [
    "# (b) Generating 9 random rotation matricies and finding their determinates\n",
    "\n",
    "R1 = RR()                    # 9 random rotation matricies\n",
    "R2 = RR()\n",
    "R3 = RR()\n",
    "R4 = RR()                   \n",
    "R5 = RR()\n",
    "R6 = RR()\n",
    "R7 = RR()                   \n",
    "R8 = RR()\n",
    "R9 = RR()\n",
    "\n",
    "det1 = np.linalg.det(R1)    # The determinate of each\n",
    "det2 = np.linalg.det(R2)\n",
    "det3 = np.linalg.det(R3)\n",
    "det4 = np.linalg.det(R4)\n",
    "det5 = np.linalg.det(R5)\n",
    "det6 = np.linalg.det(R6)\n",
    "det7 = np.linalg.det(R7)\n",
    "det8 = np.linalg.det(R8)\n",
    "det9 = np.linalg.det(R9)"
   ]
  },
  {
   "cell_type": "code",
   "execution_count": 1,
   "id": "9a91e3dc",
   "metadata": {},
   "outputs": [],
   "source": [
    "import matplotlib as mpl\n",
    "import matplotlib.pyplot as plt"
   ]
  },
  {
   "cell_type": "code",
   "execution_count": 39,
   "id": "a0f8ca70",
   "metadata": {},
   "outputs": [
    {
     "data": {
      "image/png": "[encoded data removed]",
      "text/plain": [
       "<Figure size 640x480 with 9 Axes>"
      ]
     },
     "metadata": {},
     "output_type": "display_data"
    }
   ],
   "source": [
    "# (c) Plotting the 9 random matricies and titling each plot with the determinate \n",
    "\n",
    "fig, ax = plt.subplots(3,3);\n",
    "ax[0,0].imshow(R1)\n",
    "ax[0,0].set_title(\"%.4f\" % det1);\n",
    "ax[1,0].imshow(R2)\n",
    "ax[1,0].set_title(\"%.4f\" % det2);\n",
    "ax[2,0].imshow(R3)\n",
    "ax[2,0].set_title(\"%.4f\" % det3);\n",
    "ax[0,1].imshow(R4)\n",
    "ax[0,1].set_title(\"%.4f\" % det4);\n",
    "ax[1,1].imshow(R5)\n",
    "ax[1,1].set_title(\"%.4f\" % det5);\n",
    "ax[2,1].imshow(R6)\n",
    "ax[2,1].set_title(\"%.4f\" % det6);\n",
    "ax[0,2].imshow(R7)\n",
    "ax[0,2].set_title(\"%.4f\" % det7);\n",
    "ax[1,2].imshow(R8)\n",
    "ax[1,2].set_title(\"%.4f\" % det8);\n",
    "ax[2,2].imshow(R9)\n",
    "ax[2,2].set_title(\"%.4f\" % det9);\n",
    "fig.tight_layout(pad=1)\n"
   ]
  },
  {
   "cell_type": "code",
   "execution_count": 260,
   "id": "8eeab1df",
   "metadata": {},
   "outputs": [
    {
     "data": {
      "text/plain": [
       "True"
      ]
     },
     "execution_count": 260,
     "metadata": {},
     "output_type": "execute_result"
    }
   ],
   "source": [
    "## Problem 2\n",
    "theta = np.random.rand()*2*np.pi\n",
    "R = Rx(theta)\n",
    "v = np.random.rand(3,1)\n",
    "u = R @ v\n",
    "mag_v = np.linalg.norm(v)\n",
    "mag_u = np.linalg.norm(u)\n",
    "mag_u == mag_v"
   ]
  },
  {
   "cell_type": "code",
   "execution_count": 8,
   "id": "73629343",
   "metadata": {},
   "outputs": [],
   "source": [
    "## Problem 3\n",
    "# (a) Function for plotting SE3 transformation matrix\n",
    "\n",
    "# Generates a random SE3 transformation matrix\n",
    "def RT():\n",
    "    R = RR()\n",
    "    V = np.random.rand(3,1)*2-1\n",
    "   \n",
    "    return np.vstack((np.hstack((R,V)),[0,0,0,1]))\n",
    "\n",
    "# Takes transformation matrix T and plots it \n",
    "def plot_SE3(T):\n",
    "    l = 0.5;\n",
    "    e1 = T[0:3,0:3] @ np.array([1,0,0]).transpose()\n",
    "    e2 = T[0:3,0:3] @ np.array([0,1,0]).transpose()\n",
    "    e3 = T[0:3,0:3] @ np.array([0,0,1]).transpose()\n",
    "    ax = plt.figure().add_subplot(projection='3d')\n",
    "    ax.quiver(0,0,0,T[0,3],T[1,3],T[2,3],color=\"black\");\n",
    "    ax.quiver(T[0,3],T[1,3],T[2,3],e1[0],e1[1],e1[2],color=\"red\",length=l,normalize=True,);\n",
    "    ax.quiver(T[0,3],T[1,3],T[2,3],e2[0],e2[1],e2[2],color=\"green\",length=l,normalize=True,);\n",
    "    ax.quiver(T[0,3],T[1,3],T[2,3],e3[0],e3[1],e3[2],color=\"blue\",length=l,normalize=True,);\n",
    "    ax.set_xlim((-1,1))\n",
    "    ax.set_ylim((-1,1))\n",
    "    ax.set_zlim((-1,1))\n",
    "    ax.set_xticks([]) \n",
    "    ax.set_yticks([]) \n",
    "    ax.set_zticks([]) \n",
    "    return "
   ]
  },
  {
   "cell_type": "code",
   "execution_count": 9,
   "id": "62bfe3b6",
   "metadata": {},
   "outputs": [
    {
     "data": {
      "image/png": "[encoded data removed]",
      "text/plain": [
       "<Figure size 640x480 with 1 Axes>"
      ]
     },
     "metadata": {},
     "output_type": "display_data"
    }
   ],
   "source": [
    "T = RT();\n",
    "plot_SE3(T)"
   ]
  },
  {
   "cell_type": "code",
   "execution_count": 44,
   "id": "5fa86d7a",
   "metadata": {},
   "outputs": [
    {
     "data": {
      "text/plain": [
       "True"
      ]
     },
     "execution_count": 44,
     "metadata": {},
     "output_type": "execute_result"
    }
   ],
   "source": [
    "# (b) Transforming a Vector with T\n",
    "\n",
    "u = np.vstack([np.random.rand(3,1)*2-1,1]) - np.array([[0],[0],[0],[0]])\n",
    "v = T @ u \n",
    "\n",
    "c = v.transpose() - np.array([T[0,3],T[1,3],T[2,3],0]) # Vector V relative to coordinate frame of T\n",
    "\n",
    "mag_u = np.linalg.norm(u)\n",
    "mag_v = np.linalg.norm(c)\n",
    "\n",
    "mag_u == mag_v"
   ]
  },
  {
   "cell_type": "code",
   "execution_count": 17,
   "id": "652902af",
   "metadata": {
    "scrolled": true
   },
   "outputs": [
    {
     "data": {
      "text/latex": [
       "$\\displaystyle \\left[\\begin{matrix}- \\sin{\\left(\\alpha{\\left(t \\right)} \\right)} \\sin{\\left(\\gamma{\\left(t \\right)} \\right)} + \\cos{\\left(\\alpha{\\left(t \\right)} \\right)} \\cos{\\left(\\beta{\\left(t \\right)} \\right)} \\cos{\\left(\\gamma{\\left(t \\right)} \\right)} & - \\sin{\\left(\\alpha{\\left(t \\right)} \\right)} \\cos{\\left(\\gamma{\\left(t \\right)} \\right)} - \\sin{\\left(\\gamma{\\left(t \\right)} \\right)} \\cos{\\left(\\alpha{\\left(t \\right)} \\right)} \\cos{\\left(\\beta{\\left(t \\right)} \\right)} & - \\sin{\\left(\\beta{\\left(t \\right)} \\right)} \\cos{\\left(\\alpha{\\left(t \\right)} \\right)}\\\\\\sin{\\left(\\alpha{\\left(t \\right)} \\right)} \\cos{\\left(\\beta{\\left(t \\right)} \\right)} \\cos{\\left(\\gamma{\\left(t \\right)} \\right)} + \\sin{\\left(\\gamma{\\left(t \\right)} \\right)} \\cos{\\left(\\alpha{\\left(t \\right)} \\right)} & - \\sin{\\left(\\alpha{\\left(t \\right)} \\right)} \\sin{\\left(\\gamma{\\left(t \\right)} \\right)} \\cos{\\left(\\beta{\\left(t \\right)} \\right)} + \\cos{\\left(\\alpha{\\left(t \\right)} \\right)} \\cos{\\left(\\gamma{\\left(t \\right)} \\right)} & - \\sin{\\left(\\alpha{\\left(t \\right)} \\right)} \\sin{\\left(\\beta{\\left(t \\right)} \\right)}\\\\\\sin{\\left(\\beta{\\left(t \\right)} \\right)} \\cos{\\left(\\gamma{\\left(t \\right)} \\right)} & - \\sin{\\left(\\beta{\\left(t \\right)} \\right)} \\sin{\\left(\\gamma{\\left(t \\right)} \\right)} & \\cos{\\left(\\beta{\\left(t \\right)} \\right)}\\end{matrix}\\right]$"
      ],
      "text/plain": [
       "Matrix([\n",
       "[-sin(alpha(t))*sin(gamma(t)) + cos(alpha(t))*cos(beta(t))*cos(gamma(t)), -sin(alpha(t))*cos(gamma(t)) - sin(gamma(t))*cos(alpha(t))*cos(beta(t)), -sin(beta(t))*cos(alpha(t))],\n",
       "[ sin(alpha(t))*cos(beta(t))*cos(gamma(t)) + sin(gamma(t))*cos(alpha(t)), -sin(alpha(t))*sin(gamma(t))*cos(beta(t)) + cos(alpha(t))*cos(gamma(t)), -sin(alpha(t))*sin(beta(t))],\n",
       "[                                             sin(beta(t))*cos(gamma(t)),                                             -sin(beta(t))*sin(gamma(t)),                cos(beta(t))]])"
      ]
     },
     "execution_count": 17,
     "metadata": {},
     "output_type": "execute_result"
    }
   ],
   "source": [
    "## Problem 4\n",
    "import sympy\n",
    "from sympy import simplify, Function\n",
    "from sympy import symbols, pprint\n",
    "from sympy import sin, cos, asin, acos, pi\n",
    "from sympy import Matrix, diff\n",
    "(t, \n",
    " alpha, \n",
    " gamma, \n",
    " beta) = symbols(\"\"\"t, \n",
    "                    alpha(t),\n",
    "                    gamma(t),\n",
    "                    beta(t)\"\"\" , real = True)\n",
    "\n",
    "theta = Function('theta', real=True)(t)\n",
    "alpha = Function('alpha', real=True)(t)\n",
    "beta = Function('beta', real=True)(t)\n",
    "gamma = Function('gamma', real=True)(t)\n",
    "\n",
    "\n",
    "def R_x(theta):\n",
    "    return Matrix([[1, 0, 0],\n",
    "                   [0, cos(theta), -sin(theta)], \n",
    "                   [0, sin(theta), cos(theta)]])\n",
    "\n",
    "def R_y(theta):\n",
    "    return Matrix([[cos(theta), 0, -sin(theta)],\n",
    "                                      [0, 1, 0],\n",
    "                   [sin(theta), 0, cos(theta)]])\n",
    "def R_z(theta):\n",
    "    return Matrix([[cos(theta), -sin(theta), 0], \n",
    "                   [sin(theta), cos(theta), 0],\n",
    "                   [0, 0, 1]])"
   ]
  },
  {
   "cell_type": "code",
   "execution_count": null,
   "id": "52e8942f",
   "metadata": {},
   "outputs": [],
   "source": [
    "R_xyz = R_z(alpha) @ R_y(beta) @ R_z(gamma)\n",
    "R_z(alpha) @ R_y(beta) @ R_z(gamma)"
   ]
  },
  {
   "cell_type": "code",
   "execution_count": 15,
   "id": "86d4cec1",
   "metadata": {},
   "outputs": [
    {
     "data": {
      "text/latex": [
       "$\\displaystyle \\left[\\begin{matrix}- \\sin{\\left(\\alpha{\\left(t \\right)} \\right)} \\cos{\\left(\\beta{\\left(t \\right)} \\right)} \\cos{\\left(\\gamma{\\left(t \\right)} \\right)} \\frac{d}{d t} \\alpha{\\left(t \\right)} - \\sin{\\left(\\alpha{\\left(t \\right)} \\right)} \\cos{\\left(\\gamma{\\left(t \\right)} \\right)} \\frac{d}{d t} \\gamma{\\left(t \\right)} - \\sin{\\left(\\beta{\\left(t \\right)} \\right)} \\cos{\\left(\\alpha{\\left(t \\right)} \\right)} \\cos{\\left(\\gamma{\\left(t \\right)} \\right)} \\frac{d}{d t} \\beta{\\left(t \\right)} - \\sin{\\left(\\gamma{\\left(t \\right)} \\right)} \\cos{\\left(\\alpha{\\left(t \\right)} \\right)} \\cos{\\left(\\beta{\\left(t \\right)} \\right)} \\frac{d}{d t} \\gamma{\\left(t \\right)} - \\sin{\\left(\\gamma{\\left(t \\right)} \\right)} \\cos{\\left(\\alpha{\\left(t \\right)} \\right)} \\frac{d}{d t} \\alpha{\\left(t \\right)} & \\sin{\\left(\\alpha{\\left(t \\right)} \\right)} \\sin{\\left(\\gamma{\\left(t \\right)} \\right)} \\cos{\\left(\\beta{\\left(t \\right)} \\right)} \\frac{d}{d t} \\alpha{\\left(t \\right)} + \\sin{\\left(\\alpha{\\left(t \\right)} \\right)} \\sin{\\left(\\gamma{\\left(t \\right)} \\right)} \\frac{d}{d t} \\gamma{\\left(t \\right)} + \\sin{\\left(\\beta{\\left(t \\right)} \\right)} \\sin{\\left(\\gamma{\\left(t \\right)} \\right)} \\cos{\\left(\\alpha{\\left(t \\right)} \\right)} \\frac{d}{d t} \\beta{\\left(t \\right)} - \\cos{\\left(\\alpha{\\left(t \\right)} \\right)} \\cos{\\left(\\beta{\\left(t \\right)} \\right)} \\cos{\\left(\\gamma{\\left(t \\right)} \\right)} \\frac{d}{d t} \\gamma{\\left(t \\right)} - \\cos{\\left(\\alpha{\\left(t \\right)} \\right)} \\cos{\\left(\\gamma{\\left(t \\right)} \\right)} \\frac{d}{d t} \\alpha{\\left(t \\right)} & \\sin{\\left(\\alpha{\\left(t \\right)} \\right)} \\sin{\\left(\\beta{\\left(t \\right)} \\right)} \\frac{d}{d t} \\alpha{\\left(t \\right)} - \\cos{\\left(\\alpha{\\left(t \\right)} \\right)} \\cos{\\left(\\beta{\\left(t \\right)} \\right)} \\frac{d}{d t} \\beta{\\left(t \\right)}\\\\- \\sin{\\left(\\alpha{\\left(t \\right)} \\right)} \\sin{\\left(\\beta{\\left(t \\right)} \\right)} \\cos{\\left(\\gamma{\\left(t \\right)} \\right)} \\frac{d}{d t} \\beta{\\left(t \\right)} - \\sin{\\left(\\alpha{\\left(t \\right)} \\right)} \\sin{\\left(\\gamma{\\left(t \\right)} \\right)} \\cos{\\left(\\beta{\\left(t \\right)} \\right)} \\frac{d}{d t} \\gamma{\\left(t \\right)} - \\sin{\\left(\\alpha{\\left(t \\right)} \\right)} \\sin{\\left(\\gamma{\\left(t \\right)} \\right)} \\frac{d}{d t} \\alpha{\\left(t \\right)} + \\cos{\\left(\\alpha{\\left(t \\right)} \\right)} \\cos{\\left(\\beta{\\left(t \\right)} \\right)} \\cos{\\left(\\gamma{\\left(t \\right)} \\right)} \\frac{d}{d t} \\alpha{\\left(t \\right)} + \\cos{\\left(\\alpha{\\left(t \\right)} \\right)} \\cos{\\left(\\gamma{\\left(t \\right)} \\right)} \\frac{d}{d t} \\gamma{\\left(t \\right)} & \\sin{\\left(\\alpha{\\left(t \\right)} \\right)} \\sin{\\left(\\beta{\\left(t \\right)} \\right)} \\sin{\\left(\\gamma{\\left(t \\right)} \\right)} \\frac{d}{d t} \\beta{\\left(t \\right)} - \\sin{\\left(\\alpha{\\left(t \\right)} \\right)} \\cos{\\left(\\beta{\\left(t \\right)} \\right)} \\cos{\\left(\\gamma{\\left(t \\right)} \\right)} \\frac{d}{d t} \\gamma{\\left(t \\right)} - \\sin{\\left(\\alpha{\\left(t \\right)} \\right)} \\cos{\\left(\\gamma{\\left(t \\right)} \\right)} \\frac{d}{d t} \\alpha{\\left(t \\right)} - \\sin{\\left(\\gamma{\\left(t \\right)} \\right)} \\cos{\\left(\\alpha{\\left(t \\right)} \\right)} \\cos{\\left(\\beta{\\left(t \\right)} \\right)} \\frac{d}{d t} \\alpha{\\left(t \\right)} - \\sin{\\left(\\gamma{\\left(t \\right)} \\right)} \\cos{\\left(\\alpha{\\left(t \\right)} \\right)} \\frac{d}{d t} \\gamma{\\left(t \\right)} & - \\sin{\\left(\\alpha{\\left(t \\right)} \\right)} \\cos{\\left(\\beta{\\left(t \\right)} \\right)} \\frac{d}{d t} \\beta{\\left(t \\right)} - \\sin{\\left(\\beta{\\left(t \\right)} \\right)} \\cos{\\left(\\alpha{\\left(t \\right)} \\right)} \\frac{d}{d t} \\alpha{\\left(t \\right)}\\\\- \\sin{\\left(\\beta{\\left(t \\right)} \\right)} \\sin{\\left(\\gamma{\\left(t \\right)} \\right)} \\frac{d}{d t} \\gamma{\\left(t \\right)} + \\cos{\\left(\\beta{\\left(t \\right)} \\right)} \\cos{\\left(\\gamma{\\left(t \\right)} \\right)} \\frac{d}{d t} \\beta{\\left(t \\right)} & - \\sin{\\left(\\beta{\\left(t \\right)} \\right)} \\cos{\\left(\\gamma{\\left(t \\right)} \\right)} \\frac{d}{d t} \\gamma{\\left(t \\right)} - \\sin{\\left(\\gamma{\\left(t \\right)} \\right)} \\cos{\\left(\\beta{\\left(t \\right)} \\right)} \\frac{d}{d t} \\beta{\\left(t \\right)} & - \\sin{\\left(\\beta{\\left(t \\right)} \\right)} \\frac{d}{d t} \\beta{\\left(t \\right)}\\end{matrix}\\right]$"
      ],
      "text/plain": [
       "Matrix([\n",
       "[-sin(alpha(t))*cos(beta(t))*cos(gamma(t))*Derivative(alpha(t), t) - sin(alpha(t))*cos(gamma(t))*Derivative(gamma(t), t) - sin(beta(t))*cos(alpha(t))*cos(gamma(t))*Derivative(beta(t), t) - sin(gamma(t))*cos(alpha(t))*cos(beta(t))*Derivative(gamma(t), t) - sin(gamma(t))*cos(alpha(t))*Derivative(alpha(t), t), sin(alpha(t))*sin(gamma(t))*cos(beta(t))*Derivative(alpha(t), t) + sin(alpha(t))*sin(gamma(t))*Derivative(gamma(t), t) + sin(beta(t))*sin(gamma(t))*cos(alpha(t))*Derivative(beta(t), t) - cos(alpha(t))*cos(beta(t))*cos(gamma(t))*Derivative(gamma(t), t) - cos(alpha(t))*cos(gamma(t))*Derivative(alpha(t), t),  sin(alpha(t))*sin(beta(t))*Derivative(alpha(t), t) - cos(alpha(t))*cos(beta(t))*Derivative(beta(t), t)],\n",
       "[-sin(alpha(t))*sin(beta(t))*cos(gamma(t))*Derivative(beta(t), t) - sin(alpha(t))*sin(gamma(t))*cos(beta(t))*Derivative(gamma(t), t) - sin(alpha(t))*sin(gamma(t))*Derivative(alpha(t), t) + cos(alpha(t))*cos(beta(t))*cos(gamma(t))*Derivative(alpha(t), t) + cos(alpha(t))*cos(gamma(t))*Derivative(gamma(t), t), sin(alpha(t))*sin(beta(t))*sin(gamma(t))*Derivative(beta(t), t) - sin(alpha(t))*cos(beta(t))*cos(gamma(t))*Derivative(gamma(t), t) - sin(alpha(t))*cos(gamma(t))*Derivative(alpha(t), t) - sin(gamma(t))*cos(alpha(t))*cos(beta(t))*Derivative(alpha(t), t) - sin(gamma(t))*cos(alpha(t))*Derivative(gamma(t), t), -sin(alpha(t))*cos(beta(t))*Derivative(beta(t), t) - sin(beta(t))*cos(alpha(t))*Derivative(alpha(t), t)],\n",
       "[                                                                                                                                                                                                           -sin(beta(t))*sin(gamma(t))*Derivative(gamma(t), t) + cos(beta(t))*cos(gamma(t))*Derivative(beta(t), t),                                                                                                                                                                                                           -sin(beta(t))*cos(gamma(t))*Derivative(gamma(t), t) - sin(gamma(t))*cos(beta(t))*Derivative(beta(t), t),                                                                    -sin(beta(t))*Derivative(beta(t), t)]])"
      ]
     },
     "execution_count": 15,
     "metadata": {},
     "output_type": "execute_result"
    }
   ],
   "source": [
    "diff(R_xyz, t)"
   ]
  },
  {
   "cell_type": "code",
   "execution_count": null,
   "id": "466c427c",
   "metadata": {},
   "outputs": [],
   "source": []
  }
 ],
 "metadata": {
  "kernelspec": {
   "display_name": "Python 3 (ipykernel)",
   "language": "python",
   "name": "python3"
  },
  "language_info": {
   "codemirror_mode": {
    "name": "ipython",
    "version": 3
   },
   "file_extension": ".py",
   "mimetype": "text/x-python",
   "name": "python",
   "nbconvert_exporter": "python",
   "pygments_lexer": "ipython3",
   "version": "3.11.5"
  }
 },
 "nbformat": 4,
 "nbformat_minor": 5
}
