{
 "cells": [
  {
   "cell_type": "code",
   "execution_count": 1,
   "id": "29ff76b9",
   "metadata": {},
   "outputs": [],
   "source": [
    "import sympy as sp\n",
    "import numpy as np\n",
    "import matplotlib.pyplot as plt\n",
    "\n",
    "from numpy import pi \n",
    "from sympy import Function, simplify\n",
    "\n",
    "# from IPython import display # for the animation\n",
    "import matplotlib as mpl\n",
    "mpl.use('Qt5Agg')\n",
    "\n",
    "import matplotlib.pyplot as plt\n",
    "plt.ion()\n",
    "\n",
    "\n",
    "# styling for plots\n",
    "mpl.rcParams['axes.titlesize'] = 24\n",
    "mpl.rcParams['axes.labelsize'] = 20\n",
    "mpl.rcParams['lines.linewidth'] = 3\n",
    "mpl.rcParams['lines.markersize'] = 10\n",
    "mpl.rcParams['xtick.labelsize'] = 16\n",
    "mpl.rcParams['ytick.labelsize'] = 16\n",
    "\n",
    "from sympy.utilities.lambdify import implemented_function\n",
    "\n",
    "from sympy import lambdify\n",
    "\n",
    "from sympy.utilities.lambdify import lambdastr"
   ]
  },
  {
   "cell_type": "markdown",
   "id": "2b174226",
   "metadata": {},
   "source": [
    "# 1 Viscous Swimmer"
   ]
  },
  {
   "cell_type": "markdown",
   "id": "b16f75bc",
   "metadata": {},
   "source": [
    "## 1. Variable Length Jacobian"
   ]
  },
  {
   "cell_type": "markdown",
   "id": "8bcfb44a",
   "metadata": {},
   "source": [
    "### Symbolic variables for our robot configuration"
   ]
  },
  {
   "cell_type": "code",
   "execution_count": 2,
   "id": "29b9e083",
   "metadata": {},
   "outputs": [],
   "source": [
    "(theta_1,\n",
    " theta_2,\n",
    " theta_3,\n",
    " L_1,\n",
    " L_2,\n",
    " L_3,\n",
    " B,\n",
    " t) = sp.symbols(\"\"\"\n",
    "                    theta_1,\n",
    "                    theta_2,\n",
    "                    theta_3,\n",
    "                    l_1,\n",
    "                    l_2,\n",
    "                    l_3,\n",
    "                    B,\n",
    "                    t\n",
    "                    \"\"\",real=True)\n",
    "\n",
    "\n",
    "theta_1 = Function('theta_1', real=True)(t)\n",
    "theta_2 = Function('theta_2', real=True)(t)\n",
    "theta_3 = Function('theta_3', real=True)(t)"
   ]
  },
  {
   "cell_type": "markdown",
   "id": "a61eac8b",
   "metadata": {},
   "source": [
    "### Generic 2D Transformation Function"
   ]
  },
  {
   "cell_type": "code",
   "execution_count": 3,
   "id": "41f8f989",
   "metadata": {},
   "outputs": [],
   "source": [
    "def T(theta,L):\n",
    "    return sp.Matrix([[sp.cos(theta), -sp.sin(theta), L*sp.cos(theta)],\n",
    "                      [sp.sin(theta),  sp.cos(theta), L*sp.sin(theta)],\n",
    "                      [            0,              0,               1]])"
   ]
  },
  {
   "cell_type": "markdown",
   "id": "e6c2651d",
   "metadata": {},
   "source": [
    "### Zero Position"
   ]
  },
  {
   "cell_type": "code",
   "execution_count": 4,
   "id": "bde183e8",
   "metadata": {},
   "outputs": [],
   "source": [
    "M = sp.Matrix([[0],[0],[1]])"
   ]
  },
  {
   "cell_type": "markdown",
   "id": "2bbacd9b",
   "metadata": {},
   "source": [
    "### Formward Kinematics "
   ]
  },
  {
   "cell_type": "code",
   "execution_count": 5,
   "id": "eb7e960c",
   "metadata": {},
   "outputs": [],
   "source": [
    "# Kinematics of the First Joint\n",
    "def T1(theta_1,L_1,s):\n",
    "    return T(theta_1,s*L_1) \n",
    "\n",
    "# Kinematics of the Second Joint\n",
    "def T2(theta_1,theta_2,L_1,L_2,s):\n",
    "    return T(theta_1,L_1) @ T(theta_2,s*L_2) \n",
    "\n",
    "# Kinematics of the Third Joint\n",
    "def T3(theta_1,theta_2,theta_3,L_1,L_2,L_3,s):\n",
    "    return T(theta_1,L_1) @ T(theta_2,L_2) @ T(theta_3,s*L_3) "
   ]
  },
  {
   "cell_type": "code",
   "execution_count": 6,
   "id": "0450f1c7",
   "metadata": {},
   "outputs": [
    {
     "data": {
      "text/latex": [
       "$\\displaystyle \\left[\\begin{matrix}B l_{1} \\cos{\\left(\\theta_{1}{\\left(t \\right)} \\right)}\\\\B l_{1} \\sin{\\left(\\theta_{1}{\\left(t \\right)} \\right)}\\end{matrix}\\right]$"
      ],
      "text/plain": [
       "Matrix([\n",
       "[B*l_1*cos(theta_1(t))],\n",
       "[B*l_1*sin(theta_1(t))]])"
      ]
     },
     "execution_count": 6,
     "metadata": {},
     "output_type": "execute_result"
    }
   ],
   "source": [
    "FK1 = (T1(theta_1,L_1,B) @ M) [:-1,0] \n",
    "FK1"
   ]
  },
  {
   "cell_type": "code",
   "execution_count": 7,
   "id": "63433ecb",
   "metadata": {},
   "outputs": [
    {
     "data": {
      "text/latex": [
       "$\\displaystyle \\left[\\begin{matrix}B l_{2} \\cos{\\left(\\theta_{1}{\\left(t \\right)} + \\theta_{2}{\\left(t \\right)} \\right)} + l_{1} \\cos{\\left(\\theta_{1}{\\left(t \\right)} \\right)}\\\\B l_{2} \\sin{\\left(\\theta_{1}{\\left(t \\right)} + \\theta_{2}{\\left(t \\right)} \\right)} + l_{1} \\sin{\\left(\\theta_{1}{\\left(t \\right)} \\right)}\\end{matrix}\\right]$"
      ],
      "text/plain": [
       "Matrix([\n",
       "[B*l_2*cos(theta_1(t) + theta_2(t)) + l_1*cos(theta_1(t))],\n",
       "[B*l_2*sin(theta_1(t) + theta_2(t)) + l_1*sin(theta_1(t))]])"
      ]
     },
     "execution_count": 7,
     "metadata": {},
     "output_type": "execute_result"
    }
   ],
   "source": [
    "FK2 = simplify(T2(theta_1,theta_2,L_1,L_2,B) @ M) [:-1,0] \n",
    "FK2"
   ]
  },
  {
   "cell_type": "code",
   "execution_count": 8,
   "id": "350b4831",
   "metadata": {},
   "outputs": [
    {
     "data": {
      "text/latex": [
       "$\\displaystyle \\left[\\begin{matrix}B l_{3} \\cos{\\left(\\theta_{1}{\\left(t \\right)} + \\theta_{2}{\\left(t \\right)} + \\theta_{3}{\\left(t \\right)} \\right)} + l_{1} \\cos{\\left(\\theta_{1}{\\left(t \\right)} \\right)} + l_{2} \\cos{\\left(\\theta_{1}{\\left(t \\right)} + \\theta_{2}{\\left(t \\right)} \\right)}\\\\B l_{3} \\sin{\\left(\\theta_{1}{\\left(t \\right)} + \\theta_{2}{\\left(t \\right)} + \\theta_{3}{\\left(t \\right)} \\right)} + l_{1} \\sin{\\left(\\theta_{1}{\\left(t \\right)} \\right)} + l_{2} \\sin{\\left(\\theta_{1}{\\left(t \\right)} + \\theta_{2}{\\left(t \\right)} \\right)}\\end{matrix}\\right]$"
      ],
      "text/plain": [
       "Matrix([\n",
       "[B*l_3*cos(theta_1(t) + theta_2(t) + theta_3(t)) + l_1*cos(theta_1(t)) + l_2*cos(theta_1(t) + theta_2(t))],\n",
       "[B*l_3*sin(theta_1(t) + theta_2(t) + theta_3(t)) + l_1*sin(theta_1(t)) + l_2*sin(theta_1(t) + theta_2(t))]])"
      ]
     },
     "execution_count": 8,
     "metadata": {},
     "output_type": "execute_result"
    }
   ],
   "source": [
    "FK3 = simplify(T3(theta_1,theta_2,theta_3,L_1,L_2,L_3,B) @ M) [:-1,0] \n",
    "FK3"
   ]
  },
  {
   "cell_type": "markdown",
   "id": "9bcd4416",
   "metadata": {},
   "source": [
    "### Jacobian"
   ]
  },
  {
   "cell_type": "code",
   "execution_count": 9,
   "id": "b2c53fdf",
   "metadata": {},
   "outputs": [
    {
     "data": {
      "text/latex": [
       "$\\displaystyle \\left[\\begin{matrix}- B l_{1} \\sin{\\left(\\theta_{1}{\\left(t \\right)} \\right)}\\\\B l_{1} \\cos{\\left(\\theta_{1}{\\left(t \\right)} \\right)}\\end{matrix}\\right]$"
      ],
      "text/plain": [
       "Matrix([\n",
       "[-B*l_1*sin(theta_1(t))],\n",
       "[ B*l_1*cos(theta_1(t))]])"
      ]
     },
     "execution_count": 9,
     "metadata": {},
     "output_type": "execute_result"
    }
   ],
   "source": [
    "# I am extracting the position part of each translation matrix for the jacobian\n",
    "X1 = sp.Matrix([theta_1])\n",
    "J1 = FK1.jacobian(X1)\n",
    "J1"
   ]
  },
  {
   "cell_type": "code",
   "execution_count": 10,
   "id": "ec253c36",
   "metadata": {},
   "outputs": [
    {
     "data": {
      "text/latex": [
       "$\\displaystyle \\left[\\begin{matrix}- B l_{2} \\sin{\\left(\\theta_{1}{\\left(t \\right)} + \\theta_{2}{\\left(t \\right)} \\right)} - l_{1} \\sin{\\left(\\theta_{1}{\\left(t \\right)} \\right)} & - B l_{2} \\sin{\\left(\\theta_{1}{\\left(t \\right)} + \\theta_{2}{\\left(t \\right)} \\right)}\\\\B l_{2} \\cos{\\left(\\theta_{1}{\\left(t \\right)} + \\theta_{2}{\\left(t \\right)} \\right)} + l_{1} \\cos{\\left(\\theta_{1}{\\left(t \\right)} \\right)} & B l_{2} \\cos{\\left(\\theta_{1}{\\left(t \\right)} + \\theta_{2}{\\left(t \\right)} \\right)}\\end{matrix}\\right]$"
      ],
      "text/plain": [
       "Matrix([\n",
       "[-B*l_2*sin(theta_1(t) + theta_2(t)) - l_1*sin(theta_1(t)), -B*l_2*sin(theta_1(t) + theta_2(t))],\n",
       "[ B*l_2*cos(theta_1(t) + theta_2(t)) + l_1*cos(theta_1(t)),  B*l_2*cos(theta_1(t) + theta_2(t))]])"
      ]
     },
     "execution_count": 10,
     "metadata": {},
     "output_type": "execute_result"
    }
   ],
   "source": [
    "X2 = sp.Matrix([theta_1,theta_2])\n",
    "J2 = FK2.jacobian(X2)\n",
    "J2"
   ]
  },
  {
   "cell_type": "code",
   "execution_count": 11,
   "id": "9049990f",
   "metadata": {},
   "outputs": [
    {
     "data": {
      "text/latex": [
       "$\\displaystyle \\left[\\begin{matrix}- B l_{3} \\sin{\\left(\\theta_{1}{\\left(t \\right)} + \\theta_{2}{\\left(t \\right)} + \\theta_{3}{\\left(t \\right)} \\right)} - l_{1} \\sin{\\left(\\theta_{1}{\\left(t \\right)} \\right)} - l_{2} \\sin{\\left(\\theta_{1}{\\left(t \\right)} + \\theta_{2}{\\left(t \\right)} \\right)} & - B l_{3} \\sin{\\left(\\theta_{1}{\\left(t \\right)} + \\theta_{2}{\\left(t \\right)} + \\theta_{3}{\\left(t \\right)} \\right)} - l_{2} \\sin{\\left(\\theta_{1}{\\left(t \\right)} + \\theta_{2}{\\left(t \\right)} \\right)} & - B l_{3} \\sin{\\left(\\theta_{1}{\\left(t \\right)} + \\theta_{2}{\\left(t \\right)} + \\theta_{3}{\\left(t \\right)} \\right)}\\\\B l_{3} \\cos{\\left(\\theta_{1}{\\left(t \\right)} + \\theta_{2}{\\left(t \\right)} + \\theta_{3}{\\left(t \\right)} \\right)} + l_{1} \\cos{\\left(\\theta_{1}{\\left(t \\right)} \\right)} + l_{2} \\cos{\\left(\\theta_{1}{\\left(t \\right)} + \\theta_{2}{\\left(t \\right)} \\right)} & B l_{3} \\cos{\\left(\\theta_{1}{\\left(t \\right)} + \\theta_{2}{\\left(t \\right)} + \\theta_{3}{\\left(t \\right)} \\right)} + l_{2} \\cos{\\left(\\theta_{1}{\\left(t \\right)} + \\theta_{2}{\\left(t \\right)} \\right)} & B l_{3} \\cos{\\left(\\theta_{1}{\\left(t \\right)} + \\theta_{2}{\\left(t \\right)} + \\theta_{3}{\\left(t \\right)} \\right)}\\end{matrix}\\right]$"
      ],
      "text/plain": [
       "Matrix([\n",
       "[-B*l_3*sin(theta_1(t) + theta_2(t) + theta_3(t)) - l_1*sin(theta_1(t)) - l_2*sin(theta_1(t) + theta_2(t)), -B*l_3*sin(theta_1(t) + theta_2(t) + theta_3(t)) - l_2*sin(theta_1(t) + theta_2(t)), -B*l_3*sin(theta_1(t) + theta_2(t) + theta_3(t))],\n",
       "[ B*l_3*cos(theta_1(t) + theta_2(t) + theta_3(t)) + l_1*cos(theta_1(t)) + l_2*cos(theta_1(t) + theta_2(t)),  B*l_3*cos(theta_1(t) + theta_2(t) + theta_3(t)) + l_2*cos(theta_1(t) + theta_2(t)),  B*l_3*cos(theta_1(t) + theta_2(t) + theta_3(t))]])"
      ]
     },
     "execution_count": 11,
     "metadata": {},
     "output_type": "execute_result"
    }
   ],
   "source": [
    "X3 = sp.Matrix([theta_1,theta_2,theta_3])\n",
    "J3 = simplify(FK3.jacobian(X3))\n",
    "J3"
   ]
  },
  {
   "cell_type": "code",
   "execution_count": 26,
   "id": "674cc72b",
   "metadata": {},
   "outputs": [],
   "source": [
    "def nT(theta,L):\n",
    "    return np.array([[np.cos(theta), -np.sin(theta), L*np.cos(theta)],\n",
    "                     [np.sin(theta),  np.cos(theta), L*np.sin(theta)],\n",
    "                     [            0,              0,               1]])\n",
    "\n",
    "def nT1(theta_1,L_1,s):\n",
    "    return nT(theta_1,L_1*s)\n",
    "\n",
    "def nT2(theta_1,theta_2,L_1,L_2,s):\n",
    "    return nT(theta_1,L_1) @ nT(theta_2,L_2*s)\n",
    "\n",
    "def nT3(theta_1,theta_2,theta_3,L_1,L_2,L_3,s):\n",
    "    return nT(theta_1,L_1) @ nT(theta_2,L_2) @ nT(theta_3,L_3*s)\n",
    "\n",
    "def flexible_arm_FK(THETA,LINKS,S):\n",
    "    theta1,theta2,theta3 = THETA\n",
    "    link1, link2, link3 = LINKS\n",
    "    s1,s2,s3 = S\n",
    "    p0 = np.array([[0],[0],[1]]);\n",
    "    p1 = nT1(theta1,link1,s1) @ p0\n",
    "    p2 = nT2(theta1,theta2,link1,link2,s2) @ p0\n",
    "    p3 = nT3(theta1,theta2,theta3,link1,link2,link3,s3) @ p0;\n",
    "    return np.hstack([p0[:-1],p1[:-1],p2[:-1],p3[:-1]])"
   ]
  },
  {
   "cell_type": "markdown",
   "id": "2bf8cf9d",
   "metadata": {},
   "source": [
    "## 2. Joint Motion Function"
   ]
  },
  {
   "cell_type": "code",
   "execution_count": 12,
   "id": "8fdde38e",
   "metadata": {},
   "outputs": [],
   "source": [
    "t = np.linspace(1,10,500)\n",
    "theta1 = pi/2*np.sin(-t)\n",
    "theta2 = -pi/2*np.cos(-0.5*t - 4.6)**8 \n",
    "theta3 = -pi/2*np.cos(-0.5*t - 4.6)**8 \n",
    "\n",
    "dtheta1 = -pi/2*np.cos(-t)\n",
    "dtheta2 = -pi/2*np.sin(-0.5*t - 4.6)**8 \n",
    "dtheta3 = -pi/2*np.sin(-0.5*t - 4.6)**8 "
   ]
  },
  {
   "cell_type": "markdown",
   "id": "8fb7d7db",
   "metadata": {},
   "source": [
    "## 3. Evaluating Jacobians at s"
   ]
  },
  {
   "cell_type": "code",
   "execution_count": 28,
   "id": "cdeed640",
   "metadata": {},
   "outputs": [],
   "source": [
    "S = np.linspace(0.1,1,10)\n",
    "\n",
    "# Subsituting for Link Lengths\n",
    "LINKS = [1,1,1]\n",
    "link1, link2, link3 = LINKS\n",
    "J1 = J1.subs([[L_1,link1]])\n",
    "J2 = J2.subs([[L_1,link1],[L_2,link2]])\n",
    "J3 = J3.subs([[L_1,link1],[L_2,link2],[L_3,link3]])\n",
    "\n",
    "# Subsituting for s values\n",
    "J1s = [];\n",
    "J2s = [];\n",
    "J3s = [];\n",
    "\n",
    "for i in range(0,9):\n",
    "    J1s.append(J1.subs([[B,S[i]]]))\n",
    "    J2s.append(J2.subs([[B,S[i]]]))\n",
    "    J3s.append(J3.subs([[B,S[i]]]))\n",
    "    \n",
    "# Substituting for theta values\n",
    "for i in range(0,9):\n",
    "    J1s[i] = J1s[i].subs([[theta_1,theta1[i]]])\n",
    "    J2s[i] = J2s[i].subs([[theta_1,theta1[i]],[theta_2,theta2[i]]])\n",
    "    J3s[i] = J3s[i].subs([[theta_1,theta1[i]],[theta_2,theta2[i]],[theta_3,theta3[i]]])\n",
    "\n",
    "V1s = [];\n",
    "V2s = [];\n",
    "V3s = [];\n",
    "\n",
    "# Substituting for theta values\n",
    "for i in range(0,9):\n",
    "    V1s.append(J1s[i] * dtheta1[i])\n",
    "    V2s.append(J2s[i] @ np.array([[dtheta1[i]],[dtheta2[i]]]))\n",
    "    V3s.append(J3s[i] @ np.array([[dtheta1[i]],[dtheta2[i]],[dtheta3[i]]]))\n",
    "    \n",
    "# Substituting for theta values\n",
    "F1s = [];\n",
    "F2s = [];\n",
    "F3s = [];\n",
    "\n",
    "for i in range(0,9):\n",
    "    F1s.append(-V1s[i])\n",
    "    F2s.append(-V2s[i])\n",
    "    F3s.append(-V3s[i])\n",
    "    "
   ]
  },
  {
   "cell_type": "code",
   "execution_count": 29,
   "id": "66ecc61a",
   "metadata": {},
   "outputs": [
    {
     "ename": "NameError",
     "evalue": "name 's' is not defined",
     "output_type": "error",
     "traceback": [
      "\u001b[1;31m---------------------------------------------------------------------------\u001b[0m",
      "\u001b[1;31mNameError\u001b[0m                                 Traceback (most recent call last)",
      "Cell \u001b[1;32mIn[29], line 16\u001b[0m\n\u001b[0;32m     14\u001b[0m pts \u001b[38;5;241m=\u001b[39m []\n\u001b[0;32m     15\u001b[0m \u001b[38;5;28;01mfor\u001b[39;00m j \u001b[38;5;129;01min\u001b[39;00m \u001b[38;5;28mrange\u001b[39m(\u001b[38;5;241m9\u001b[39m):\n\u001b[1;32m---> 16\u001b[0m     S \u001b[38;5;241m=\u001b[39m [s[j],s[j],s[j]]\n\u001b[0;32m     17\u001b[0m     pts\u001b[38;5;241m.\u001b[39mappend(flexible_arm_FK(THETA,LINKS,S))\n\u001b[0;32m     19\u001b[0m     ax \u001b[38;5;241m=\u001b[39m plt\u001b[38;5;241m.\u001b[39mgca()\n",
      "\u001b[1;31mNameError\u001b[0m: name 's' is not defined"
     ]
    }
   ],
   "source": [
    "PTS = []\n",
    "plt.close()\n",
    "fig = plt.figure(figsize=(12,12))\n",
    "for i in range(len(t)):\n",
    "    LINKS = [1,1,1];\n",
    "    THETA = [theta1[i],theta2[i],theta3[i]]\n",
    "    plt.clf()\n",
    "    ax = plt.gca()\n",
    "    ax.set_xlim([-3.5,3.5])\n",
    "    ax.set_ylim([-3.5,3.5])\n",
    "    PTS.append(flexible_arm_FK(THETA,LINKS,[1,1,1]))\n",
    "    ax.plot(PTS[i][0,:],PTS[i][1,:],'-')\n",
    "    plt.draw()\n",
    "    pts = []\n",
    "    for j in range(9):\n",
    "        S = [s[j],s[j],s[j]]\n",
    "        pts.append(flexible_arm_FK(THETA,LINKS,S))\n",
    "\n",
    "        ax = plt.gca()\n",
    "        ax.plot(pts[j][0,:],pts[j][1,:],'.g')\n",
    "        # ax.plot(-pts[0,:],pts[1,:])\n",
    "        # ax.plot(-pts[0,:],pts[1,:],'.k')\n",
    "\n",
    "        \n",
    "        plt.draw()\n",
    "        plt.show()\n",
    "    plt.pause(0.001)\n"
   ]
  },
  {
   "cell_type": "code",
   "execution_count": 19,
   "id": "7d73e9f0",
   "metadata": {},
   "outputs": [],
   "source": [
    "def nT(theta,L):\n",
    "    return np.array([[np.cos(theta), -np.sin(theta), L*np.cos(theta)],\n",
    "                     [np.sin(theta),  np.cos(theta), L*np.sin(theta)],\n",
    "                     [            0,              0,               1]])\n",
    "\n",
    "def nT1(theta_1,L_1,s):\n",
    "    return nT(theta_1,L_1*s)\n",
    "\n",
    "def nT2(theta_1,theta_2,L_1,L_2,s):\n",
    "    return nT(theta_1,L_1) @ nT(theta_2,L_2*s)\n",
    "\n",
    "def nT3(theta_1,theta_2,theta_3,L_1,L_2,L_3,s):\n",
    "    return nT(theta_1,L_1) @ nT(theta_2,L_2) @ nT(theta_3,L_3*s)\n",
    "\n",
    "def flexible_arm_FK(THETA,LINKS,S):\n",
    "    theta1,theta2,theta3 = THETA\n",
    "    link1, link2, link3 = LINKS\n",
    "    s1,s2,s3 = S\n",
    "    p0 = np.array([[0],[0],[1]]);\n",
    "    p1 = nT1(theta1,link1,s1) @ p0\n",
    "    p2 = nT2(theta1,theta2,link1,link2,s2) @ p0\n",
    "    p3 = nT3(theta1,theta2,theta3,link1,link2,link3,s3) @ p0;\n",
    "    return np.hstack([p0[:-1],p1[:-1],p2[:-1],p3[:-1]])"
   ]
  },
  {
   "cell_type": "code",
   "execution_count": null,
   "id": "c1f233eb",
   "metadata": {},
   "outputs": [],
   "source": []
  },
  {
   "cell_type": "code",
   "execution_count": 81,
   "id": "569ded45",
   "metadata": {},
   "outputs": [],
   "source": [
    "\n",
    "\n",
    "\n",
    "\n"
   ]
  },
  {
   "cell_type": "code",
   "execution_count": 47,
   "id": "026b83a1",
   "metadata": {},
   "outputs": [
    {
     "ename": "IndexError",
     "evalue": "list index out of range",
     "output_type": "error",
     "traceback": [
      "\u001b[1;31m---------------------------------------------------------------------------\u001b[0m",
      "\u001b[1;31mIndexError\u001b[0m                                Traceback (most recent call last)",
      "Cell \u001b[1;32mIn[47], line 1\u001b[0m\n\u001b[1;32m----> 1\u001b[0m pts[\u001b[38;5;241m3\u001b[39m]\n",
      "\u001b[1;31mIndexError\u001b[0m: list index out of range"
     ]
    }
   ],
   "source": [
    "pts[3]"
   ]
  },
  {
   "cell_type": "code",
   "execution_count": 25,
   "id": "a9c058d5",
   "metadata": {},
   "outputs": [
    {
     "data": {
      "text/plain": [
       "range(0, 9)"
      ]
     },
     "execution_count": 25,
     "metadata": {},
     "output_type": "execute_result"
    }
   ],
   "source": []
  },
  {
   "cell_type": "code",
   "execution_count": 83,
   "id": "9b4c1274",
   "metadata": {},
   "outputs": [
    {
     "data": {
      "text/plain": [
       "array([0.1, 0.2, 0.3, 0.4, 0.5, 0.6, 0.7, 0.8, 0.9, 1. ])"
      ]
     },
     "execution_count": 83,
     "metadata": {},
     "output_type": "execute_result"
    }
   ],
   "source": []
  },
  {
   "cell_type": "code",
   "execution_count": null,
   "id": "fa842405",
   "metadata": {},
   "outputs": [],
   "source": []
  }
 ],
 "metadata": {
  "kernelspec": {
   "display_name": "Python 3 (ipykernel)",
   "language": "python",
   "name": "python3"
  },
  "language_info": {
   "codemirror_mode": {
    "name": "ipython",
    "version": 3
   },
   "file_extension": ".py",
   "mimetype": "text/x-python",
   "name": "python",
   "nbconvert_exporter": "python",
   "pygments_lexer": "ipython3",
   "version": "3.11.5"
  }
 },
 "nbformat": 4,
 "nbformat_minor": 5
}
