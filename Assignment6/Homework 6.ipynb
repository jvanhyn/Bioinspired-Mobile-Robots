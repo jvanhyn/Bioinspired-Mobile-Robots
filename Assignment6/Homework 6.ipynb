{
 "cells": [
  {
   "cell_type": "code",
   "execution_count": 2,
   "id": "cd2a64a8",
   "metadata": {},
   "outputs": [],
   "source": [
    "import sympy as sp\n",
    "import numpy as np\n",
    "import matplotlib.pyplot as plt\n",
    "\n",
    "from numpy import pi \n",
    "from sympy import Function, simplify\n",
    "\n",
    "# from IPython import display # for the animation\n",
    "import matplotlib as mpl\n",
    "mpl.use('Qt5Agg')\n",
    "\n",
    "import matplotlib.pyplot as plt\n",
    "plt.ion()\n",
    "\n",
    "\n",
    "# styling for plots\n",
    "mpl.rcParams['axes.titlesize'] = 24\n",
    "mpl.rcParams['axes.labelsize'] = 20\n",
    "mpl.rcParams['lines.linewidth'] = 3\n",
    "mpl.rcParams['lines.markersize'] = 10\n",
    "mpl.rcParams['xtick.labelsize'] = 16\n",
    "mpl.rcParams['ytick.labelsize'] = 16\n",
    "\n",
    "from sympy.utilities.lambdify import implemented_function\n",
    "\n",
    "from sympy import lambdify\n",
    "\n",
    "from sympy.utilities.lambdify import lambdastr"
   ]
  },
  {
   "cell_type": "markdown",
   "id": "bfc84f22",
   "metadata": {},
   "source": [
    "# 1 Viscous Swimmer"
   ]
  },
  {
   "cell_type": "markdown",
   "id": "fbbe751c",
   "metadata": {},
   "source": [
    "## 1. Variable Length Jacobian"
   ]
  },
  {
   "cell_type": "markdown",
   "id": "511f096b",
   "metadata": {},
   "source": [
    "### Symbolic variables for our robot configuration"
   ]
  },
  {
   "cell_type": "code",
   "execution_count": 3,
   "id": "46910c8f",
   "metadata": {},
   "outputs": [],
   "source": [
    "(theta_1,\n",
    " theta_2,\n",
    " theta_3,\n",
    " L_1,\n",
    " L_2,\n",
    " L_3,\n",
    " B) = sp.symbols(\"\"\"\n",
    "                    theta_1,\n",
    "                    theta_2,\n",
    "                    theta_3,\n",
    "                    l_1,\n",
    "                    l_2,\n",
    "                    l_3,\n",
    "                    B\n",
    "                    \"\"\",real=True)\n",
    "\n",
    "\n",
    "# theta_1 = Function('theta_1', real=True)(t)\n",
    "# theta_2 = Function('theta_2', real=True)(t)\n",
    "# theta_3 = Function('theta_3', real=True)(t)\n",
    "\n",
    "def sym_to_np(T):\n",
    "    return np.array(T).astype(np.float64)"
   ]
  },
  {
   "cell_type": "markdown",
   "id": "970affee",
   "metadata": {},
   "source": [
    "### Generic 2D Transformation Function"
   ]
  },
  {
   "cell_type": "code",
   "execution_count": 4,
   "id": "38a68f86",
   "metadata": {},
   "outputs": [],
   "source": [
    "def T(theta,L):\n",
    "    return sp.Matrix([[sp.cos(theta), -sp.sin(theta), L*sp.cos(theta)],\n",
    "                      [sp.sin(theta),  sp.cos(theta), L*sp.sin(theta)],\n",
    "                      [            0,              0,               1]])"
   ]
  },
  {
   "cell_type": "markdown",
   "id": "08b8ca70",
   "metadata": {},
   "source": [
    "### Zero Position"
   ]
  },
  {
   "cell_type": "code",
   "execution_count": 5,
   "id": "26e7c595",
   "metadata": {},
   "outputs": [],
   "source": [
    "M = sp.Matrix([[0],[0],[1]])"
   ]
  },
  {
   "cell_type": "markdown",
   "id": "788dc055",
   "metadata": {},
   "source": [
    "### Formward Kinematics "
   ]
  },
  {
   "cell_type": "code",
   "execution_count": 6,
   "id": "6a078cc1",
   "metadata": {},
   "outputs": [],
   "source": [
    "# Kinematics of the First Joint\n",
    "def T1(theta_1,L_1,s):\n",
    "    return T(theta_1,s*L_1) \n",
    "\n",
    "# Kinematics of the Second Joint\n",
    "def T2(theta_1,theta_2,L_1,L_2,s):\n",
    "    return T(theta_1,L_1) @ T(theta_2,s*L_2) \n",
    "\n",
    "# Kinematics of the Third Joint\n",
    "def T3(theta_1,theta_2,theta_3,L_1,L_2,L_3,s):\n",
    "    return T(theta_1,L_1) @ T(theta_2,L_2) @ T(theta_3,s*L_3) "
   ]
  },
  {
   "cell_type": "code",
   "execution_count": 7,
   "id": "630b5c43",
   "metadata": {},
   "outputs": [
    {
     "data": {
      "text/latex": [
       "$\\displaystyle \\left[\\begin{matrix}B l_{1} \\cos{\\left(\\theta_{1} \\right)}\\\\B l_{1} \\sin{\\left(\\theta_{1} \\right)}\\end{matrix}\\right]$"
      ],
      "text/plain": [
       "Matrix([\n",
       "[B*l_1*cos(theta_1)],\n",
       "[B*l_1*sin(theta_1)]])"
      ]
     },
     "execution_count": 7,
     "metadata": {},
     "output_type": "execute_result"
    }
   ],
   "source": [
    "FK1 = (T1(theta_1,L_1,B) @ M) [:-1,0] \n",
    "FK1"
   ]
  },
  {
   "cell_type": "code",
   "execution_count": 8,
   "id": "e630c0b5",
   "metadata": {},
   "outputs": [
    {
     "data": {
      "text/latex": [
       "$\\displaystyle \\left[\\begin{matrix}B l_{2} \\cos{\\left(\\theta_{1} + \\theta_{2} \\right)} + l_{1} \\cos{\\left(\\theta_{1} \\right)}\\\\B l_{2} \\sin{\\left(\\theta_{1} + \\theta_{2} \\right)} + l_{1} \\sin{\\left(\\theta_{1} \\right)}\\end{matrix}\\right]$"
      ],
      "text/plain": [
       "Matrix([\n",
       "[B*l_2*cos(theta_1 + theta_2) + l_1*cos(theta_1)],\n",
       "[B*l_2*sin(theta_1 + theta_2) + l_1*sin(theta_1)]])"
      ]
     },
     "execution_count": 8,
     "metadata": {},
     "output_type": "execute_result"
    }
   ],
   "source": [
    "FK2 = simplify(T2(theta_1,theta_2,L_1,L_2,B) @ M) [:-1,0] \n",
    "FK2\n"
   ]
  },
  {
   "cell_type": "code",
   "execution_count": 9,
   "id": "a7b295e1",
   "metadata": {},
   "outputs": [
    {
     "data": {
      "text/latex": [
       "$\\displaystyle \\left[\\begin{matrix}B l_{3} \\cos{\\left(\\theta_{1} + \\theta_{2} + \\theta_{3} \\right)} + l_{1} \\cos{\\left(\\theta_{1} \\right)} + l_{2} \\cos{\\left(\\theta_{1} + \\theta_{2} \\right)}\\\\B l_{3} \\sin{\\left(\\theta_{1} + \\theta_{2} + \\theta_{3} \\right)} + l_{1} \\sin{\\left(\\theta_{1} \\right)} + l_{2} \\sin{\\left(\\theta_{1} + \\theta_{2} \\right)}\\end{matrix}\\right]$"
      ],
      "text/plain": [
       "Matrix([\n",
       "[B*l_3*cos(theta_1 + theta_2 + theta_3) + l_1*cos(theta_1) + l_2*cos(theta_1 + theta_2)],\n",
       "[B*l_3*sin(theta_1 + theta_2 + theta_3) + l_1*sin(theta_1) + l_2*sin(theta_1 + theta_2)]])"
      ]
     },
     "execution_count": 9,
     "metadata": {},
     "output_type": "execute_result"
    }
   ],
   "source": [
    "FK3 = simplify(T3(theta_1,theta_2,theta_3,L_1,L_2,L_3,B) @ M) [:-1,0] \n",
    "FK3"
   ]
  },
  {
   "cell_type": "markdown",
   "id": "d53baa59",
   "metadata": {},
   "source": [
    "### Jacobian"
   ]
  },
  {
   "cell_type": "code",
   "execution_count": 93,
   "id": "26ecbefe",
   "metadata": {},
   "outputs": [
    {
     "data": {
      "text/latex": [
       "$\\displaystyle \\left[\\begin{matrix}- B \\sin{\\left(\\theta_{1} \\right)} & 0 & 0\\\\B \\cos{\\left(\\theta_{1} \\right)} & 0 & 0\\end{matrix}\\right]$"
      ],
      "text/plain": [
       "Matrix([\n",
       "[-B*sin(theta_1), 0, 0],\n",
       "[ B*cos(theta_1), 0, 0]])"
      ]
     },
     "execution_count": 93,
     "metadata": {},
     "output_type": "execute_result"
    }
   ],
   "source": [
    "# I am extracting the position part of each translation matrix for the jacobian\n",
    "X1 = sp.Matrix([theta_1])\n",
    "J1 = FK1.jacobian(X1).row_join(sp.Matrix([[0,0],[0,0]]))\n",
    "J1"
   ]
  },
  {
   "cell_type": "code",
   "execution_count": 94,
   "id": "66d4d4fd",
   "metadata": {},
   "outputs": [
    {
     "data": {
      "text/latex": [
       "$\\displaystyle \\left[\\begin{matrix}- B \\sin{\\left(\\theta_{1} + \\theta_{2} \\right)} - \\sin{\\left(\\theta_{1} \\right)} & - B \\sin{\\left(\\theta_{1} + \\theta_{2} \\right)} & 0\\\\B \\cos{\\left(\\theta_{1} + \\theta_{2} \\right)} + \\cos{\\left(\\theta_{1} \\right)} & B \\cos{\\left(\\theta_{1} + \\theta_{2} \\right)} & 0\\end{matrix}\\right]$"
      ],
      "text/plain": [
       "Matrix([\n",
       "[-B*sin(theta_1 + theta_2) - sin(theta_1), -B*sin(theta_1 + theta_2), 0],\n",
       "[ B*cos(theta_1 + theta_2) + cos(theta_1),  B*cos(theta_1 + theta_2), 0]])"
      ]
     },
     "execution_count": 94,
     "metadata": {},
     "output_type": "execute_result"
    }
   ],
   "source": [
    "X2 = sp.Matrix([theta_1,theta_2])\n",
    "J2 = FK2.jacobian(X2).row_join(sp.Matrix([[0],[0]]))\n",
    "J2"
   ]
  },
  {
   "cell_type": "code",
   "execution_count": 95,
   "id": "818d5670",
   "metadata": {},
   "outputs": [
    {
     "data": {
      "text/latex": [
       "$\\displaystyle \\left[\\begin{matrix}- B \\sin{\\left(\\theta_{1} + \\theta_{2} + \\theta_{3} \\right)} - \\sin{\\left(\\theta_{1} \\right)} - \\sin{\\left(\\theta_{1} + \\theta_{2} \\right)} & - B \\sin{\\left(\\theta_{1} + \\theta_{2} + \\theta_{3} \\right)} - \\sin{\\left(\\theta_{1} + \\theta_{2} \\right)} & - B \\sin{\\left(\\theta_{1} + \\theta_{2} + \\theta_{3} \\right)}\\\\B \\cos{\\left(\\theta_{1} + \\theta_{2} + \\theta_{3} \\right)} + \\cos{\\left(\\theta_{1} \\right)} + \\cos{\\left(\\theta_{1} + \\theta_{2} \\right)} & B \\cos{\\left(\\theta_{1} + \\theta_{2} + \\theta_{3} \\right)} + \\cos{\\left(\\theta_{1} + \\theta_{2} \\right)} & B \\cos{\\left(\\theta_{1} + \\theta_{2} + \\theta_{3} \\right)}\\end{matrix}\\right]$"
      ],
      "text/plain": [
       "Matrix([\n",
       "[-B*sin(theta_1 + theta_2 + theta_3) - sin(theta_1) - sin(theta_1 + theta_2), -B*sin(theta_1 + theta_2 + theta_3) - sin(theta_1 + theta_2), -B*sin(theta_1 + theta_2 + theta_3)],\n",
       "[ B*cos(theta_1 + theta_2 + theta_3) + cos(theta_1) + cos(theta_1 + theta_2),  B*cos(theta_1 + theta_2 + theta_3) + cos(theta_1 + theta_2),  B*cos(theta_1 + theta_2 + theta_3)]])"
      ]
     },
     "execution_count": 95,
     "metadata": {},
     "output_type": "execute_result"
    }
   ],
   "source": [
    "X3 = sp.Matrix([theta_1,theta_2,theta_3])\n",
    "J3 = simplify(FK3.jacobian(X3))\n",
    "J3"
   ]
  },
  {
   "cell_type": "markdown",
   "id": "8f7aab8d",
   "metadata": {},
   "source": [
    "## 2. Joint Motion Function"
   ]
  },
  {
   "cell_type": "code",
   "execution_count": 235,
   "id": "5038083d",
   "metadata": {},
   "outputs": [],
   "source": [
    "t = np.linspace(1,2*np.pi,100)\n",
    "theta1 = pi/2*np.sin(-t)\n",
    "theta2 = -pi/2*np.cos(-0.5*t - 4.6)**8 \n",
    "theta3 = -pi/2*np.cos(-0.5*t - 4.6)**8 \n",
    "\n",
    "dtheta1 = -pi/2*np.cos(-t)\n",
    "dtheta2 = -pi/2*np.sin(-0.5*t - 4.6)**8 \n",
    "dtheta3 = -pi/2*np.sin(-0.5*t - 4.6)**8 "
   ]
  },
  {
   "cell_type": "markdown",
   "id": "2ffcf877",
   "metadata": {},
   "source": [
    "## 3. Evaluating Forward Kinematics at s and t"
   ]
  },
  {
   "cell_type": "code",
   "execution_count": 172,
   "id": "565e8dff",
   "metadata": {},
   "outputs": [],
   "source": [
    "S = np.linspace(0,1,11)\n",
    "\n",
    "# Subsituting for Link Lengths\n",
    "LINKS = [1,1,1]\n",
    "link1, link2, link3 = LINKS\n",
    "\n",
    "J1 = J1.subs([[L_1,link1]])\n",
    "J2 = J2.subs([[L_1,link1],[L_2,link2]])\n",
    "J3 = J3.subs([[L_1,link1],[L_2,link2],[L_3,link3]])\n",
    "\n",
    "FK1 = FK1.subs([[L_1,link1]])\n",
    "FK2 = FK2.subs([[L_1,link1],[L_2,link2]])\n",
    "FK3 = FK3.subs([[L_1,link1],[L_2,link2],[L_3,link3]])\n",
    "\n",
    "FK1st = np.zeros((len(S),len(t),2,1));\n",
    "FK2st = np.zeros((len(S),len(t),2,1));\n",
    "FK3st = np.zeros((len(S),len(t),2,1));\n",
    "\n",
    "for i in range(len(S)):\n",
    "    for j in range(len(t)):\n",
    "        FK1st[i][j] = sym_to_np(FK1.subs([[B,S[i]],[theta_1,theta1[j]]]))\n",
    "        FK2st[i][j] = sym_to_np(FK2.subs([[B,S[i]],[theta_1,theta1[j]],[theta_2,theta2[j]]]))\n",
    "        FK3st[i][j] = sym_to_np(FK3.subs([[B,S[i]],[theta_1,theta1[j]],[theta_2,theta2[j]],[theta_3,theta3[j]]]))\n",
    "        \n",
    "\n",
    "\n"
   ]
  },
  {
   "cell_type": "code",
   "execution_count": 173,
   "id": "037cc88c",
   "metadata": {},
   "outputs": [],
   "source": [
    "J1st = np.zeros((len(S),len(t),2,3));\n",
    "J2st = np.zeros((len(S),len(t),2,3));\n",
    "J3st = np.zeros((len(S),len(t),2,3));\n",
    "\n",
    "for i in range(len(S)):\n",
    "    for j in range(len(t)):\n",
    "        J1st[i][j] = sym_to_np(J1.subs([[B,S[i]],[theta_1,theta1[j]]]))\n",
    "        J2st[i][j] = sym_to_np(J2.subs([[B,S[i]],[theta_1,theta1[j]],[theta_2,theta2[j]]]))\n",
    "        J3st[i][j] = sym_to_np(J3.subs([[B,S[i]],[theta_1,theta1[j]],[theta_2,theta2[j]],[theta_3,theta3[j]]]))\n",
    "    "
   ]
  },
  {
   "cell_type": "code",
   "execution_count": 174,
   "id": "e71913ec",
   "metadata": {},
   "outputs": [],
   "source": [
    "V1st = np.zeros((len(S),len(t),2,1));\n",
    "V2st = np.zeros((len(S),len(t),2,1));\n",
    "V3st = np.zeros((len(S),len(t),2,1));\n",
    "\n",
    "#  calculating velocity values\n",
    "for i in range(len(S)):\n",
    "    for j in range(len(t)):\n",
    "        dTHETA =  np.array([[dtheta1[j]],[dtheta2[j]],[dtheta3[j]]])\n",
    "        V1st[i][j] = J1st[i,j] @ dTHETA\n",
    "        V2st[i][j] = J2st[i,j] @ dTHETA \n",
    "        V3st[i][j] = J3st[i,j] @ dTHETA \n",
    "\n",
    "F1st = -V1st\n",
    "F2st = -V2st\n",
    "F3st = -V3st"
   ]
  },
  {
   "cell_type": "code",
   "execution_count": 175,
   "id": "4fc399db",
   "metadata": {},
   "outputs": [],
   "source": [
    "plt.close();\n",
    "fig1 = plt.figure(figsize=(10,10))"
   ]
  },
  {
   "cell_type": "code",
   "execution_count": 190,
   "id": "60e21459",
   "metadata": {},
   "outputs": [],
   "source": [
    "sc = 50\n",
    "for i in range(len(t)):\n",
    "    plt.clf();\n",
    "    plt.axis([-3,3,-3,3])\n",
    "    ax = plt.gca()\n",
    "    ax.plot([[0],FK1st[10,i,0],FK2st[10,i,0],FK3st[10,i,0]],[[0],FK1st[10,i,1],FK2st[10,i,1],FK3st[10,i,1]],'g')\n",
    "    ax.plot(FK1st[0,i,0],FK1st[0,i,1],'.k')\n",
    "    ax.plot(FK2st[0,i,0],FK2st[0,i,1],'.k')\n",
    "    ax.plot(FK3st[0,i,0],FK3st[0,i,1],'.k')\n",
    "    ax.quiver(FK1st[:,i,0],FK1st[:,i,1],F1st[:,i,0],F1st[:,i,1],scale=sc)\n",
    "    ax.quiver(FK2st[:,i,0],FK2st[:,i,1],F2st[:,i,0],F2st[:,i,1],scale=sc)\n",
    "    ax.quiver(FK3st[:,i,0],FK3st[:,i,1],F3st[:,i,0],F3st[:,i,1],scale=sc)\n",
    "    \n",
    "    ax.plot([[0],-FK1st[10,i,0],-FK2st[10,i,0],-FK3st[10,i,0]],[[0],FK1st[10,i,1],FK2st[10,i,1],FK3st[10,i,1]],'g')\n",
    "    ax.plot(-FK1st[0,i,0],FK1st[0,i,1],'.k')\n",
    "    ax.plot(-FK2st[0,i,0],FK2st[0,i,1],'.k')\n",
    "    ax.plot(-FK3st[0,i,0],FK3st[0,i,1],'.k')\n",
    "    ax.quiver(-FK1st[:,i,0],FK1st[:,i,1],-F1st[:,i,0],F1st[:,i,1],scale=sc)\n",
    "    ax.quiver(-FK2st[:,i,0],FK2st[:,i,1],-F2st[:,i,0],F2st[:,i,1],scale=sc)\n",
    "    ax.quiver(-FK3st[:,i,0],FK3st[:,i,1],-F3st[:,i,0],F3st[:,i,1],scale=sc)\n",
    "\n",
    "    plt.show()\n",
    "    plt.draw()\n",
    "    plt.pause(0.05)"
   ]
  },
  {
   "cell_type": "code",
   "execution_count": 152,
   "id": "fb1b6ca2",
   "metadata": {},
   "outputs": [],
   "source": [
    "fig2 = plt.figure(figsize=(10,10))"
   ]
  },
  {
   "cell_type": "code",
   "execution_count": 236,
   "id": "487ed39d",
   "metadata": {},
   "outputs": [
    {
     "data": {
      "text/plain": [
       "<matplotlib.quiver.Quiver at 0x1de3993e450>"
      ]
     },
     "execution_count": 236,
     "metadata": {},
     "output_type": "execute_result"
    }
   ],
   "source": [
    "Fxy1 = np.mean(F1st,axis=0)\n",
    "Fxy2 = np.mean(F2st,axis=0)\n",
    "Fxy3 = np.mean(F3st,axis=0)\n",
    "\n",
    "Fxy = np.mean(F1st,axis=0) + np.mean(F2st,axis=0) + np.mean(F3st,axis=0)\n",
    "Fav = np.mean(Fxy,axis=0)\n",
    "plt.plot(Fxy1[:,0],Fxy1[:,1])\n",
    "plt.quiver(0,0,Fav[0],Fav[1],scale=10)"
   ]
  },
  {
   "cell_type": "code",
   "execution_count": 167,
   "id": "9a0737bd",
   "metadata": {},
   "outputs": [
    {
     "data": {
      "text/plain": [
       "[<matplotlib.lines.Line2D at 0x1de32ab2850>]"
      ]
     },
     "execution_count": 167,
     "metadata": {},
     "output_type": "execute_result"
    }
   ],
   "source": [
    "plt.plot(t,Fxy[:,0])\n",
    "plt.plot(t,Fxy[:,1])"
   ]
  },
  {
   "cell_type": "code",
   "execution_count": 218,
   "id": "75b96d1f",
   "metadata": {},
   "outputs": [],
   "source": [
    "tau = np.zeros((3,1,len(t)))\n",
    "for i  in range(len(t)):\n",
    "    tau[:,:,i] = J3st[10,i].transpose() @ Fxy[i]"
   ]
  },
  {
   "cell_type": "code",
   "execution_count": 224,
   "id": "cf526760",
   "metadata": {},
   "outputs": [
    {
     "data": {
      "text/plain": [
       "[<matplotlib.lines.Line2D at 0x1de38ec8c90>]"
      ]
     },
     "execution_count": 224,
     "metadata": {},
     "output_type": "execute_result"
    }
   ],
   "source": [
    "plt.plot(t,tau[0,0,:])\n",
    "plt.plot(t,tau[1,0,:])\n",
    "plt.plot(t,tau[2,0,:])"
   ]
  },
  {
   "cell_type": "code",
   "execution_count": 207,
   "id": "f3594eca",
   "metadata": {},
   "outputs": [
    {
     "data": {
      "text/plain": [
       "(3, 2, 100, 11)"
      ]
     },
     "execution_count": 207,
     "metadata": {},
     "output_type": "execute_result"
    }
   ],
   "source": [
    "np.shape(J1st.transpose())"
   ]
  },
  {
   "cell_type": "code",
   "execution_count": null,
   "id": "d9c2df9b",
   "metadata": {},
   "outputs": [],
   "source": []
  }
 ],
 "metadata": {
  "kernelspec": {
   "display_name": "Python 3 (ipykernel)",
   "language": "python",
   "name": "python3"
  },
  "language_info": {
   "codemirror_mode": {
    "name": "ipython",
    "version": 3
   },
   "file_extension": ".py",
   "mimetype": "text/x-python",
   "name": "python",
   "nbconvert_exporter": "python",
   "pygments_lexer": "ipython3",
   "version": "3.11.5"
  }
 },
 "nbformat": 4,
 "nbformat_minor": 5
}
