{
 "cells": [
  {
   "cell_type": "markdown",
   "id": "175f57eb",
   "metadata": {},
   "source": [
    "# Standing Model"
   ]
  },
  {
   "cell_type": "code",
   "execution_count": 2,
   "id": "d63421c0",
   "metadata": {},
   "outputs": [],
   "source": [
    "import sympy as sp\n",
    "import numpy as np"
   ]
  },
  {
   "cell_type": "markdown",
   "id": "e8c721f5",
   "metadata": {},
   "source": [
    "## 1 Forward Kinematics"
   ]
  },
  {
   "cell_type": "code",
   "execution_count": 3,
   "id": "9fe460f1",
   "metadata": {},
   "outputs": [],
   "source": [
    "# Symbolic variables \n",
    "theta_1,theta_2,theta_3 = sp.symbols(\"theta_1,theta_2,theta_3 \",real=True)"
   ]
  },
  {
   "cell_type": "code",
   "execution_count": 4,
   "id": "b5090d87",
   "metadata": {},
   "outputs": [],
   "source": [
    "# Generic Transformation Matrix\n",
    "def T(theta,x,y):\n",
    "    return sp.Matrix([[sp.cos(theta), -sp.sin(theta), x],\n",
    "                      [sp.sin(theta),  sp.cos(theta), y],\n",
    "                      [            0,              0, 1]])"
   ]
  },
  {
   "cell_type": "code",
   "execution_count": 5,
   "id": "f5be930e",
   "metadata": {},
   "outputs": [],
   "source": [
    "# Initial Configuration2\n",
    "p01 = sp.Matrix([[1],[0],[1]]);\n",
    "p12 = sp.Matrix([[1],[0],[1]]);\n",
    "p23 = sp.Matrix([[1],[0],[1]]);"
   ]
  },
  {
   "cell_type": "code",
   "execution_count": 6,
   "id": "5b774a8a",
   "metadata": {},
   "outputs": [],
   "source": [
    "# Joint Transformations\n",
    "T01 = T(theta_1,0,0);\n",
    "T12 = T(theta_2,1,0)\n",
    "T23 = T(theta_3,1,0)"
   ]
  },
  {
   "cell_type": "code",
   "execution_count": 7,
   "id": "7fd7db57",
   "metadata": {},
   "outputs": [
    {
     "data": {
      "text/latex": [
       "$\\displaystyle \\left[\\begin{matrix}\\cos{\\left(\\theta_{1} \\right)}\\\\\\sin{\\left(\\theta_{1} \\right)}\\end{matrix}\\right]$"
      ],
      "text/plain": [
       "Matrix([\n",
       "[cos(theta_1)],\n",
       "[sin(theta_1)]])"
      ]
     },
     "execution_count": 7,
     "metadata": {},
     "output_type": "execute_result"
    }
   ],
   "source": [
    "# Joint 1 Kinematics\n",
    "FK1 = (T01 @ p01)[:-1,0]\n",
    "FK1"
   ]
  },
  {
   "cell_type": "code",
   "execution_count": 8,
   "id": "f5a4cc30",
   "metadata": {},
   "outputs": [
    {
     "data": {
      "text/latex": [
       "$\\displaystyle \\left[\\begin{matrix}\\cos{\\left(\\theta_{1} \\right)} + \\cos{\\left(\\theta_{1} + \\theta_{2} \\right)}\\\\\\sin{\\left(\\theta_{1} \\right)} + \\sin{\\left(\\theta_{1} + \\theta_{2} \\right)}\\end{matrix}\\right]$"
      ],
      "text/plain": [
       "Matrix([\n",
       "[cos(theta_1) + cos(theta_1 + theta_2)],\n",
       "[sin(theta_1) + sin(theta_1 + theta_2)]])"
      ]
     },
     "execution_count": 8,
     "metadata": {},
     "output_type": "execute_result"
    }
   ],
   "source": [
    "# Joint 2 Kinematics\n",
    "FK2 = sp.simplify((T01 @ T12 @ p12))[:-1,0]\n",
    "FK2"
   ]
  },
  {
   "cell_type": "code",
   "execution_count": 9,
   "id": "65ab40f5",
   "metadata": {},
   "outputs": [
    {
     "data": {
      "text/latex": [
       "$\\displaystyle \\left[\\begin{matrix}\\cos{\\left(\\theta_{1} \\right)} + \\cos{\\left(\\theta_{1} + \\theta_{2} \\right)} + \\cos{\\left(\\theta_{1} + \\theta_{2} + \\theta_{3} \\right)}\\\\\\sin{\\left(\\theta_{1} \\right)} + \\sin{\\left(\\theta_{1} + \\theta_{2} \\right)} + \\sin{\\left(\\theta_{1} + \\theta_{2} + \\theta_{3} \\right)}\\end{matrix}\\right]$"
      ],
      "text/plain": [
       "Matrix([\n",
       "[cos(theta_1) + cos(theta_1 + theta_2) + cos(theta_1 + theta_2 + theta_3)],\n",
       "[sin(theta_1) + sin(theta_1 + theta_2) + sin(theta_1 + theta_2 + theta_3)]])"
      ]
     },
     "execution_count": 9,
     "metadata": {},
     "output_type": "execute_result"
    }
   ],
   "source": [
    "# Joint 3 Kinematics\n",
    "FK3 = sp.simplify((T01 @ T12 @ T23 @ p23))[:-1,0]\n",
    "FK3"
   ]
  },
  {
   "cell_type": "markdown",
   "id": "b31d84c4",
   "metadata": {},
   "source": [
    "## 2 Jacobian"
   ]
  },
  {
   "cell_type": "code",
   "execution_count": 10,
   "id": "df539535",
   "metadata": {},
   "outputs": [
    {
     "data": {
      "text/latex": [
       "$\\displaystyle \\left[\\begin{matrix}- \\sin{\\left(\\theta_{1} \\right)}\\\\\\cos{\\left(\\theta_{1} \\right)}\\end{matrix}\\right]$"
      ],
      "text/plain": [
       "Matrix([\n",
       "[-sin(theta_1)],\n",
       "[ cos(theta_1)]])"
      ]
     },
     "execution_count": 10,
     "metadata": {},
     "output_type": "execute_result"
    }
   ],
   "source": [
    "# Joint 1 Jacobian\n",
    "J1 = FK1.jacobian([theta_1])\n",
    "J1"
   ]
  },
  {
   "cell_type": "code",
   "execution_count": 11,
   "id": "2b51ded2",
   "metadata": {},
   "outputs": [
    {
     "data": {
      "text/latex": [
       "$\\displaystyle \\left[\\begin{matrix}- \\sin{\\left(\\theta_{1} \\right)} - \\sin{\\left(\\theta_{1} + \\theta_{2} \\right)} & - \\sin{\\left(\\theta_{1} + \\theta_{2} \\right)}\\\\\\cos{\\left(\\theta_{1} \\right)} + \\cos{\\left(\\theta_{1} + \\theta_{2} \\right)} & \\cos{\\left(\\theta_{1} + \\theta_{2} \\right)}\\end{matrix}\\right]$"
      ],
      "text/plain": [
       "Matrix([\n",
       "[-sin(theta_1) - sin(theta_1 + theta_2), -sin(theta_1 + theta_2)],\n",
       "[ cos(theta_1) + cos(theta_1 + theta_2),  cos(theta_1 + theta_2)]])"
      ]
     },
     "execution_count": 11,
     "metadata": {},
     "output_type": "execute_result"
    }
   ],
   "source": [
    "# Joint 2 Jacobian\n",
    "J2 = FK2.jacobian([theta_1,theta_2])\n",
    "J2"
   ]
  },
  {
   "cell_type": "code",
   "execution_count": 12,
   "id": "1c9b12ce",
   "metadata": {},
   "outputs": [
    {
     "data": {
      "text/latex": [
       "$\\displaystyle \\left[\\begin{matrix}- \\sin{\\left(\\theta_{1} \\right)} - \\sin{\\left(\\theta_{1} + \\theta_{2} \\right)} - \\sin{\\left(\\theta_{1} + \\theta_{2} + \\theta_{3} \\right)} & - \\sin{\\left(\\theta_{1} + \\theta_{2} \\right)} - \\sin{\\left(\\theta_{1} + \\theta_{2} + \\theta_{3} \\right)} & - \\sin{\\left(\\theta_{1} + \\theta_{2} + \\theta_{3} \\right)}\\\\\\cos{\\left(\\theta_{1} \\right)} + \\cos{\\left(\\theta_{1} + \\theta_{2} \\right)} + \\cos{\\left(\\theta_{1} + \\theta_{2} + \\theta_{3} \\right)} & \\cos{\\left(\\theta_{1} + \\theta_{2} \\right)} + \\cos{\\left(\\theta_{1} + \\theta_{2} + \\theta_{3} \\right)} & \\cos{\\left(\\theta_{1} + \\theta_{2} + \\theta_{3} \\right)}\\end{matrix}\\right]$"
      ],
      "text/plain": [
       "Matrix([\n",
       "[-sin(theta_1) - sin(theta_1 + theta_2) - sin(theta_1 + theta_2 + theta_3), -sin(theta_1 + theta_2) - sin(theta_1 + theta_2 + theta_3), -sin(theta_1 + theta_2 + theta_3)],\n",
       "[ cos(theta_1) + cos(theta_1 + theta_2) + cos(theta_1 + theta_2 + theta_3),  cos(theta_1 + theta_2) + cos(theta_1 + theta_2 + theta_3),  cos(theta_1 + theta_2 + theta_3)]])"
      ]
     },
     "execution_count": 12,
     "metadata": {},
     "output_type": "execute_result"
    }
   ],
   "source": [
    "# Joint 3 Jacobian\n",
    "J3 = sp.simplify(FK3.jacobian([theta_1,theta_2,theta_3]))\n",
    "J3"
   ]
  },
  {
   "cell_type": "markdown",
   "id": "6d118681",
   "metadata": {},
   "source": [
    "## 3 Agregate Jacobian"
   ]
  },
  {
   "cell_type": "code",
   "execution_count": 13,
   "id": "ad8eeded",
   "metadata": {
    "scrolled": true
   },
   "outputs": [
    {
     "data": {
      "text/latex": [
       "$\\displaystyle \\left[\\begin{matrix}- \\sin{\\left(\\theta_{1} \\right)} & 0 & 0\\\\\\cos{\\left(\\theta_{1} \\right)} & 0 & 0\\\\- \\sin{\\left(\\theta_{1} \\right)} - \\sin{\\left(\\theta_{1} + \\theta_{2} \\right)} & - \\sin{\\left(\\theta_{1} + \\theta_{2} \\right)} & 0\\\\\\cos{\\left(\\theta_{1} \\right)} + \\cos{\\left(\\theta_{1} + \\theta_{2} \\right)} & \\cos{\\left(\\theta_{1} + \\theta_{2} \\right)} & 0\\\\- \\sin{\\left(\\theta_{1} \\right)} - \\sin{\\left(\\theta_{1} + \\theta_{2} \\right)} - \\sin{\\left(\\theta_{1} + \\theta_{2} + \\theta_{3} \\right)} & - \\sin{\\left(\\theta_{1} + \\theta_{2} \\right)} - \\sin{\\left(\\theta_{1} + \\theta_{2} + \\theta_{3} \\right)} & - \\sin{\\left(\\theta_{1} + \\theta_{2} + \\theta_{3} \\right)}\\\\\\cos{\\left(\\theta_{1} \\right)} + \\cos{\\left(\\theta_{1} + \\theta_{2} \\right)} + \\cos{\\left(\\theta_{1} + \\theta_{2} + \\theta_{3} \\right)} & \\cos{\\left(\\theta_{1} + \\theta_{2} \\right)} + \\cos{\\left(\\theta_{1} + \\theta_{2} + \\theta_{3} \\right)} & \\cos{\\left(\\theta_{1} + \\theta_{2} + \\theta_{3} \\right)}\\end{matrix}\\right]$"
      ],
      "text/plain": [
       "Matrix([\n",
       "[                                                            -sin(theta_1),                                                          0,                                 0],\n",
       "[                                                             cos(theta_1),                                                          0,                                 0],\n",
       "[                                   -sin(theta_1) - sin(theta_1 + theta_2),                                    -sin(theta_1 + theta_2),                                 0],\n",
       "[                                    cos(theta_1) + cos(theta_1 + theta_2),                                     cos(theta_1 + theta_2),                                 0],\n",
       "[-sin(theta_1) - sin(theta_1 + theta_2) - sin(theta_1 + theta_2 + theta_3), -sin(theta_1 + theta_2) - sin(theta_1 + theta_2 + theta_3), -sin(theta_1 + theta_2 + theta_3)],\n",
       "[ cos(theta_1) + cos(theta_1 + theta_2) + cos(theta_1 + theta_2 + theta_3),  cos(theta_1 + theta_2) + cos(theta_1 + theta_2 + theta_3),  cos(theta_1 + theta_2 + theta_3)]])"
      ]
     },
     "execution_count": 13,
     "metadata": {},
     "output_type": "execute_result"
    }
   ],
   "source": [
    "J = sp.Matrix([[J1[0],0,0],\n",
    "               [J1[1],0,0],\n",
    "               [J2[0,0],J2[0,1],0],\n",
    "               [J2[1,0],J2[1,1],0],\n",
    "               [J3[0,0],J3[0,1],J3[0,2]],\n",
    "               [J3[1,0],J3[1,1],J3[1,2]]])\n",
    "\n",
    "J"
   ]
  },
  {
   "cell_type": "markdown",
   "id": "5449d14d",
   "metadata": {},
   "source": [
    "## 4 Mass Matrix"
   ]
  },
  {
   "cell_type": "code",
   "execution_count": 14,
   "id": "c7f01f6d",
   "metadata": {},
   "outputs": [
    {
     "data": {
      "text/latex": [
       "$\\displaystyle \\left[\\begin{matrix}m_{1} \\sin^{2}{\\left(\\theta_{1} \\right)} + m_{1} \\cos^{2}{\\left(\\theta_{1} \\right)} + m_{2} \\left(- \\sin{\\left(\\theta_{1} \\right)} - \\sin{\\left(\\theta_{1} + \\theta_{2} \\right)}\\right)^{2} + m_{2} \\left(\\cos{\\left(\\theta_{1} \\right)} + \\cos{\\left(\\theta_{1} + \\theta_{2} \\right)}\\right)^{2} + m_{3} \\left(- \\sin{\\left(\\theta_{1} \\right)} - \\sin{\\left(\\theta_{1} + \\theta_{2} \\right)} - \\sin{\\left(\\theta_{1} + \\theta_{2} + \\theta_{3} \\right)}\\right)^{2} + m_{3} \\left(\\cos{\\left(\\theta_{1} \\right)} + \\cos{\\left(\\theta_{1} + \\theta_{2} \\right)} + \\cos{\\left(\\theta_{1} + \\theta_{2} + \\theta_{3} \\right)}\\right)^{2} & - m_{2} \\left(- \\sin{\\left(\\theta_{1} \\right)} - \\sin{\\left(\\theta_{1} + \\theta_{2} \\right)}\\right) \\sin{\\left(\\theta_{1} + \\theta_{2} \\right)} + m_{2} \\left(\\cos{\\left(\\theta_{1} \\right)} + \\cos{\\left(\\theta_{1} + \\theta_{2} \\right)}\\right) \\cos{\\left(\\theta_{1} + \\theta_{2} \\right)} + m_{3} \\left(- \\sin{\\left(\\theta_{1} + \\theta_{2} \\right)} - \\sin{\\left(\\theta_{1} + \\theta_{2} + \\theta_{3} \\right)}\\right) \\left(- \\sin{\\left(\\theta_{1} \\right)} - \\sin{\\left(\\theta_{1} + \\theta_{2} \\right)} - \\sin{\\left(\\theta_{1} + \\theta_{2} + \\theta_{3} \\right)}\\right) + m_{3} \\left(\\cos{\\left(\\theta_{1} + \\theta_{2} \\right)} + \\cos{\\left(\\theta_{1} + \\theta_{2} + \\theta_{3} \\right)}\\right) \\left(\\cos{\\left(\\theta_{1} \\right)} + \\cos{\\left(\\theta_{1} + \\theta_{2} \\right)} + \\cos{\\left(\\theta_{1} + \\theta_{2} + \\theta_{3} \\right)}\\right) & - m_{3} \\left(- \\sin{\\left(\\theta_{1} \\right)} - \\sin{\\left(\\theta_{1} + \\theta_{2} \\right)} - \\sin{\\left(\\theta_{1} + \\theta_{2} + \\theta_{3} \\right)}\\right) \\sin{\\left(\\theta_{1} + \\theta_{2} + \\theta_{3} \\right)} + m_{3} \\left(\\cos{\\left(\\theta_{1} \\right)} + \\cos{\\left(\\theta_{1} + \\theta_{2} \\right)} + \\cos{\\left(\\theta_{1} + \\theta_{2} + \\theta_{3} \\right)}\\right) \\cos{\\left(\\theta_{1} + \\theta_{2} + \\theta_{3} \\right)}\\\\- m_{2} \\left(- \\sin{\\left(\\theta_{1} \\right)} - \\sin{\\left(\\theta_{1} + \\theta_{2} \\right)}\\right) \\sin{\\left(\\theta_{1} + \\theta_{2} \\right)} + m_{2} \\left(\\cos{\\left(\\theta_{1} \\right)} + \\cos{\\left(\\theta_{1} + \\theta_{2} \\right)}\\right) \\cos{\\left(\\theta_{1} + \\theta_{2} \\right)} + m_{3} \\left(- \\sin{\\left(\\theta_{1} + \\theta_{2} \\right)} - \\sin{\\left(\\theta_{1} + \\theta_{2} + \\theta_{3} \\right)}\\right) \\left(- \\sin{\\left(\\theta_{1} \\right)} - \\sin{\\left(\\theta_{1} + \\theta_{2} \\right)} - \\sin{\\left(\\theta_{1} + \\theta_{2} + \\theta_{3} \\right)}\\right) + m_{3} \\left(\\cos{\\left(\\theta_{1} + \\theta_{2} \\right)} + \\cos{\\left(\\theta_{1} + \\theta_{2} + \\theta_{3} \\right)}\\right) \\left(\\cos{\\left(\\theta_{1} \\right)} + \\cos{\\left(\\theta_{1} + \\theta_{2} \\right)} + \\cos{\\left(\\theta_{1} + \\theta_{2} + \\theta_{3} \\right)}\\right) & m_{2} \\sin^{2}{\\left(\\theta_{1} + \\theta_{2} \\right)} + m_{2} \\cos^{2}{\\left(\\theta_{1} + \\theta_{2} \\right)} + m_{3} \\left(- \\sin{\\left(\\theta_{1} + \\theta_{2} \\right)} - \\sin{\\left(\\theta_{1} + \\theta_{2} + \\theta_{3} \\right)}\\right)^{2} + m_{3} \\left(\\cos{\\left(\\theta_{1} + \\theta_{2} \\right)} + \\cos{\\left(\\theta_{1} + \\theta_{2} + \\theta_{3} \\right)}\\right)^{2} & - m_{3} \\left(- \\sin{\\left(\\theta_{1} + \\theta_{2} \\right)} - \\sin{\\left(\\theta_{1} + \\theta_{2} + \\theta_{3} \\right)}\\right) \\sin{\\left(\\theta_{1} + \\theta_{2} + \\theta_{3} \\right)} + m_{3} \\left(\\cos{\\left(\\theta_{1} + \\theta_{2} \\right)} + \\cos{\\left(\\theta_{1} + \\theta_{2} + \\theta_{3} \\right)}\\right) \\cos{\\left(\\theta_{1} + \\theta_{2} + \\theta_{3} \\right)}\\\\- m_{3} \\left(- \\sin{\\left(\\theta_{1} \\right)} - \\sin{\\left(\\theta_{1} + \\theta_{2} \\right)} - \\sin{\\left(\\theta_{1} + \\theta_{2} + \\theta_{3} \\right)}\\right) \\sin{\\left(\\theta_{1} + \\theta_{2} + \\theta_{3} \\right)} + m_{3} \\left(\\cos{\\left(\\theta_{1} \\right)} + \\cos{\\left(\\theta_{1} + \\theta_{2} \\right)} + \\cos{\\left(\\theta_{1} + \\theta_{2} + \\theta_{3} \\right)}\\right) \\cos{\\left(\\theta_{1} + \\theta_{2} + \\theta_{3} \\right)} & - m_{3} \\left(- \\sin{\\left(\\theta_{1} + \\theta_{2} \\right)} - \\sin{\\left(\\theta_{1} + \\theta_{2} + \\theta_{3} \\right)}\\right) \\sin{\\left(\\theta_{1} + \\theta_{2} + \\theta_{3} \\right)} + m_{3} \\left(\\cos{\\left(\\theta_{1} + \\theta_{2} \\right)} + \\cos{\\left(\\theta_{1} + \\theta_{2} + \\theta_{3} \\right)}\\right) \\cos{\\left(\\theta_{1} + \\theta_{2} + \\theta_{3} \\right)} & m_{3} \\sin^{2}{\\left(\\theta_{1} + \\theta_{2} + \\theta_{3} \\right)} + m_{3} \\cos^{2}{\\left(\\theta_{1} + \\theta_{2} + \\theta_{3} \\right)}\\end{matrix}\\right]$"
      ],
      "text/plain": [
       "Matrix([\n",
       "[                                                                                                                m_1*sin(theta_1)**2 + m_1*cos(theta_1)**2 + m_2*(-sin(theta_1) - sin(theta_1 + theta_2))**2 + m_2*(cos(theta_1) + cos(theta_1 + theta_2))**2 + m_3*(-sin(theta_1) - sin(theta_1 + theta_2) - sin(theta_1 + theta_2 + theta_3))**2 + m_3*(cos(theta_1) + cos(theta_1 + theta_2) + cos(theta_1 + theta_2 + theta_3))**2, -m_2*(-sin(theta_1) - sin(theta_1 + theta_2))*sin(theta_1 + theta_2) + m_2*(cos(theta_1) + cos(theta_1 + theta_2))*cos(theta_1 + theta_2) + m_3*(-sin(theta_1 + theta_2) - sin(theta_1 + theta_2 + theta_3))*(-sin(theta_1) - sin(theta_1 + theta_2) - sin(theta_1 + theta_2 + theta_3)) + m_3*(cos(theta_1 + theta_2) + cos(theta_1 + theta_2 + theta_3))*(cos(theta_1) + cos(theta_1 + theta_2) + cos(theta_1 + theta_2 + theta_3)), -m_3*(-sin(theta_1) - sin(theta_1 + theta_2) - sin(theta_1 + theta_2 + theta_3))*sin(theta_1 + theta_2 + theta_3) + m_3*(cos(theta_1) + cos(theta_1 + theta_2) + cos(theta_1 + theta_2 + theta_3))*cos(theta_1 + theta_2 + theta_3)],\n",
       "[-m_2*(-sin(theta_1) - sin(theta_1 + theta_2))*sin(theta_1 + theta_2) + m_2*(cos(theta_1) + cos(theta_1 + theta_2))*cos(theta_1 + theta_2) + m_3*(-sin(theta_1 + theta_2) - sin(theta_1 + theta_2 + theta_3))*(-sin(theta_1) - sin(theta_1 + theta_2) - sin(theta_1 + theta_2 + theta_3)) + m_3*(cos(theta_1 + theta_2) + cos(theta_1 + theta_2 + theta_3))*(cos(theta_1) + cos(theta_1 + theta_2) + cos(theta_1 + theta_2 + theta_3)),                                                                                                                                                                                                                              m_2*sin(theta_1 + theta_2)**2 + m_2*cos(theta_1 + theta_2)**2 + m_3*(-sin(theta_1 + theta_2) - sin(theta_1 + theta_2 + theta_3))**2 + m_3*(cos(theta_1 + theta_2) + cos(theta_1 + theta_2 + theta_3))**2,                               -m_3*(-sin(theta_1 + theta_2) - sin(theta_1 + theta_2 + theta_3))*sin(theta_1 + theta_2 + theta_3) + m_3*(cos(theta_1 + theta_2) + cos(theta_1 + theta_2 + theta_3))*cos(theta_1 + theta_2 + theta_3)],\n",
       "[                                                                                                                                                                                                  -m_3*(-sin(theta_1) - sin(theta_1 + theta_2) - sin(theta_1 + theta_2 + theta_3))*sin(theta_1 + theta_2 + theta_3) + m_3*(cos(theta_1) + cos(theta_1 + theta_2) + cos(theta_1 + theta_2 + theta_3))*cos(theta_1 + theta_2 + theta_3),                                                                                                                                                                                                                                 -m_3*(-sin(theta_1 + theta_2) - sin(theta_1 + theta_2 + theta_3))*sin(theta_1 + theta_2 + theta_3) + m_3*(cos(theta_1 + theta_2) + cos(theta_1 + theta_2 + theta_3))*cos(theta_1 + theta_2 + theta_3),                                                                                                                                                   m_3*sin(theta_1 + theta_2 + theta_3)**2 + m_3*cos(theta_1 + theta_2 + theta_3)**2]])"
      ]
     },
     "execution_count": 14,
     "metadata": {},
     "output_type": "execute_result"
    }
   ],
   "source": [
    "m_1,m_2,m_3,g = sp.symbols('m_1,m_2,m_3,g',real=True)\n",
    "M = J.transpose() @ sp.diag(m_1,m_1,m_2,m_2,m_3,m_3) @ J\n",
    "M"
   ]
  },
  {
   "cell_type": "markdown",
   "id": "6420d1e3",
   "metadata": {},
   "source": [
    "## 5 Standing Configuration Mass Matrix"
   ]
  },
  {
   "cell_type": "code",
   "execution_count": 15,
   "id": "44938af3",
   "metadata": {},
   "outputs": [
    {
     "data": {
      "text/latex": [
       "$\\displaystyle \\left[\\begin{matrix}m_{1} + 4 m_{2} + 9 m_{3} & 2 m_{2} + 6 m_{3} & 3 m_{3}\\\\2 m_{2} + 6 m_{3} & m_{2} + 4 m_{3} & 2 m_{3}\\\\3 m_{3} & 2 m_{3} & m_{3}\\end{matrix}\\right]$"
      ],
      "text/plain": [
       "Matrix([\n",
       "[m_1 + 4*m_2 + 9*m_3, 2*m_2 + 6*m_3, 3*m_3],\n",
       "[      2*m_2 + 6*m_3,   m_2 + 4*m_3, 2*m_3],\n",
       "[              3*m_3,         2*m_3,   m_3]])"
      ]
     },
     "execution_count": 15,
     "metadata": {},
     "output_type": "execute_result"
    }
   ],
   "source": [
    "M_stand = M.subs([[theta_1,sp.pi/2],[theta_2,0],[theta_3,0]])\n",
    "M_stand"
   ]
  },
  {
   "cell_type": "markdown",
   "id": "953d84ee",
   "metadata": {},
   "source": [
    "## 6 Standing Configuration Gravitational Torque"
   ]
  },
  {
   "cell_type": "code",
   "execution_count": 16,
   "id": "218e459e",
   "metadata": {},
   "outputs": [
    {
     "data": {
      "text/latex": [
       "$\\displaystyle \\left[\\begin{matrix}0\\\\0\\\\0\\end{matrix}\\right]$"
      ],
      "text/plain": [
       "Matrix([\n",
       "[0],\n",
       "[0],\n",
       "[0]])"
      ]
     },
     "execution_count": 16,
     "metadata": {},
     "output_type": "execute_result"
    }
   ],
   "source": [
    "G_stand = (J.transpose() @ sp.Matrix([[0],[-m_1*g],[0],[-m_2*g],[0],[-m_3*g]])).subs([[theta_1,sp.pi/2],[theta_2,0],[theta_3,0]])\n",
    "G_stand "
   ]
  },
  {
   "cell_type": "markdown",
   "id": "a6c0ae69",
   "metadata": {},
   "source": [
    "## 7 Standing Torque"
   ]
  },
  {
   "cell_type": "code",
   "execution_count": 17,
   "id": "c0e4bb76",
   "metadata": {},
   "outputs": [
    {
     "data": {
      "text/latex": [
       "$\\displaystyle \\left[\\begin{matrix}0\\\\0\\\\0\\end{matrix}\\right]$"
      ],
      "text/plain": [
       "Matrix([\n",
       "[0],\n",
       "[0],\n",
       "[0]])"
      ]
     },
     "execution_count": 17,
     "metadata": {},
     "output_type": "execute_result"
    }
   ],
   "source": [
    "tau_stand = G_stand\n",
    "tau_stand"
   ]
  }
 ],
 "metadata": {
  "kernelspec": {
   "display_name": "Python 3 (ipykernel)",
   "language": "python",
   "name": "python3"
  },
  "language_info": {
   "codemirror_mode": {
    "name": "ipython",
    "version": 3
   },
   "file_extension": ".py",
   "mimetype": "text/x-python",
   "name": "python",
   "nbconvert_exporter": "python",
   "pygments_lexer": "ipython3",
   "version": "3.11.5"
  }
 },
 "nbformat": 4,
 "nbformat_minor": 5
}
