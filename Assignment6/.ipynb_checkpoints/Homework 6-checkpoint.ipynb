{
 "cells": [
  {
   "cell_type": "markdown",
   "id": "049e727a",
   "metadata": {},
   "source": [
    "# Homework 6"
   ]
  },
  {
   "cell_type": "code",
   "execution_count": 1,
   "id": "9fdc092e",
   "metadata": {},
   "outputs": [],
   "source": [
    "import sympy as sp\n",
    "import numpy as np\n",
    "import matplotlib.pyplot as plt\n",
    "\n",
    "from numpy import pi \n",
    "from sympy import Function, simplify\n",
    "\n",
    "# from IPython import display # for the animation\n",
    "import matplotlib as mpl\n",
    "mpl.use('Qt5Agg')\n",
    "\n",
    "import matplotlib.pyplot as plt\n",
    "plt.ion()\n",
    "\n",
    "\n",
    "# styling for plots\n",
    "mpl.rcParams['axes.titlesize'] = 24\n",
    "mpl.rcParams['axes.labelsize'] = 20\n",
    "mpl.rcParams['lines.linewidth'] = 3\n",
    "mpl.rcParams['lines.markersize'] = 10\n",
    "mpl.rcParams['xtick.labelsize'] = 16\n",
    "mpl.rcParams['ytick.labelsize'] = 16\n",
    "\n",
    "from sympy.utilities.lambdify import implemented_function\n",
    "\n",
    "from sympy import lambdify\n",
    "\n",
    "from sympy.utilities.lambdify import lambdastr"
   ]
  },
  {
   "cell_type": "markdown",
   "id": "3127eb56",
   "metadata": {},
   "source": [
    "### Convert Sym to Np"
   ]
  },
  {
   "cell_type": "code",
   "execution_count": 2,
   "id": "f4e4fd85",
   "metadata": {},
   "outputs": [],
   "source": [
    "def sym_to_np(T):\n",
    "    return np.array(T).astype(np.float64)"
   ]
  },
  {
   "cell_type": "markdown",
   "id": "0c8c048c",
   "metadata": {},
   "source": [
    "### Symbolic variables for our robot configuration"
   ]
  },
  {
   "cell_type": "code",
   "execution_count": 3,
   "id": "723f65c3",
   "metadata": {},
   "outputs": [],
   "source": [
    "(theta_1,\n",
    " theta_2,\n",
    " theta_3,\n",
    " L_1,\n",
    " L_2,\n",
    " L_3,\n",
    " s,\n",
    " t) = sp.symbols(\"\"\"\n",
    "                    theta_1,\n",
    "                    theta_2,\n",
    "                    theta_3,\n",
    "                    l_1,\n",
    "                    l_2,\n",
    "                    l_3,\n",
    "                    s,\n",
    "                    t\n",
    "                    \"\"\",real=True)\n",
    "\n",
    "\n",
    "# theta_1 = Function('theta_1', real=True)(t)\n",
    "# theta_2 = Function('theta_2', real=True)(t)\n",
    "# theta_3 = Function('theta_3', real=True)(t)"
   ]
  },
  {
   "cell_type": "markdown",
   "id": "d68bd3dc",
   "metadata": {},
   "source": [
    "### Generic 2D Transformation Function"
   ]
  },
  {
   "cell_type": "code",
   "execution_count": 4,
   "id": "6e52c16e",
   "metadata": {},
   "outputs": [],
   "source": [
    "def T(theta,L):\n",
    "    return sp.Matrix([[sp.cos(theta), -sp.sin(theta), L*sp.cos(theta)],\n",
    "                      [sp.sin(theta),  sp.cos(theta), L*sp.sin(theta)],\n",
    "                      [            0,              0,               1]])"
   ]
  },
  {
   "cell_type": "markdown",
   "id": "4cda3393",
   "metadata": {},
   "source": [
    "### Zero Position"
   ]
  },
  {
   "cell_type": "code",
   "execution_count": 5,
   "id": "598caeb7",
   "metadata": {},
   "outputs": [],
   "source": [
    "M = sp.Matrix([[0],[0],[1]])"
   ]
  },
  {
   "cell_type": "markdown",
   "id": "9d24d2e2",
   "metadata": {},
   "source": [
    "### Formward Kinematics "
   ]
  },
  {
   "cell_type": "code",
   "execution_count": 6,
   "id": "aa996b66",
   "metadata": {},
   "outputs": [],
   "source": [
    "# Kinematics of the First Joint\n",
    "def T1(theta_1,L_1,s):\n",
    "    return T(theta_1,s*L_1) \n",
    "\n",
    "# Kinematics of the Second Joint\n",
    "def T2(theta_1,theta_2,L_1,L_2,s):\n",
    "    return T(theta_1,L_1) @ T(theta_2,s*L_2) \n",
    "\n",
    "# Kinematics of the Third Joint\n",
    "def T3(theta_1,theta_2,theta_3,L_1,L_2,L_3,s):\n",
    "    return T(theta_1,L_1) @ T(theta_2,L_2) @ T(theta_3,s*L_3) "
   ]
  },
  {
   "cell_type": "code",
   "execution_count": 7,
   "id": "ffe5808b",
   "metadata": {},
   "outputs": [
    {
     "data": {
      "text/latex": [
       "$\\displaystyle \\left[\\begin{matrix}l_{1} s \\cos{\\left(\\theta_{1} \\right)}\\\\l_{1} s \\sin{\\left(\\theta_{1} \\right)}\\end{matrix}\\right]$"
      ],
      "text/plain": [
       "Matrix([\n",
       "[l_1*s*cos(theta_1)],\n",
       "[l_1*s*sin(theta_1)]])"
      ]
     },
     "execution_count": 7,
     "metadata": {},
     "output_type": "execute_result"
    }
   ],
   "source": [
    "FK1 = (T1(theta_1,L_1,s) @ M) [:-1,0] \n",
    "FK1"
   ]
  },
  {
   "cell_type": "code",
   "execution_count": 8,
   "id": "010e4362",
   "metadata": {},
   "outputs": [
    {
     "data": {
      "text/latex": [
       "$\\displaystyle \\left[\\begin{matrix}l_{1} \\cos{\\left(\\theta_{1} \\right)} + l_{2} s \\cos{\\left(\\theta_{1} + \\theta_{2} \\right)}\\\\l_{1} \\sin{\\left(\\theta_{1} \\right)} + l_{2} s \\sin{\\left(\\theta_{1} + \\theta_{2} \\right)}\\end{matrix}\\right]$"
      ],
      "text/plain": [
       "Matrix([\n",
       "[l_1*cos(theta_1) + l_2*s*cos(theta_1 + theta_2)],\n",
       "[l_1*sin(theta_1) + l_2*s*sin(theta_1 + theta_2)]])"
      ]
     },
     "execution_count": 8,
     "metadata": {},
     "output_type": "execute_result"
    }
   ],
   "source": [
    "FK2 = simplify(T2(theta_1,theta_2,L_1,L_2,s) @ M) [:-1,0] \n",
    "FK2"
   ]
  },
  {
   "cell_type": "code",
   "execution_count": 9,
   "id": "d1b4cd55",
   "metadata": {},
   "outputs": [
    {
     "data": {
      "text/latex": [
       "$\\displaystyle \\left[\\begin{matrix}l_{1} \\cos{\\left(\\theta_{1} \\right)} + l_{2} \\cos{\\left(\\theta_{1} + \\theta_{2} \\right)} + l_{3} s \\cos{\\left(\\theta_{1} + \\theta_{2} + \\theta_{3} \\right)}\\\\l_{1} \\sin{\\left(\\theta_{1} \\right)} + l_{2} \\sin{\\left(\\theta_{1} + \\theta_{2} \\right)} + l_{3} s \\sin{\\left(\\theta_{1} + \\theta_{2} + \\theta_{3} \\right)}\\end{matrix}\\right]$"
      ],
      "text/plain": [
       "Matrix([\n",
       "[l_1*cos(theta_1) + l_2*cos(theta_1 + theta_2) + l_3*s*cos(theta_1 + theta_2 + theta_3)],\n",
       "[l_1*sin(theta_1) + l_2*sin(theta_1 + theta_2) + l_3*s*sin(theta_1 + theta_2 + theta_3)]])"
      ]
     },
     "execution_count": 9,
     "metadata": {},
     "output_type": "execute_result"
    }
   ],
   "source": [
    "FK3 = simplify(T3(theta_1,theta_2,theta_3,L_1,L_2,L_3,s) @ M) [:-1,0] \n",
    "FK3"
   ]
  },
  {
   "cell_type": "markdown",
   "id": "2b6f10c2",
   "metadata": {},
   "source": [
    "### Jacobian"
   ]
  },
  {
   "cell_type": "code",
   "execution_count": 10,
   "id": "c2c9f754",
   "metadata": {},
   "outputs": [
    {
     "data": {
      "text/latex": [
       "$\\displaystyle \\left[\\begin{matrix}- l_{1} s \\sin{\\left(\\theta_{1} \\right)}\\\\l_{1} s \\cos{\\left(\\theta_{1} \\right)}\\end{matrix}\\right]$"
      ],
      "text/plain": [
       "Matrix([\n",
       "[-l_1*s*sin(theta_1)],\n",
       "[ l_1*s*cos(theta_1)]])"
      ]
     },
     "execution_count": 10,
     "metadata": {},
     "output_type": "execute_result"
    }
   ],
   "source": [
    "# I am extracting the position part of each translation matrix for the jacobian\n",
    "X1 = sp.Matrix([theta_1])\n",
    "J1 = FK1.jacobian(X1)\n",
    "J1"
   ]
  },
  {
   "cell_type": "code",
   "execution_count": 11,
   "id": "c7949e04",
   "metadata": {},
   "outputs": [
    {
     "data": {
      "text/latex": [
       "$\\displaystyle \\left[\\begin{matrix}- l_{1} \\sin{\\left(\\theta_{1} \\right)} - l_{2} s \\sin{\\left(\\theta_{1} + \\theta_{2} \\right)} & - l_{2} s \\sin{\\left(\\theta_{1} + \\theta_{2} \\right)}\\\\l_{1} \\cos{\\left(\\theta_{1} \\right)} + l_{2} s \\cos{\\left(\\theta_{1} + \\theta_{2} \\right)} & l_{2} s \\cos{\\left(\\theta_{1} + \\theta_{2} \\right)}\\end{matrix}\\right]$"
      ],
      "text/plain": [
       "Matrix([\n",
       "[-l_1*sin(theta_1) - l_2*s*sin(theta_1 + theta_2), -l_2*s*sin(theta_1 + theta_2)],\n",
       "[ l_1*cos(theta_1) + l_2*s*cos(theta_1 + theta_2),  l_2*s*cos(theta_1 + theta_2)]])"
      ]
     },
     "execution_count": 11,
     "metadata": {},
     "output_type": "execute_result"
    }
   ],
   "source": [
    "X2 = sp.Matrix([theta_1,theta_2])\n",
    "J2 = FK2.jacobian(X2)\n",
    "J2"
   ]
  },
  {
   "cell_type": "code",
   "execution_count": 12,
   "id": "e113e612",
   "metadata": {},
   "outputs": [
    {
     "data": {
      "text/latex": [
       "$\\displaystyle \\left[\\begin{matrix}- l_{1} \\sin{\\left(\\theta_{1} \\right)} - l_{2} \\sin{\\left(\\theta_{1} + \\theta_{2} \\right)} - l_{3} s \\sin{\\left(\\theta_{1} + \\theta_{2} + \\theta_{3} \\right)} & - l_{2} \\sin{\\left(\\theta_{1} + \\theta_{2} \\right)} - l_{3} s \\sin{\\left(\\theta_{1} + \\theta_{2} + \\theta_{3} \\right)} & - l_{3} s \\sin{\\left(\\theta_{1} + \\theta_{2} + \\theta_{3} \\right)}\\\\l_{1} \\cos{\\left(\\theta_{1} \\right)} + l_{2} \\cos{\\left(\\theta_{1} + \\theta_{2} \\right)} + l_{3} s \\cos{\\left(\\theta_{1} + \\theta_{2} + \\theta_{3} \\right)} & l_{2} \\cos{\\left(\\theta_{1} + \\theta_{2} \\right)} + l_{3} s \\cos{\\left(\\theta_{1} + \\theta_{2} + \\theta_{3} \\right)} & l_{3} s \\cos{\\left(\\theta_{1} + \\theta_{2} + \\theta_{3} \\right)}\\end{matrix}\\right]$"
      ],
      "text/plain": [
       "Matrix([\n",
       "[-l_1*sin(theta_1) - l_2*sin(theta_1 + theta_2) - l_3*s*sin(theta_1 + theta_2 + theta_3), -l_2*sin(theta_1 + theta_2) - l_3*s*sin(theta_1 + theta_2 + theta_3), -l_3*s*sin(theta_1 + theta_2 + theta_3)],\n",
       "[ l_1*cos(theta_1) + l_2*cos(theta_1 + theta_2) + l_3*s*cos(theta_1 + theta_2 + theta_3),  l_2*cos(theta_1 + theta_2) + l_3*s*cos(theta_1 + theta_2 + theta_3),  l_3*s*cos(theta_1 + theta_2 + theta_3)]])"
      ]
     },
     "execution_count": 12,
     "metadata": {},
     "output_type": "execute_result"
    }
   ],
   "source": [
    "X3 = sp.Matrix([theta_1,theta_2,theta_3])\n",
    "J3 = simplify(FK3.jacobian(X3))\n",
    "J3"
   ]
  },
  {
   "cell_type": "markdown",
   "id": "b7bb7778",
   "metadata": {},
   "source": [
    "## Numerical Implementation"
   ]
  },
  {
   "cell_type": "code",
   "execution_count": 13,
   "id": "56c3cd6f",
   "metadata": {},
   "outputs": [],
   "source": [
    "LINKS = [1,1,1]\n",
    "link1, link2, link3 = LINKS\n",
    "\n",
    "J1 = J1.subs([[L_1,link1]])\n",
    "J2 = J2.subs([[L_1,link1],[L_2,link2]])\n",
    "J3 = J3.subs([[L_1,link1],[L_2,link2],[L_3,link3]]) \n",
    "\n",
    "# FK1 = FK1.subs([[L_1,link1]])\n",
    "# FK2 = FK2.subs([[L_1,link1],[L_2,link2]])\n",
    "# FK3 = FK3.subs([[L_1,link1],[L_2,link2],[L_3,link3]])\n",
    "\n",
    "# THETAS = [0,0,0]\n",
    "# theta1, theta2, theta3 = THETAS\n",
    "\n"
   ]
  },
  {
   "cell_type": "code",
   "execution_count": 19,
   "id": "104d2b30",
   "metadata": {},
   "outputs": [],
   "source": [
    "def nT(theta,L):\n",
    "    return np.array([[np.cos(theta), -np.sin(theta), L*np.cos(theta)],\n",
    "                     [np.sin(theta),  np.cos(theta), L*np.sin(theta)],\n",
    "                     [            0,              0,               1]])\n",
    "\n",
    "def nT1(theta_1,L_1,s):\n",
    "    return nT(theta_1,L_1*s)\n",
    "\n",
    "def nT2(theta_1,theta_2,L_1,L_2,s):\n",
    "    return nT(theta_1,L_1) @ nT(theta_2,L_2*s)\n",
    "\n",
    "def nT3(theta_1,theta_2,theta_3,L_1,L_2,L_3,s):\n",
    "    return nT(theta_1,L_1) @ nT(theta_2,L_2) @ nT(theta_3,L_3*s)\n",
    "\n",
    "def flexible_arm_FK(THETA,LINKS,S):\n",
    "    theta1,theta2,theta3 = THETA\n",
    "    link1, link2, link3 = LINKS\n",
    "    s1,s2,s3 = S\n",
    "    p0 = np.array([[0],[0],[1]]);\n",
    "    p1 = nT1(theta1,link1,s1) @ p0\n",
    "    p2 = nT2(theta1,theta2,link1,link2,s2) @ p0\n",
    "    p3 = nT3(theta1,theta2,theta3,link1,link2,link3,s3) @ p0;\n",
    "    return np.hstack([p0[:-1],p1[:-1],p2[:-1],p3[:-1]])"
   ]
  },
  {
   "cell_type": "code",
   "execution_count": null,
   "id": "62ae6d26",
   "metadata": {},
   "outputs": [],
   "source": [
    "t = np.linspace(1,10,500)\n",
    "s = np.linspace(0,1,10)\n",
    "\n",
    "a1 = pi/2\n",
    "a2 = -pi/2\n",
    "\n",
    "phi1 = 0\n",
    "phi2 = -4.6\n",
    "\n",
    "w1 = -1;\n",
    "w2 = -0.5;\n",
    "\n",
    "theta1 = a1*np.sin(w1*t)\n",
    "theta2 = a2*np.cos(w2*t+phi2)**8 \n",
    "theta3 = a2*np.cos(w2*t+phi2)**8 \n",
    "s"
   ]
  },
  {
   "cell_type": "code",
   "execution_count": 81,
   "id": "05852303",
   "metadata": {},
   "outputs": [],
   "source": [
    "# J1 = J1.subs([[theta_1,theta1]])\n",
    "# J2 = J2.subs([[theta_1,theta1],[theta_2,theta2]])\n",
    "# J3 = J3.subs([[theta_1,theta1],[theta_2,theta2],[theta_3,theta3]])\n",
    "\n",
    "# S = [1,1,1]\n",
    "# \n",
    "\n",
    "# J1 = J1.subs([[s,s1]])\n",
    "# J2 = J2.subs([[s,s2]])\n",
    "# J3 = J3.subs([[s,s2]])\n",
    "\n",
    "\n",
    "PTS = []\n",
    "plt.close()\n",
    "fig = plt.figure(figsize=(12,12))\n",
    "for i in range(len(t)):\n",
    "    LINKS = [1,1,1];\n",
    "    THETA = [theta1[i],theta2[i],theta3[i]]\n",
    "    plt.clf()\n",
    "    ax = plt.gca()\n",
    "    ax.set_xlim([-3.5,3.5])\n",
    "    ax.set_ylim([-3.5,3.5])\n",
    "    PTS.append(flexible_arm_FK(THETA,LINKS,[1,1,1]))\n",
    "    ax.plot(PTS[i][0,:],PTS[i][1,:],'-')\n",
    "    plt.draw()\n",
    "    pts = []\n",
    "    for j in range(9):\n",
    "        S = [s[j],s[j],s[j]]\n",
    "        pts.append(flexible_arm_FK(THETA,LINKS,S))\n",
    "\n",
    "        ax = plt.gca()\n",
    "        ax.plot(pts[j][0,:],pts[j][1,:],'.g')\n",
    "        # ax.plot(-pts[0,:],pts[1,:])\n",
    "        # ax.plot(-pts[0,:],pts[1,:],'.k')\n",
    "\n",
    "        \n",
    "        plt.draw()\n",
    "        plt.show()\n",
    "    plt.pause(0.001)\n"
   ]
  },
  {
   "cell_type": "code",
   "execution_count": 47,
   "id": "82db9b2d",
   "metadata": {},
   "outputs": [
    {
     "ename": "IndexError",
     "evalue": "list index out of range",
     "output_type": "error",
     "traceback": [
      "\u001b[1;31m---------------------------------------------------------------------------\u001b[0m",
      "\u001b[1;31mIndexError\u001b[0m                                Traceback (most recent call last)",
      "Cell \u001b[1;32mIn[47], line 1\u001b[0m\n\u001b[1;32m----> 1\u001b[0m pts[\u001b[38;5;241m3\u001b[39m]\n",
      "\u001b[1;31mIndexError\u001b[0m: list index out of range"
     ]
    }
   ],
   "source": [
    "pts[3]"
   ]
  },
  {
   "cell_type": "code",
   "execution_count": 25,
   "id": "2856baf2",
   "metadata": {},
   "outputs": [
    {
     "data": {
      "text/plain": [
       "range(0, 9)"
      ]
     },
     "execution_count": 25,
     "metadata": {},
     "output_type": "execute_result"
    }
   ],
   "source": []
  },
  {
   "cell_type": "code",
   "execution_count": 36,
   "id": "8f62529a",
   "metadata": {},
   "outputs": [
    {
     "data": {
      "text/plain": [
       "array([ 0.        ,  1.11111111,  2.22222222,  3.33333333,  4.44444444,\n",
       "        5.55555556,  6.66666667,  7.77777778,  8.88888889, 10.        ])"
      ]
     },
     "execution_count": 36,
     "metadata": {},
     "output_type": "execute_result"
    }
   ],
   "source": [
    "s"
   ]
  }
 ],
 "metadata": {
  "kernelspec": {
   "display_name": "Python 3 (ipykernel)",
   "language": "python",
   "name": "python3"
  },
  "language_info": {
   "codemirror_mode": {
    "name": "ipython",
    "version": 3
   },
   "file_extension": ".py",
   "mimetype": "text/x-python",
   "name": "python",
   "nbconvert_exporter": "python",
   "pygments_lexer": "ipython3",
   "version": "3.11.5"
  }
 },
 "nbformat": 4,
 "nbformat_minor": 5
}
