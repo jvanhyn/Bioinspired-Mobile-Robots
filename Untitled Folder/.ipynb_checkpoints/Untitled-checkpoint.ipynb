{
 "cells": [
  {
   "cell_type": "code",
   "execution_count": 44,
   "id": "d7c4c384",
   "metadata": {},
   "outputs": [
    {
     "ename": "NameError",
     "evalue": "name 'mpl_toolkits' is not defined",
     "output_type": "error",
     "traceback": [
      "\u001b[0;31m---------------------------------------------------------------------------\u001b[0m",
      "\u001b[0;31mNameError\u001b[0m                                 Traceback (most recent call last)",
      "Cell \u001b[0;32mIn[44], line 7\u001b[0m\n\u001b[1;32m      5\u001b[0m \u001b[38;5;28;01mfrom\u001b[39;00m \u001b[38;5;21;01msympy\u001b[39;00m \u001b[38;5;28;01mimport\u001b[39;00m Matrix, simplify, Function, diff, Derivative, nsimplify\n\u001b[1;32m      6\u001b[0m \u001b[38;5;28;01mfrom\u001b[39;00m \u001b[38;5;21;01mscipy\u001b[39;00m\u001b[38;5;21;01m.\u001b[39;00m\u001b[38;5;21;01mintegrate\u001b[39;00m \u001b[38;5;28;01mimport\u001b[39;00m solve_ivp\n\u001b[0;32m----> 7\u001b[0m mpl_toolkits\u001b[38;5;241m.\u001b[39mmplot3d\n",
      "\u001b[0;31mNameError\u001b[0m: name 'mpl_toolkits' is not defined"
     ]
    }
   ],
   "source": [
    "import sympy as sp\n",
    "import numpy as np\n",
    "from sympy import symbols, pprint\n",
    "from sympy import sin, cos, asin, acos, pi, lambdify\n",
    "from sympy import Matrix, simplify, Function, diff, Derivative, nsimplify\n",
    "from scipy.integrate import solve_ivp\n",
    "mpl_toolkits.mplot3d"
   ]
  },
  {
   "cell_type": "code",
   "execution_count": 2,
   "id": "3bd4534f",
   "metadata": {},
   "outputs": [],
   "source": [
    "from IPython import display # for the animation\n",
    "import matplotlib as mpl\n",
    "mpl.use('Qt5Agg')\n",
    "\n",
    "import matplotlib.pyplot as plt\n",
    "plt.ion()\n",
    "\n",
    "\n",
    "# styling for plots\n",
    "mpl.rcParams['axes.titlesize'] = 24\n",
    "mpl.rcParams['axes.labelsize'] = 20\n",
    "mpl.rcParams['lines.linewidth'] = 3\n",
    "mpl.rcParams['lines.markersize'] = 10\n",
    "mpl.rcParams['xtick.labelsize'] = 16\n",
    "mpl.rcParams['ytick.labelsize'] = 16"
   ]
  },
  {
   "cell_type": "code",
   "execution_count": 29,
   "id": "aa130acd",
   "metadata": {},
   "outputs": [
    {
     "data": {
      "text/plain": [
       "[]"
      ]
     },
     "execution_count": 29,
     "metadata": {},
     "output_type": "execute_result"
    }
   ],
   "source": [
    "plt.close()\n",
    "fig = plt.figure()\n",
    "ax = fig.add_subplot(projection='3d')\n",
    "\n",
    "# # Make panes transparent\n",
    "# ax.xaxis.pane.fill = False # Left pane\n",
    "# ax.yaxis.pane.fill = False # Right pane\n",
    "\n",
    "# Remove grid lines\n",
    "ax.grid(False)\n",
    "\n",
    "# Remove tick labels\n",
    "ax.set_xticklabels([])\n",
    "ax.set_yticklabels([])\n",
    "ax.set_zticklabels([])\n",
    "\n",
    "# Transparent spines\n",
    "ax.xaxis.line.set_color((1.0, 1.0, 1.0, 0.0))\n",
    "ax.yaxis.line.set_color((1.0, 1.0, 1.0, 0.0))\n",
    "ax.zaxis.line.set_color((1.0, 1.0, 1.0, 0.0))\n",
    "\n",
    "# # Transparent panes\n",
    "# ax.w_xaxis.set_pane_color((1.0, 1.0, 1.0, 0.0))\n",
    "# ax.w_yaxis.set_pane_color((1.0, 1.0, 1.0, 0.0))\n",
    "\n",
    "# No ticks\n",
    "ax.set_xticks([]) \n",
    "ax.set_yticks([]) \n",
    "ax.set_zticks([])\n",
    "\n",
    "\n"
   ]
  },
  {
   "cell_type": "code",
   "execution_count": null,
   "id": "6787d7b0",
   "metadata": {},
   "outputs": [],
   "source": [
    "def rect(l,w,h):\n",
    "    l = 0.5*l\n",
    "    w = 0.5*w\n",
    "    h = 0.5*h\n",
    "    p1 = [l,w,h]\n",
    "    p2 = [l,w,-h]\n",
    "    p3 = [l,-w,-h]\n",
    "    p4 = [-l,-w,-h]\n",
    "    p5 = [-l,-w,h]\n",
    "    p6 = [-l,w,h]\n",
    "    p7 = [l,-w,h]\n",
    "    p8 = [-l,w,-h]\n",
    "    return [p1,p2,p3,p4,p5,p6,p7,p8]\n",
    "\n",
    "    "
   ]
  },
  {
   "cell_type": "code",
   "execution_count": 41,
   "id": "27b2bfde",
   "metadata": {},
   "outputs": [
    {
     "ename": "ValueError",
     "evalue": "Argument Z must be 2-dimensional.",
     "output_type": "error",
     "traceback": [
      "\u001b[0;31m---------------------------------------------------------------------------\u001b[0m",
      "\u001b[0;31mValueError\u001b[0m                                Traceback (most recent call last)",
      "Cell \u001b[0;32mIn[41], line 2\u001b[0m\n\u001b[1;32m      1\u001b[0m r \u001b[38;5;241m=\u001b[39m np\u001b[38;5;241m.\u001b[39marray(rect(\u001b[38;5;241m1\u001b[39m,\u001b[38;5;241m1\u001b[39m,\u001b[38;5;241m1\u001b[39m))\n\u001b[0;32m----> 2\u001b[0m ax\u001b[38;5;241m.\u001b[39mplot_surface(r[:,\u001b[38;5;241m0\u001b[39m],r[:,\u001b[38;5;241m1\u001b[39m],r[:,\u001b[38;5;241m2\u001b[39m])\n",
      "File \u001b[0;32m~/anaconda3/lib/python3.11/site-packages/mpl_toolkits/mplot3d/axes3d.py:1569\u001b[0m, in \u001b[0;36mAxes3D.plot_surface\u001b[0;34m(self, X, Y, Z, norm, vmin, vmax, lightsource, **kwargs)\u001b[0m\n\u001b[1;32m   1566\u001b[0m had_data \u001b[38;5;241m=\u001b[39m \u001b[38;5;28mself\u001b[39m\u001b[38;5;241m.\u001b[39mhas_data()\n\u001b[1;32m   1568\u001b[0m \u001b[38;5;28;01mif\u001b[39;00m Z\u001b[38;5;241m.\u001b[39mndim \u001b[38;5;241m!=\u001b[39m \u001b[38;5;241m2\u001b[39m:\n\u001b[0;32m-> 1569\u001b[0m     \u001b[38;5;28;01mraise\u001b[39;00m \u001b[38;5;167;01mValueError\u001b[39;00m(\u001b[38;5;124m\"\u001b[39m\u001b[38;5;124mArgument Z must be 2-dimensional.\u001b[39m\u001b[38;5;124m\"\u001b[39m)\n\u001b[1;32m   1571\u001b[0m Z \u001b[38;5;241m=\u001b[39m cbook\u001b[38;5;241m.\u001b[39m_to_unmasked_float_array(Z)\n\u001b[1;32m   1572\u001b[0m X, Y, Z \u001b[38;5;241m=\u001b[39m np\u001b[38;5;241m.\u001b[39mbroadcast_arrays(X, Y, Z)\n",
      "\u001b[0;31mValueError\u001b[0m: Argument Z must be 2-dimensional."
     ]
    }
   ],
   "source": [
    "r = np.array(rect(1,1,1))\n",
    "ax.plot_surface(r[:,0],r[:,1],r[:,2])"
   ]
  },
  {
   "cell_type": "raw",
   "id": "62b74992",
   "metadata": {},
   "source": []
  },
  {
   "cell_type": "code",
   "execution_count": 51,
   "id": "651e52ea",
   "metadata": {},
   "outputs": [],
   "source": [
    "import numpy as np\n",
    "import matplotlib.pyplot as plt\n",
    "from mpl_toolkits.mplot3d import Axes3D\n",
    "\n",
    "# Define the vertices and faces of the mesh\n",
    "vertices = np.array([[-1,-1,-1],[1,-1,-1],[-1,1,-1],[1,1,-1],[-1,-1,1],[1,-1,1]]) # Replace with your vertex coordinates\n",
    "faces = np.array([[0, 1, 3], [3, 2, 0],[0, 1, 3], [3, 2, 0],\n",
    "                  [0, 4, 6], [6, 5, 3],[3, 4, 6], [6, 5, 3]]) # Replace with your face indices\n",
    "\n",
    "# Create a new figure and set up a 3D axis\n",
    "fig = plt.figure()\n",
    "ax = fig.add_subplot(111, projection='3d')\n",
    "\n",
    "# Extract the x, y, and z coordinates from the vertices\n",
    "x = vertices[:, 0]\n",
    "y = vertices[:, 1]\n",
    "z = vertices[:, 2]\n",
    "\n",
    "# Plot the mesh surface\n",
    "ax.plot_trisurf(x, y, z, triangles=faces, cmap='viridis') # You can change the colormap as desired\n",
    "\n",
    "# Set labels and title\n",
    "ax.set_xlabel('X')\n",
    "ax.set_ylabel('Y')\n",
    "ax.set_zlabel('Z')\n",
    "ax.set_title('3D Mesh Surface')\n",
    "\n",
    "# Show the plot\n",
    "plt.show()"
   ]
  },
  {
   "cell_type": "code",
   "execution_count": null,
   "id": "ff69edee",
   "metadata": {},
   "outputs": [],
   "source": []
  }
 ],
 "metadata": {
  "kernelspec": {
   "display_name": "Python 3 (ipykernel)",
   "language": "python",
   "name": "python3"
  },
  "language_info": {
   "codemirror_mode": {
    "name": "ipython",
    "version": 3
   },
   "file_extension": ".py",
   "mimetype": "text/x-python",
   "name": "python",
   "nbconvert_exporter": "python",
   "pygments_lexer": "ipython3",
   "version": "3.11.5"
  }
 },
 "nbformat": 4,
 "nbformat_minor": 5
}
