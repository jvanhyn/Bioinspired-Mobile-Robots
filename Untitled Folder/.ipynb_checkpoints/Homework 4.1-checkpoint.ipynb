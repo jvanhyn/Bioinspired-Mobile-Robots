{
 "cells": [
  {
   "cell_type": "code",
   "execution_count": 41,
   "id": "c6eaff64",
   "metadata": {},
   "outputs": [],
   "source": [
    "import sympy as sp\n",
    "from sympy import I\n",
    "import numpy as np\n",
    "from sympy.plotting import plot_parametric, plot\n",
    "\n"
   ]
  },
  {
   "cell_type": "code",
   "execution_count": 12,
   "id": "65db2861",
   "metadata": {
    "scrolled": true
   },
   "outputs": [
    {
     "data": {
      "text/latex": [
       "$\\displaystyle \\left[\\begin{matrix}\\dot{\\phi}\\\\\\frac{\\frac{F}{T} - \\Gamma \\dot{\\phi} \\left|{\\dot{\\phi}}\\right| - \\frac{k \\phi}{T^{2}}}{I}\\\\\\dot{F}\\\\- F \\kappa r - \\dot{F} r \\left(\\kappa + 1\\right) - \\dot{\\phi} \\kappa \\mu r^{2}\\end{matrix}\\right]$"
      ],
      "text/plain": [
       "Matrix([\n",
       "[                                                   \\dot{\\phi}],\n",
       "[      (F/T - Gamma*\\dot{\\phi}*Abs(\\dot{\\phi}) - k*phi/T**2)/I],\n",
       "[                                                      \\dot{F}],\n",
       "[-F*kappa*r - \\dot{F}*r*(kappa + 1) - \\dot{\\phi}*kappa*mu*r**2]])"
      ]
     },
     "execution_count": 12,
     "metadata": {},
     "output_type": "execute_result"
    }
   ],
   "source": [
    "# Turning the system into a first order differential\n",
    "x1 = sp.symbols('phi',real=True)\n",
    "x2 = sp.symbols(r\"\\dot{\\phi}\",real=True)\n",
    "x3 = sp.symbols('F',real=True)\n",
    "x4 = sp.symbols(r\"\\dot{F}\",real=True)\n",
    "\n",
    "t, gamma, k, T, i, kappa, mu, r,  = sp.symbols(\"t, Gamma, k, T, I, kappa, mu, r,\", real=True)\n",
    "\n",
    "sx = sp.Matrix([x1,x2,x3,x4])\n",
    "sx_dot = sp.Matrix([x2,\n",
    "                    (x3/T - gamma*sp.Abs(x2)*x2 - k*x1/T**2)/i,\n",
    "                    x4,\n",
    "                    -mu*kappa*r**2*x2-r*(1+kappa)*x4-kappa*r*x3])\n",
    "\n",
    "sx_dot\n"
   ]
  },
  {
   "cell_type": "code",
   "execution_count": 13,
   "id": "6bacd909",
   "metadata": {},
   "outputs": [
    {
     "data": {
      "text/plain": [
       "[(0, 0, 0, 0)]"
      ]
     },
     "execution_count": 13,
     "metadata": {},
     "output_type": "execute_result"
    }
   ],
   "source": [
    "# Fininding the critical points\n",
    "spoints = sp.solve(sx_dot,(x1,x2,x3,x4))\n",
    "spoints "
   ]
  },
  {
   "cell_type": "code",
   "execution_count": 14,
   "id": "ab43dc33",
   "metadata": {},
   "outputs": [
    {
     "data": {
      "text/latex": [
       "$\\displaystyle \\left[\\begin{matrix}0 & 1 & 0 & 0\\\\- \\frac{k}{I T^{2}} & 0 & \\frac{1}{I T} & 0\\\\0 & 0 & 0 & 1\\\\0 & - \\kappa \\mu r^{2} & - \\kappa r & - r \\left(\\kappa + 1\\right)\\end{matrix}\\right]$"
      ],
      "text/plain": [
       "Matrix([\n",
       "[          0,              1,        0,              0],\n",
       "[-k/(I*T**2),              0,  1/(I*T),              0],\n",
       "[          0,              0,        0,              1],\n",
       "[          0, -kappa*mu*r**2, -kappa*r, -r*(kappa + 1)]])"
      ]
     },
     "execution_count": 14,
     "metadata": {},
     "output_type": "execute_result"
    }
   ],
   "source": [
    "# Linearizing around the critical point\n",
    "sjac = sx_dot.jacobian((x1,x2,x3,x4))\n",
    "rep = [(sx[i], spoints[0][i]) for i in range(4)]\n",
    "lin = sjac.subs(rep)\n",
    "lin"
   ]
  },
  {
   "cell_type": "code",
   "execution_count": 15,
   "id": "9188e6be",
   "metadata": {},
   "outputs": [
    {
     "data": {
      "text/latex": [
       "$\\displaystyle \\left[\\begin{matrix}0 & 1 & 0 & 0\\\\- \\frac{k}{I T^{2}} & \\frac{- \\Gamma \\dot{\\phi} \\operatorname{sign}{\\left(\\dot{\\phi} \\right)} - \\Gamma \\left|{\\dot{\\phi}}\\right|}{I} & \\frac{1}{I T} & 0\\\\0 & 0 & 0 & 1\\\\0 & - \\kappa \\mu r^{2} & - \\kappa r & - r \\left(\\kappa + 1\\right)\\end{matrix}\\right]$"
      ],
      "text/plain": [
       "Matrix([\n",
       "[          0,                                                              1,        0,              0],\n",
       "[-k/(I*T**2), (-Gamma*\\dot{\\phi}*sign(\\dot{\\phi}) - Gamma*Abs(\\dot{\\phi}))/I,  1/(I*T),              0],\n",
       "[          0,                                                              0,        0,              1],\n",
       "[          0,                                                 -kappa*mu*r**2, -kappa*r, -r*(kappa + 1)]])"
      ]
     },
     "execution_count": 15,
     "metadata": {},
     "output_type": "execute_result"
    }
   ],
   "source": [
    "sjac"
   ]
  },
  {
   "cell_type": "code",
   "execution_count": 16,
   "id": "259e7ad0",
   "metadata": {},
   "outputs": [
    {
     "data": {
      "text/latex": [
       "$\\displaystyle \\lambda^{4} + \\lambda^{3} \\left(\\kappa r + r\\right) + \\frac{k \\kappa r}{I T^{2}} + \\frac{\\lambda^{2} \\left(I T^{2} \\kappa r + k\\right)}{I T^{2}} + \\frac{\\lambda \\left(T \\kappa \\mu r^{2} + k \\kappa r + k r\\right)}{I T^{2}}$"
      ],
      "text/plain": [
       "lambda**4 + lambda**3*(kappa*r + r) + k*kappa*r/(I*T**2) + lambda**2*(I*T**2*kappa*r + k)/(I*T**2) + lambda*(T*kappa*mu*r**2 + k*kappa*r + k*r)/(I*T**2)"
      ]
     },
     "execution_count": 16,
     "metadata": {},
     "output_type": "execute_result"
    }
   ],
   "source": [
    "# Charactoristic Equation \n",
    "l,w,  = sp.symbols('lambda, w',real=True)\n",
    "car = lin.charpoly(l).as_expr(l)\n",
    "car"
   ]
  },
  {
   "cell_type": "code",
   "execution_count": 17,
   "id": "2ea1fc33",
   "metadata": {},
   "outputs": [
    {
     "data": {
      "text/latex": [
       "$\\displaystyle w^{4} - i w^{3} \\left(\\kappa r + r\\right) + \\frac{k \\kappa r}{I T^{2}} - \\frac{w^{2} \\left(I T^{2} \\kappa r + k\\right)}{I T^{2}} + \\frac{i w \\left(T \\kappa \\mu r^{2} + k \\kappa r + k r\\right)}{I T^{2}}$"
      ],
      "text/plain": [
       "w**4 - I*w**3*(kappa*r + r) + k*kappa*r/(I*T**2) - w**2*(I*T**2*kappa*r + k)/(I*T**2) + I*w*(T*kappa*mu*r**2 + k*kappa*r + k*r)/(I*T**2)"
      ]
     },
     "execution_count": 17,
     "metadata": {},
     "output_type": "execute_result"
    }
   ],
   "source": [
    "# Substitude lambda = i * omega \n",
    "car_freq = car.subs(l,I*w)\n",
    "car_freq"
   ]
  },
  {
   "cell_type": "code",
   "execution_count": 18,
   "id": "443977e8",
   "metadata": {},
   "outputs": [
    {
     "data": {
      "text/latex": [
       "$\\displaystyle w^{4} + \\frac{k \\kappa r}{I T^{2}} - \\frac{w^{2} \\left(I T^{2} \\kappa r + k\\right)}{I T^{2}}$"
      ],
      "text/plain": [
       "w**4 + k*kappa*r/(I*T**2) - w**2*(I*T**2*kappa*r + k)/(I*T**2)"
      ]
     },
     "metadata": {},
     "output_type": "display_data"
    }
   ],
   "source": [
    "# Real Part\n",
    "RE = sp.re(car_freq)\n",
    "display(RE)"
   ]
  },
  {
   "cell_type": "code",
   "execution_count": 19,
   "id": "4dac5ca7",
   "metadata": {},
   "outputs": [
    {
     "data": {
      "text/latex": [
       "$\\displaystyle - w^{3} \\left(\\kappa r + r\\right) + \\frac{w \\left(T \\kappa \\mu r^{2} + k \\kappa r + k r\\right)}{I T^{2}}$"
      ],
      "text/plain": [
       "-w**3*(kappa*r + r) + w*(T*kappa*mu*r**2 + k*kappa*r + k*r)/(I*T**2)"
      ]
     },
     "execution_count": 19,
     "metadata": {},
     "output_type": "execute_result"
    }
   ],
   "source": [
    "# Imaginary Part\n",
    "IM = sp.im(car_freq)\n",
    "IM"
   ]
  },
  {
   "cell_type": "code",
   "execution_count": 25,
   "id": "7d7239ab",
   "metadata": {},
   "outputs": [
    {
     "data": {
      "text/plain": [
       "((kappa + 1)*(I*T**2*w**2 - k)/(T*w**2), w**2/kappa)"
      ]
     },
     "execution_count": 25,
     "metadata": {},
     "output_type": "execute_result"
    }
   ],
   "source": [
    "eq = sp.solve([RE,IM],[mu,r])[0]\n",
    "eq"
   ]
  },
  {
   "cell_type": "code",
   "execution_count": 54,
   "id": "680e4372",
   "metadata": {},
   "outputs": [
    {
     "data": {
      "image/png": "[encoded data removed]",
      "text/plain": [
       "<Figure size 640x480 with 1 Axes>"
      ]
     },
     "metadata": {},
     "output_type": "display_data"
    },
    {
     "data": {
      "text/plain": [
       "<sympy.plotting.plot.Plot at 0x112368490>"
      ]
     },
     "execution_count": 54,
     "metadata": {},
     "output_type": "execute_result"
    }
   ],
   "source": [
    "Y = eq[0].subs([(w**2,r*kappa),(gamma,1),(k,1),(i,1),(T,1),(kappa,1)])\n",
    "plot(Y,(r, 1, 10))\n"
   ]
  },
  {
   "cell_type": "code",
   "execution_count": null,
   "id": "8f11a276",
   "metadata": {},
   "outputs": [],
   "source": []
  }
 ],
 "metadata": {
  "kernelspec": {
   "display_name": "Python 3 (ipykernel)",
   "language": "python",
   "name": "python3"
  },
  "language_info": {
   "codemirror_mode": {
    "name": "ipython",
    "version": 3
   },
   "file_extension": ".py",
   "mimetype": "text/x-python",
   "name": "python",
   "nbconvert_exporter": "python",
   "pygments_lexer": "ipython3",
   "version": "3.11.5"
  }
 },
 "nbformat": 4,
 "nbformat_minor": 5
}
