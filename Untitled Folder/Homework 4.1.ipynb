{
 "cells": [
  {
   "cell_type": "markdown",
   "id": "589b3966",
   "metadata": {},
   "source": [
    "# 1 The nonlinear oscillations of the insect flight motor"
   ]
  },
  {
   "cell_type": "code",
   "execution_count": 2,
   "id": "c6eaff64",
   "metadata": {},
   "outputs": [],
   "source": [
    "import sympy as sp\n",
    "from sympy import I as i\n",
    "import numpy as np\n",
    "from sympy.plotting import plot_parametric, plot"
   ]
  },
  {
   "cell_type": "markdown",
   "id": "67e4651f",
   "metadata": {},
   "source": [
    "## 1.1 Turning the system into a first order differential"
   ]
  },
  {
   "cell_type": "code",
   "execution_count": 3,
   "id": "65db2861",
   "metadata": {
    "scrolled": true
   },
   "outputs": [
    {
     "data": {
      "text/latex": [
       "$\\displaystyle \\left[\\begin{matrix}\\dot{\\phi}\\\\\\ddot{\\phi}\\\\\\dot{F}\\\\\\ddot{F}\\end{matrix}\\right] = \\left[\\begin{matrix}\\dot{\\phi}\\\\\\frac{\\frac{F}{T} - \\Gamma \\dot{\\phi} \\left|{\\dot{\\phi}}\\right| - \\frac{k \\phi}{T^{2}}}{I}\\\\\\dot{F}\\\\- F \\kappa r^{2} - \\dot{F} r \\left(\\kappa + 1\\right) - \\dot{\\phi} \\kappa \\mu r^{2}\\end{matrix}\\right]$"
      ],
      "text/plain": [
       "Eq(Matrix([\n",
       "[ \\dot{\\phi}],\n",
       "[\\ddot{\\phi}],\n",
       "[    \\dot{F}],\n",
       "[   \\ddot{F}]]), Matrix([\n",
       "[                                                      \\dot{\\phi}],\n",
       "[         (F/T - Gamma*\\dot{\\phi}*Abs(\\dot{\\phi}) - k*phi/T**2)/I],\n",
       "[                                                         \\dot{F}],\n",
       "[-F*kappa*r**2 - \\dot{F}*r*(kappa + 1) - \\dot{\\phi}*kappa*mu*r**2]]))"
      ]
     },
     "metadata": {},
     "output_type": "display_data"
    }
   ],
   "source": [
    "x1 = sp.symbols('phi',real=True)\n",
    "x2 = sp.symbols(r\"\\dot{\\phi}\",real=True)\n",
    "x3 = sp.symbols('F',real=True)\n",
    "x4 = sp.symbols(r\"\\dot{F}\",real=True)\n",
    "\n",
    "dx1 = sp.symbols(r'\\dot{\\phi}',real=True)\n",
    "dx2 = sp.symbols(r\"\\ddot{\\phi}\",real=True)\n",
    "dx3 = sp.symbols(r'\\dot{F}',real=True)\n",
    "dx4 = sp.symbols(r\"\\ddot{F}\",real=True)\n",
    "\n",
    "t, gamma, k, T, I, kappa, mu, r,  = sp.symbols(\"t, Gamma, k, T, I, kappa, mu, r,\", real=True)\n",
    "\n",
    "# State Vector\n",
    "sx = sp.Matrix([x1,x2,x3,x4])      \n",
    "\n",
    "# State Vector Derivative\n",
    "sdx = sp.Matrix([dx1,dx2,dx3,dx4])\n",
    "\n",
    "# State Space Model\n",
    "sx_dot = sp.Matrix([x2,\n",
    "                    (x3/T - gamma*sp.Abs(x2)*x2 - k*x1/T**2)/I,\n",
    "                    x4,\n",
    "                    -mu*kappa*r**2*x2-r*(1+kappa)*x4-kappa*r**2*x3]) \n",
    "\n",
    "display(sp.Eq(sdx,sx_dot))"
   ]
  },
  {
   "cell_type": "markdown",
   "id": "0b89b37e",
   "metadata": {},
   "source": [
    "## 1.2 Fininding the critical points"
   ]
  },
  {
   "cell_type": "code",
   "execution_count": 4,
   "id": "ed0548d1",
   "metadata": {},
   "outputs": [
    {
     "data": {
      "text/plain": [
       "[(0, 0, 0, 0)]"
      ]
     },
     "execution_count": 4,
     "metadata": {},
     "output_type": "execute_result"
    }
   ],
   "source": [
    "\n",
    "spoints = sp.solve(sx_dot,(x1,x2,x3,x4))\n",
    "spoints "
   ]
  },
  {
   "cell_type": "code",
   "execution_count": 5,
   "id": "cf357ada",
   "metadata": {},
   "outputs": [
    {
     "data": {
      "text/latex": [
       "$\\displaystyle \\left[\\begin{matrix}0 & 1 & 0 & 0\\\\- \\frac{k}{I T^{2}} & \\frac{- \\Gamma \\dot{\\phi} \\operatorname{sign}{\\left(\\dot{\\phi} \\right)} - \\Gamma \\left|{\\dot{\\phi}}\\right|}{I} & \\frac{1}{I T} & 0\\\\0 & 0 & 0 & 1\\\\0 & - \\kappa \\mu r^{2} & - \\kappa r^{2} & - r \\left(\\kappa + 1\\right)\\end{matrix}\\right]$"
      ],
      "text/plain": [
       "Matrix([\n",
       "[          0,                                                              1,           0,              0],\n",
       "[-k/(I*T**2), (-Gamma*\\dot{\\phi}*sign(\\dot{\\phi}) - Gamma*Abs(\\dot{\\phi}))/I,     1/(I*T),              0],\n",
       "[          0,                                                              0,           0,              1],\n",
       "[          0,                                                 -kappa*mu*r**2, -kappa*r**2, -r*(kappa + 1)]])"
      ]
     },
     "execution_count": 5,
     "metadata": {},
     "output_type": "execute_result"
    }
   ],
   "source": [
    "# Jacobian\n",
    "sjac = sx_dot.jacobian((x1,x2,x3,x4))\n",
    "sjac"
   ]
  },
  {
   "cell_type": "code",
   "execution_count": 6,
   "id": "ab43dc33",
   "metadata": {},
   "outputs": [
    {
     "data": {
      "text/latex": [
       "$\\displaystyle \\left[\\begin{matrix}0 & 1 & 0 & 0\\\\- \\frac{k}{I T^{2}} & 0 & \\frac{1}{I T} & 0\\\\0 & 0 & 0 & 1\\\\0 & - \\kappa \\mu r^{2} & - \\kappa r^{2} & - r \\left(\\kappa + 1\\right)\\end{matrix}\\right]$"
      ],
      "text/plain": [
       "Matrix([\n",
       "[          0,              1,           0,              0],\n",
       "[-k/(I*T**2),              0,     1/(I*T),              0],\n",
       "[          0,              0,           0,              1],\n",
       "[          0, -kappa*mu*r**2, -kappa*r**2, -r*(kappa + 1)]])"
      ]
     },
     "execution_count": 6,
     "metadata": {},
     "output_type": "execute_result"
    }
   ],
   "source": [
    "# Linearizing around the critical point\n",
    "rep = [(sx[i], spoints[0][i]) for i in range(4)]\n",
    "lin = sjac.subs(rep)\n",
    "lin"
   ]
  },
  {
   "cell_type": "code",
   "execution_count": 7,
   "id": "259e7ad0",
   "metadata": {},
   "outputs": [
    {
     "data": {
      "text/latex": [
       "$\\displaystyle \\lambda^{4} + \\lambda^{3} \\left(\\kappa r + r\\right) + \\frac{k \\kappa r^{2}}{I T^{2}} + \\frac{\\lambda^{2} \\left(I T^{2} \\kappa r^{2} + k\\right)}{I T^{2}} + \\frac{\\lambda \\left(T \\kappa \\mu r^{2} + k \\kappa r + k r\\right)}{I T^{2}}$"
      ],
      "text/plain": [
       "lambda**4 + lambda**3*(kappa*r + r) + k*kappa*r**2/(I*T**2) + lambda**2*(I*T**2*kappa*r**2 + k)/(I*T**2) + lambda*(T*kappa*mu*r**2 + k*kappa*r + k*r)/(I*T**2)"
      ]
     },
     "execution_count": 7,
     "metadata": {},
     "output_type": "execute_result"
    }
   ],
   "source": [
    "# Charactoristic Equation \n",
    "l,w,  = sp.symbols('lambda, w',real=True)\n",
    "car = lin.charpoly(l).as_expr(l)\n",
    "car"
   ]
  },
  {
   "cell_type": "code",
   "execution_count": 8,
   "id": "2ea1fc33",
   "metadata": {},
   "outputs": [
    {
     "data": {
      "text/latex": [
       "$\\displaystyle w^{4} - i w^{3} \\left(\\kappa r + r\\right) + \\frac{k \\kappa r^{2}}{I T^{2}} - \\frac{w^{2} \\left(I T^{2} \\kappa r^{2} + k\\right)}{I T^{2}} + \\frac{i w \\left(T \\kappa \\mu r^{2} + k \\kappa r + k r\\right)}{I T^{2}}$"
      ],
      "text/plain": [
       "w**4 - I*w**3*(kappa*r + r) + k*kappa*r**2/(I*T**2) - w**2*(I*T**2*kappa*r**2 + k)/(I*T**2) + I*w*(T*kappa*mu*r**2 + k*kappa*r + k*r)/(I*T**2)"
      ]
     },
     "execution_count": 8,
     "metadata": {},
     "output_type": "execute_result"
    }
   ],
   "source": [
    "# Substitude lambda = i * omega \n",
    "car_freq = car.subs(l,i*w)\n",
    "car_freq"
   ]
  },
  {
   "cell_type": "code",
   "execution_count": 16,
   "id": "443977e8",
   "metadata": {},
   "outputs": [
    {
     "data": {
      "text/latex": [
       "$\\displaystyle 0 = w^{4} + \\frac{k \\kappa r^{2}}{I T^{2}} - \\frac{w^{2} \\left(I T^{2} \\kappa r^{2} + k\\right)}{I T^{2}}$"
      ],
      "text/plain": [
       "Eq(0, w**4 + k*kappa*r**2/(I*T**2) - w**2*(I*T**2*kappa*r**2 + k)/(I*T**2))"
      ]
     },
     "execution_count": 16,
     "metadata": {},
     "output_type": "execute_result"
    }
   ],
   "source": [
    "# Real Part\n",
    "RE = sp.Eq(0, sp.re(car_freq))\n",
    "RE"
   ]
  },
  {
   "cell_type": "code",
   "execution_count": 15,
   "id": "4dac5ca7",
   "metadata": {},
   "outputs": [
    {
     "data": {
      "text/latex": [
       "$\\displaystyle 0 = - w^{3} \\left(\\kappa r + r\\right) + \\frac{w \\left(T \\kappa \\mu r^{2} + k \\kappa r + k r\\right)}{I T^{2}}$"
      ],
      "text/plain": [
       "Eq(0, -w**3*(kappa*r + r) + w*(T*kappa*mu*r**2 + k*kappa*r + k*r)/(I*T**2))"
      ]
     },
     "execution_count": 15,
     "metadata": {},
     "output_type": "execute_result"
    }
   ],
   "source": [
    "# Imaginary Part\n",
    "IM = sp.Eq(0,sp.im(car_freq))\n",
    "IM"
   ]
  },
  {
   "cell_type": "code",
   "execution_count": 31,
   "id": "091f2ae9",
   "metadata": {},
   "outputs": [
    {
     "data": {
      "text/latex": [
       "$\\displaystyle 0 = w^{2} + \\frac{k \\kappa r^{2}}{I T^{2}} - \\frac{I T^{2} \\kappa r^{2} + k}{I T^{2}}$"
      ],
      "text/plain": [
       "Eq(0, w**2 + k*kappa*r**2/(I*T**2) - (I*T**2*kappa*r**2 + k)/(I*T**2))"
      ]
     },
     "metadata": {},
     "output_type": "display_data"
    },
    {
     "data": {
      "text/latex": [
       "$\\displaystyle 0 = - w^{2} \\left(\\kappa r + r\\right) + \\frac{T \\kappa \\mu r^{2} + k \\kappa r + k r}{I T^{2}}$"
      ],
      "text/plain": [
       "Eq(0, -w**2*(kappa*r + r) + (T*kappa*mu*r**2 + k*kappa*r + k*r)/(I*T**2))"
      ]
     },
     "metadata": {},
     "output_type": "display_data"
    }
   ],
   "source": [
    "# Discard trivial solution and factor out w \n",
    "RE = sp.Eq(0,w**2 + k*kappa*r**2/(I*T**2) - (I*T**2*kappa*r**2 + k)/(I*T**2))\n",
    "IM = sp.Eq(0,-w**2*(kappa*r + r) + (T*kappa*mu*r**2 + k*kappa*r + k*r)/(I*T**2))\n",
    "display(RE)\n",
    "display(IM)"
   ]
  },
  {
   "cell_type": "code",
   "execution_count": 60,
   "id": "f1787a1e",
   "metadata": {},
   "outputs": [
    {
     "data": {
      "text/latex": [
       "$\\displaystyle w^{2} = \\kappa r^{2} - \\frac{k \\kappa r^{2}}{I T^{2}} + \\frac{k}{I T^{2}}$"
      ],
      "text/plain": [
       "Eq(w**2, kappa*r**2 - k*kappa*r**2/(I*T**2) + k/(I*T**2))"
      ]
     },
     "execution_count": 60,
     "metadata": {},
     "output_type": "execute_result"
    }
   ],
   "source": [
    "# Solve Real equation for omega and simplify \n",
    "a = sp.Eq(RE.lhs+w**2,sp.factor(-RE.rhs + w**2,r))\n",
    "a"
   ]
  },
  {
   "cell_type": "code",
   "execution_count": 62,
   "id": "b76726e1",
   "metadata": {},
   "outputs": [
    {
     "data": {
      "text/latex": [
       "$\\displaystyle w^{2} = \\frac{T \\kappa \\mu r}{I T^{2} \\kappa + I T^{2}} + \\frac{k \\kappa}{I T^{2} \\kappa + I T^{2}} + \\frac{k}{I T^{2} \\kappa + I T^{2}}$"
      ],
      "text/plain": [
       "Eq(w**2, T*kappa*mu*r/(I*T**2*kappa + I*T**2) + k*kappa/(I*T**2*kappa + I*T**2) + k/(I*T**2*kappa + I*T**2))"
      ]
     },
     "execution_count": 62,
     "metadata": {},
     "output_type": "execute_result"
    }
   ],
   "source": [
    "# Solve Imaginary equation for omega and simplify \n",
    "b = sp.Eq(sp.factor(IM.lhs+w**2*(kappa*r+r))/r/(kappa+1),sp.factor(IM.rhs + w**2*(kappa*r+r),r)/r/(kappa+1))\n",
    "b"
   ]
  },
  {
   "cell_type": "code",
   "execution_count": 58,
   "id": "5b9879cf",
   "metadata": {},
   "outputs": [
    {
     "data": {
      "text/latex": [
       "$\\displaystyle \\kappa \\left(T \\mu + r \\left(- I T^{2} \\kappa - I T^{2} + k \\kappa + k\\right)\\right)$"
      ],
      "text/plain": [
       "kappa*(T*mu + r*(-I*T**2*kappa - I*T**2 + k*kappa + k))"
      ]
     },
     "execution_count": 58,
     "metadata": {},
     "output_type": "execute_result"
    }
   ],
   "source": [
    "# Subtract a from b \n",
    "sp.factor(sp.expand(b.rhs-a.rhs),r)*I*T**2*(kappa+1)/r"
   ]
  },
  {
   "cell_type": "code",
   "execution_count": 86,
   "id": "aa950b1f",
   "metadata": {},
   "outputs": [],
   "source": [
    "SOL1 = sp.solve(b.rhs-a.rhs,mu)[0]\n",
    "SOL2 = r*(r*I*T**2*(kappa + 1) - k*kappa - k)/T"
   ]
  },
  {
   "cell_type": "code",
   "execution_count": 89,
   "id": "84a663a7",
   "metadata": {},
   "outputs": [
    {
     "data": {
      "image/png": "[encoded data removed]",
      "text/plain": [
       "<Figure size 640x480 with 1 Axes>"
      ]
     },
     "metadata": {},
     "output_type": "display_data"
    }
   ],
   "source": [
    "p = plot(SOL1.subs([(gamma,1),(k,1),(I,1),(T,1),(kappa,1)]),r)"
   ]
  },
  {
   "cell_type": "code",
   "execution_count": null,
   "id": "af36f5de",
   "metadata": {},
   "outputs": [],
   "source": [
    "# I cannot determine the corectness of this..... so I will leave it here."
   ]
  }
 ],
 "metadata": {
  "kernelspec": {
   "display_name": "Python 3 (ipykernel)",
   "language": "python",
   "name": "python3"
  },
  "language_info": {
   "codemirror_mode": {
    "name": "ipython",
    "version": 3
   },
   "file_extension": ".py",
   "mimetype": "text/x-python",
   "name": "python",
   "nbconvert_exporter": "python",
   "pygments_lexer": "ipython3",
   "version": "3.11.5"
  }
 },
 "nbformat": 4,
 "nbformat_minor": 5
}
