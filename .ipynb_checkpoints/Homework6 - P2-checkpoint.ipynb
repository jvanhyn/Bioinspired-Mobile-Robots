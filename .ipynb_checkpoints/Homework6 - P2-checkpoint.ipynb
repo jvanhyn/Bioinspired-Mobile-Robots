{
 "cells": [
  {
   "cell_type": "code",
   "execution_count": 1,
   "id": "c0f51257",
   "metadata": {},
   "outputs": [],
   "source": [
    "import sympy as sp\n",
    "import numpy as np\n",
    "from sympy.utilities import lambdify"
   ]
  },
  {
   "cell_type": "markdown",
   "id": "439aa7ed",
   "metadata": {},
   "source": [
    "# Standing "
   ]
  },
  {
   "cell_type": "markdown",
   "id": "9acd79a6",
   "metadata": {},
   "source": [
    "## Forward Kinematics"
   ]
  },
  {
   "cell_type": "code",
   "execution_count": null,
   "id": "a032e5f7",
   "metadata": {},
   "outputs": [],
   "source": [
    "# Symbolic variables \n",
    "theta_1,theta_2,theta_3 = sp.symbols(\"theta_1,theta_2,theta_3 \",real=True)"
   ]
  },
  {
   "cell_type": "code",
   "execution_count": 52,
   "id": "b7f5ceb4",
   "metadata": {},
   "outputs": [],
   "source": [
    "# Revolute Transformation\n",
    "def T(theta,x,y):\n",
    "    return sp.Matrix([[sp.cos(theta), -sp.sin(theta), x],\n",
    "                      [sp.sin(theta),  sp.cos(theta), y],\n",
    "                      [            0,              0, 1]])"
   ]
  },
  {
   "cell_type": "code",
   "execution_count": null,
   "id": "0ba68ebb",
   "metadata": {},
   "outputs": [],
   "source": [
    "# Joint Transformations\n",
    "T01 = T(theta_1,0,0);\n",
    "T12 = T(theta_1,0,0) @ T(theta_2,0,1)\n",
    "T23 = T(theta_1,0,0) @ T(theta_2,0,0) @ T(theta_3,0,1)"
   ]
  },
  {
   "cell_type": "code",
   "execution_count": 63,
   "id": "4dd4b811",
   "metadata": {},
   "outputs": [],
   "source": [
    "# Initial Configuration\n",
    "p01 = sp.Matrix([[1],[0],[1]]);\n",
    "p12 = sp.Matrix([[0],[1],[1]]);\n",
    "p32 = sp.Matrix([[0],[1],[1]]);"
   ]
  },
  {
   "cell_type": "code",
   "execution_count": 64,
   "id": "c9e7731d",
   "metadata": {},
   "outputs": [
    {
     "data": {
      "text/latex": [
       "$\\displaystyle \\left[\\begin{matrix}- \\sin{\\left(\\theta_{1} \\right)}\\\\\\cos{\\left(\\theta_{1} \\right)}\\end{matrix}\\right]$"
      ],
      "text/plain": [
       "Matrix([\n",
       "[-sin(theta_1)],\n",
       "[ cos(theta_1)]])"
      ]
     },
     "execution_count": 64,
     "metadata": {},
     "output_type": "execute_result"
    }
   ],
   "source": [
    "# Joint 1 Kinematics\n",
    "FK1 = (T(theta_1,0,0) @ p1)[:-1,0]\n",
    "FK1"
   ]
  },
  {
   "cell_type": "code",
   "execution_count": 72,
   "id": "fceeaf6f",
   "metadata": {},
   "outputs": [
    {
     "data": {
      "text/latex": [
       "$\\displaystyle \\left[\\begin{matrix}- \\sin{\\left(\\theta_{1} \\right)} \\cos{\\left(\\theta_{2} \\right)} - \\sin{\\left(\\theta_{1} \\right)} - \\sin{\\left(\\theta_{2} \\right)} \\cos{\\left(\\theta_{1} \\right)}\\\\- \\sin{\\left(\\theta_{1} \\right)} \\sin{\\left(\\theta_{2} \\right)} + \\cos{\\left(\\theta_{1} \\right)} \\cos{\\left(\\theta_{2} \\right)} + \\cos{\\left(\\theta_{1} \\right)}\\end{matrix}\\right]$"
      ],
      "text/plain": [
       "Matrix([\n",
       "[-sin(theta_1)*cos(theta_2) - sin(theta_1) - sin(theta_2)*cos(theta_1)],\n",
       "[-sin(theta_1)*sin(theta_2) + cos(theta_1)*cos(theta_2) + cos(theta_1)]])"
      ]
     },
     "execution_count": 72,
     "metadata": {},
     "output_type": "execute_result"
    }
   ],
   "source": [
    "# Joint 2 Kinematics\n",
    "FK2 = (T(theta_1,0,0) @ T(theta_2,0,1) @ p2)[:-1,0]\n",
    "FK2"
   ]
  },
  {
   "cell_type": "code",
   "execution_count": 70,
   "id": "d6627d51",
   "metadata": {},
   "outputs": [
    {
     "data": {
      "text/latex": [
       "$\\displaystyle \\left[\\begin{matrix}- \\left(- \\sin{\\left(\\theta_{1} \\right)} \\sin{\\left(\\theta_{2} \\right)} + \\cos{\\left(\\theta_{1} \\right)} \\cos{\\left(\\theta_{2} \\right)}\\right) \\sin{\\left(\\theta_{3} \\right)} + \\left(- \\sin{\\left(\\theta_{1} \\right)} \\cos{\\left(\\theta_{2} \\right)} - \\sin{\\left(\\theta_{2} \\right)} \\cos{\\left(\\theta_{1} \\right)}\\right) \\cos{\\left(\\theta_{3} \\right)} - \\sin{\\left(\\theta_{1} \\right)} \\cos{\\left(\\theta_{2} \\right)} - \\sin{\\left(\\theta_{2} \\right)} \\cos{\\left(\\theta_{1} \\right)}\\\\\\left(- \\sin{\\left(\\theta_{1} \\right)} \\sin{\\left(\\theta_{2} \\right)} + \\cos{\\left(\\theta_{1} \\right)} \\cos{\\left(\\theta_{2} \\right)}\\right) \\cos{\\left(\\theta_{3} \\right)} - \\left(\\sin{\\left(\\theta_{1} \\right)} \\cos{\\left(\\theta_{2} \\right)} + \\sin{\\left(\\theta_{2} \\right)} \\cos{\\left(\\theta_{1} \\right)}\\right) \\sin{\\left(\\theta_{3} \\right)} - \\sin{\\left(\\theta_{1} \\right)} \\sin{\\left(\\theta_{2} \\right)} + \\cos{\\left(\\theta_{1} \\right)} \\cos{\\left(\\theta_{2} \\right)}\\end{matrix}\\right]$"
      ],
      "text/plain": [
       "Matrix([\n",
       "[-(-sin(theta_1)*sin(theta_2) + cos(theta_1)*cos(theta_2))*sin(theta_3) + (-sin(theta_1)*cos(theta_2) - sin(theta_2)*cos(theta_1))*cos(theta_3) - sin(theta_1)*cos(theta_2) - sin(theta_2)*cos(theta_1)],\n",
       "[  (-sin(theta_1)*sin(theta_2) + cos(theta_1)*cos(theta_2))*cos(theta_3) - (sin(theta_1)*cos(theta_2) + sin(theta_2)*cos(theta_1))*sin(theta_3) - sin(theta_1)*sin(theta_2) + cos(theta_1)*cos(theta_2)]])"
      ]
     },
     "execution_count": 70,
     "metadata": {},
     "output_type": "execute_result"
    }
   ],
   "source": [
    "# Joint 3 Kinematics\n",
    "FK3 = (T(theta_1,0,0) @ T(theta_2,0,0) @ T(theta_3,0,1) @ p3)[:-1,0]\n",
    "FK3"
   ]
  },
  {
   "cell_type": "markdown",
   "id": "8d3148cf",
   "metadata": {},
   "source": [
    "## Jacobian"
   ]
  },
  {
   "cell_type": "code",
   "execution_count": 73,
   "id": "7209d874",
   "metadata": {},
   "outputs": [
    {
     "data": {
      "text/latex": [
       "$\\displaystyle \\left[\\begin{matrix}- \\cos{\\left(\\theta_{1} \\right)}\\\\- \\sin{\\left(\\theta_{1} \\right)}\\end{matrix}\\right]$"
      ],
      "text/plain": [
       "Matrix([\n",
       "[-cos(theta_1)],\n",
       "[-sin(theta_1)]])"
      ]
     },
     "execution_count": 73,
     "metadata": {},
     "output_type": "execute_result"
    }
   ],
   "source": [
    "# Joint 1 Jacobian\n",
    "J1 = FK1.jacobian([theta_1])\n",
    "J1"
   ]
  },
  {
   "cell_type": "code",
   "execution_count": 74,
   "id": "e4fd0a44",
   "metadata": {},
   "outputs": [
    {
     "data": {
      "text/latex": [
       "$\\displaystyle \\left[\\begin{matrix}\\sin{\\left(\\theta_{1} \\right)} \\sin{\\left(\\theta_{2} \\right)} - \\cos{\\left(\\theta_{1} \\right)} \\cos{\\left(\\theta_{2} \\right)} - \\cos{\\left(\\theta_{1} \\right)} & \\sin{\\left(\\theta_{1} \\right)} \\sin{\\left(\\theta_{2} \\right)} - \\cos{\\left(\\theta_{1} \\right)} \\cos{\\left(\\theta_{2} \\right)}\\\\- \\sin{\\left(\\theta_{1} \\right)} \\cos{\\left(\\theta_{2} \\right)} - \\sin{\\left(\\theta_{1} \\right)} - \\sin{\\left(\\theta_{2} \\right)} \\cos{\\left(\\theta_{1} \\right)} & - \\sin{\\left(\\theta_{1} \\right)} \\cos{\\left(\\theta_{2} \\right)} - \\sin{\\left(\\theta_{2} \\right)} \\cos{\\left(\\theta_{1} \\right)}\\end{matrix}\\right]$"
      ],
      "text/plain": [
       "Matrix([\n",
       "[ sin(theta_1)*sin(theta_2) - cos(theta_1)*cos(theta_2) - cos(theta_1),  sin(theta_1)*sin(theta_2) - cos(theta_1)*cos(theta_2)],\n",
       "[-sin(theta_1)*cos(theta_2) - sin(theta_1) - sin(theta_2)*cos(theta_1), -sin(theta_1)*cos(theta_2) - sin(theta_2)*cos(theta_1)]])"
      ]
     },
     "execution_count": 74,
     "metadata": {},
     "output_type": "execute_result"
    }
   ],
   "source": [
    "# Joint 2 Jacobian\n",
    "J2 = FK2.jacobian([theta_1,theta_2])\n",
    "J2"
   ]
  },
  {
   "cell_type": "code",
   "execution_count": 75,
   "id": "734f3130",
   "metadata": {},
   "outputs": [
    {
     "data": {
      "text/latex": [
       "$\\displaystyle \\left[\\begin{matrix}- \\cos{\\left(\\theta_{1} + \\theta_{2} \\right)} - \\cos{\\left(\\theta_{1} + \\theta_{2} + \\theta_{3} \\right)} & - \\cos{\\left(\\theta_{1} + \\theta_{2} \\right)} - \\cos{\\left(\\theta_{1} + \\theta_{2} + \\theta_{3} \\right)} & - \\cos{\\left(\\theta_{1} + \\theta_{2} + \\theta_{3} \\right)}\\\\- \\sin{\\left(\\theta_{1} + \\theta_{2} \\right)} - \\sin{\\left(\\theta_{1} + \\theta_{2} + \\theta_{3} \\right)} & - \\sin{\\left(\\theta_{1} + \\theta_{2} \\right)} - \\sin{\\left(\\theta_{1} + \\theta_{2} + \\theta_{3} \\right)} & - \\sin{\\left(\\theta_{1} + \\theta_{2} + \\theta_{3} \\right)}\\end{matrix}\\right]$"
      ],
      "text/plain": [
       "Matrix([\n",
       "[-cos(theta_1 + theta_2) - cos(theta_1 + theta_2 + theta_3), -cos(theta_1 + theta_2) - cos(theta_1 + theta_2 + theta_3), -cos(theta_1 + theta_2 + theta_3)],\n",
       "[-sin(theta_1 + theta_2) - sin(theta_1 + theta_2 + theta_3), -sin(theta_1 + theta_2) - sin(theta_1 + theta_2 + theta_3), -sin(theta_1 + theta_2 + theta_3)]])"
      ]
     },
     "execution_count": 75,
     "metadata": {},
     "output_type": "execute_result"
    }
   ],
   "source": [
    "# Joint 3 Jacobian\n",
    "J3 = sp.simplify(FK3.jacobian([theta_1,theta_2,theta_3]))\n",
    "J3"
   ]
  },
  {
   "cell_type": "markdown",
   "id": "bac811fd",
   "metadata": {},
   "source": [
    "## Agregate Jacobian"
   ]
  },
  {
   "cell_type": "code",
   "execution_count": 76,
   "id": "82a38cb8",
   "metadata": {
    "scrolled": true
   },
   "outputs": [
    {
     "data": {
      "text/latex": [
       "$\\displaystyle \\left[\\begin{matrix}- \\cos{\\left(\\theta_{1} \\right)} & 0 & 0\\\\- \\sin{\\left(\\theta_{1} \\right)} & 0 & 0\\\\\\sin{\\left(\\theta_{1} \\right)} \\sin{\\left(\\theta_{2} \\right)} - \\cos{\\left(\\theta_{1} \\right)} \\cos{\\left(\\theta_{2} \\right)} - \\cos{\\left(\\theta_{1} \\right)} & \\sin{\\left(\\theta_{1} \\right)} \\sin{\\left(\\theta_{2} \\right)} - \\cos{\\left(\\theta_{1} \\right)} \\cos{\\left(\\theta_{2} \\right)} & 0\\\\- \\sin{\\left(\\theta_{1} \\right)} \\cos{\\left(\\theta_{2} \\right)} - \\sin{\\left(\\theta_{1} \\right)} - \\sin{\\left(\\theta_{2} \\right)} \\cos{\\left(\\theta_{1} \\right)} & - \\sin{\\left(\\theta_{1} \\right)} \\cos{\\left(\\theta_{2} \\right)} - \\sin{\\left(\\theta_{2} \\right)} \\cos{\\left(\\theta_{1} \\right)} & 0\\\\- \\cos{\\left(\\theta_{1} + \\theta_{2} \\right)} - \\cos{\\left(\\theta_{1} + \\theta_{2} + \\theta_{3} \\right)} & - \\cos{\\left(\\theta_{1} + \\theta_{2} \\right)} - \\cos{\\left(\\theta_{1} + \\theta_{2} + \\theta_{3} \\right)} & - \\cos{\\left(\\theta_{1} + \\theta_{2} + \\theta_{3} \\right)}\\\\- \\sin{\\left(\\theta_{1} + \\theta_{2} \\right)} - \\sin{\\left(\\theta_{1} + \\theta_{2} + \\theta_{3} \\right)} & - \\sin{\\left(\\theta_{1} + \\theta_{2} \\right)} - \\sin{\\left(\\theta_{1} + \\theta_{2} + \\theta_{3} \\right)} & - \\sin{\\left(\\theta_{1} + \\theta_{2} + \\theta_{3} \\right)}\\end{matrix}\\right]$"
      ],
      "text/plain": [
       "Matrix([\n",
       "[                                                        -cos(theta_1),                                                          0,                                 0],\n",
       "[                                                        -sin(theta_1),                                                          0,                                 0],\n",
       "[ sin(theta_1)*sin(theta_2) - cos(theta_1)*cos(theta_2) - cos(theta_1),      sin(theta_1)*sin(theta_2) - cos(theta_1)*cos(theta_2),                                 0],\n",
       "[-sin(theta_1)*cos(theta_2) - sin(theta_1) - sin(theta_2)*cos(theta_1),     -sin(theta_1)*cos(theta_2) - sin(theta_2)*cos(theta_1),                                 0],\n",
       "[           -cos(theta_1 + theta_2) - cos(theta_1 + theta_2 + theta_3), -cos(theta_1 + theta_2) - cos(theta_1 + theta_2 + theta_3), -cos(theta_1 + theta_2 + theta_3)],\n",
       "[           -sin(theta_1 + theta_2) - sin(theta_1 + theta_2 + theta_3), -sin(theta_1 + theta_2) - sin(theta_1 + theta_2 + theta_3), -sin(theta_1 + theta_2 + theta_3)]])"
      ]
     },
     "execution_count": 76,
     "metadata": {},
     "output_type": "execute_result"
    }
   ],
   "source": [
    "J = sp.Matrix([[J1[0],0,0],\n",
    "               [J1[1],0,0],\n",
    "               [J2[0,0],J2[0,1],0],\n",
    "               [J2[1,0],J2[1,1],0],\n",
    "               [J3[0,0],J3[0,1],J3[0,2]],\n",
    "               [J3[1,0],J3[1,1],J3[1,2]]])\n",
    "\n",
    "J"
   ]
  },
  {
   "cell_type": "markdown",
   "id": "f3861d53",
   "metadata": {},
   "source": [
    "## Mass Matrix"
   ]
  },
  {
   "cell_type": "code",
   "execution_count": 77,
   "id": "e355e35d",
   "metadata": {},
   "outputs": [
    {
     "data": {
      "text/latex": [
       "$\\displaystyle \\left[\\begin{matrix}m_{1} \\sin^{2}{\\left(\\theta_{1} \\right)} + m_{1} \\cos^{2}{\\left(\\theta_{1} \\right)} + m_{2} \\left(\\sin{\\left(\\theta_{1} \\right)} \\sin{\\left(\\theta_{2} \\right)} - \\cos{\\left(\\theta_{1} \\right)} \\cos{\\left(\\theta_{2} \\right)} - \\cos{\\left(\\theta_{1} \\right)}\\right)^{2} + m_{2} \\left(- \\sin{\\left(\\theta_{1} \\right)} \\cos{\\left(\\theta_{2} \\right)} - \\sin{\\left(\\theta_{1} \\right)} - \\sin{\\left(\\theta_{2} \\right)} \\cos{\\left(\\theta_{1} \\right)}\\right)^{2} + m_{3} \\left(- \\sin{\\left(\\theta_{1} + \\theta_{2} \\right)} - \\sin{\\left(\\theta_{1} + \\theta_{2} + \\theta_{3} \\right)}\\right)^{2} + m_{3} \\left(- \\cos{\\left(\\theta_{1} + \\theta_{2} \\right)} - \\cos{\\left(\\theta_{1} + \\theta_{2} + \\theta_{3} \\right)}\\right)^{2} & m_{2} \\left(\\sin{\\left(\\theta_{1} \\right)} \\sin{\\left(\\theta_{2} \\right)} - \\cos{\\left(\\theta_{1} \\right)} \\cos{\\left(\\theta_{2} \\right)}\\right) \\left(\\sin{\\left(\\theta_{1} \\right)} \\sin{\\left(\\theta_{2} \\right)} - \\cos{\\left(\\theta_{1} \\right)} \\cos{\\left(\\theta_{2} \\right)} - \\cos{\\left(\\theta_{1} \\right)}\\right) + m_{2} \\left(- \\sin{\\left(\\theta_{1} \\right)} \\cos{\\left(\\theta_{2} \\right)} - \\sin{\\left(\\theta_{2} \\right)} \\cos{\\left(\\theta_{1} \\right)}\\right) \\left(- \\sin{\\left(\\theta_{1} \\right)} \\cos{\\left(\\theta_{2} \\right)} - \\sin{\\left(\\theta_{1} \\right)} - \\sin{\\left(\\theta_{2} \\right)} \\cos{\\left(\\theta_{1} \\right)}\\right) + m_{3} \\left(- \\sin{\\left(\\theta_{1} + \\theta_{2} \\right)} - \\sin{\\left(\\theta_{1} + \\theta_{2} + \\theta_{3} \\right)}\\right)^{2} + m_{3} \\left(- \\cos{\\left(\\theta_{1} + \\theta_{2} \\right)} - \\cos{\\left(\\theta_{1} + \\theta_{2} + \\theta_{3} \\right)}\\right)^{2} & - m_{3} \\left(- \\sin{\\left(\\theta_{1} + \\theta_{2} \\right)} - \\sin{\\left(\\theta_{1} + \\theta_{2} + \\theta_{3} \\right)}\\right) \\sin{\\left(\\theta_{1} + \\theta_{2} + \\theta_{3} \\right)} - m_{3} \\left(- \\cos{\\left(\\theta_{1} + \\theta_{2} \\right)} - \\cos{\\left(\\theta_{1} + \\theta_{2} + \\theta_{3} \\right)}\\right) \\cos{\\left(\\theta_{1} + \\theta_{2} + \\theta_{3} \\right)}\\\\m_{2} \\left(\\sin{\\left(\\theta_{1} \\right)} \\sin{\\left(\\theta_{2} \\right)} - \\cos{\\left(\\theta_{1} \\right)} \\cos{\\left(\\theta_{2} \\right)}\\right) \\left(\\sin{\\left(\\theta_{1} \\right)} \\sin{\\left(\\theta_{2} \\right)} - \\cos{\\left(\\theta_{1} \\right)} \\cos{\\left(\\theta_{2} \\right)} - \\cos{\\left(\\theta_{1} \\right)}\\right) + m_{2} \\left(- \\sin{\\left(\\theta_{1} \\right)} \\cos{\\left(\\theta_{2} \\right)} - \\sin{\\left(\\theta_{2} \\right)} \\cos{\\left(\\theta_{1} \\right)}\\right) \\left(- \\sin{\\left(\\theta_{1} \\right)} \\cos{\\left(\\theta_{2} \\right)} - \\sin{\\left(\\theta_{1} \\right)} - \\sin{\\left(\\theta_{2} \\right)} \\cos{\\left(\\theta_{1} \\right)}\\right) + m_{3} \\left(- \\sin{\\left(\\theta_{1} + \\theta_{2} \\right)} - \\sin{\\left(\\theta_{1} + \\theta_{2} + \\theta_{3} \\right)}\\right)^{2} + m_{3} \\left(- \\cos{\\left(\\theta_{1} + \\theta_{2} \\right)} - \\cos{\\left(\\theta_{1} + \\theta_{2} + \\theta_{3} \\right)}\\right)^{2} & m_{2} \\left(\\sin{\\left(\\theta_{1} \\right)} \\sin{\\left(\\theta_{2} \\right)} - \\cos{\\left(\\theta_{1} \\right)} \\cos{\\left(\\theta_{2} \\right)}\\right)^{2} + m_{2} \\left(- \\sin{\\left(\\theta_{1} \\right)} \\cos{\\left(\\theta_{2} \\right)} - \\sin{\\left(\\theta_{2} \\right)} \\cos{\\left(\\theta_{1} \\right)}\\right)^{2} + m_{3} \\left(- \\sin{\\left(\\theta_{1} + \\theta_{2} \\right)} - \\sin{\\left(\\theta_{1} + \\theta_{2} + \\theta_{3} \\right)}\\right)^{2} + m_{3} \\left(- \\cos{\\left(\\theta_{1} + \\theta_{2} \\right)} - \\cos{\\left(\\theta_{1} + \\theta_{2} + \\theta_{3} \\right)}\\right)^{2} & - m_{3} \\left(- \\sin{\\left(\\theta_{1} + \\theta_{2} \\right)} - \\sin{\\left(\\theta_{1} + \\theta_{2} + \\theta_{3} \\right)}\\right) \\sin{\\left(\\theta_{1} + \\theta_{2} + \\theta_{3} \\right)} - m_{3} \\left(- \\cos{\\left(\\theta_{1} + \\theta_{2} \\right)} - \\cos{\\left(\\theta_{1} + \\theta_{2} + \\theta_{3} \\right)}\\right) \\cos{\\left(\\theta_{1} + \\theta_{2} + \\theta_{3} \\right)}\\\\- m_{3} \\left(- \\sin{\\left(\\theta_{1} + \\theta_{2} \\right)} - \\sin{\\left(\\theta_{1} + \\theta_{2} + \\theta_{3} \\right)}\\right) \\sin{\\left(\\theta_{1} + \\theta_{2} + \\theta_{3} \\right)} - m_{3} \\left(- \\cos{\\left(\\theta_{1} + \\theta_{2} \\right)} - \\cos{\\left(\\theta_{1} + \\theta_{2} + \\theta_{3} \\right)}\\right) \\cos{\\left(\\theta_{1} + \\theta_{2} + \\theta_{3} \\right)} & - m_{3} \\left(- \\sin{\\left(\\theta_{1} + \\theta_{2} \\right)} - \\sin{\\left(\\theta_{1} + \\theta_{2} + \\theta_{3} \\right)}\\right) \\sin{\\left(\\theta_{1} + \\theta_{2} + \\theta_{3} \\right)} - m_{3} \\left(- \\cos{\\left(\\theta_{1} + \\theta_{2} \\right)} - \\cos{\\left(\\theta_{1} + \\theta_{2} + \\theta_{3} \\right)}\\right) \\cos{\\left(\\theta_{1} + \\theta_{2} + \\theta_{3} \\right)} & m_{3} \\sin^{2}{\\left(\\theta_{1} + \\theta_{2} + \\theta_{3} \\right)} + m_{3} \\cos^{2}{\\left(\\theta_{1} + \\theta_{2} + \\theta_{3} \\right)}\\end{matrix}\\right]$"
      ],
      "text/plain": [
       "Matrix([\n",
       "[                                                               m_1*sin(theta_1)**2 + m_1*cos(theta_1)**2 + m_2*(sin(theta_1)*sin(theta_2) - cos(theta_1)*cos(theta_2) - cos(theta_1))**2 + m_2*(-sin(theta_1)*cos(theta_2) - sin(theta_1) - sin(theta_2)*cos(theta_1))**2 + m_3*(-sin(theta_1 + theta_2) - sin(theta_1 + theta_2 + theta_3))**2 + m_3*(-cos(theta_1 + theta_2) - cos(theta_1 + theta_2 + theta_3))**2, m_2*(sin(theta_1)*sin(theta_2) - cos(theta_1)*cos(theta_2))*(sin(theta_1)*sin(theta_2) - cos(theta_1)*cos(theta_2) - cos(theta_1)) + m_2*(-sin(theta_1)*cos(theta_2) - sin(theta_2)*cos(theta_1))*(-sin(theta_1)*cos(theta_2) - sin(theta_1) - sin(theta_2)*cos(theta_1)) + m_3*(-sin(theta_1 + theta_2) - sin(theta_1 + theta_2 + theta_3))**2 + m_3*(-cos(theta_1 + theta_2) - cos(theta_1 + theta_2 + theta_3))**2, -m_3*(-sin(theta_1 + theta_2) - sin(theta_1 + theta_2 + theta_3))*sin(theta_1 + theta_2 + theta_3) - m_3*(-cos(theta_1 + theta_2) - cos(theta_1 + theta_2 + theta_3))*cos(theta_1 + theta_2 + theta_3)],\n",
       "[m_2*(sin(theta_1)*sin(theta_2) - cos(theta_1)*cos(theta_2))*(sin(theta_1)*sin(theta_2) - cos(theta_1)*cos(theta_2) - cos(theta_1)) + m_2*(-sin(theta_1)*cos(theta_2) - sin(theta_2)*cos(theta_1))*(-sin(theta_1)*cos(theta_2) - sin(theta_1) - sin(theta_2)*cos(theta_1)) + m_3*(-sin(theta_1 + theta_2) - sin(theta_1 + theta_2 + theta_3))**2 + m_3*(-cos(theta_1 + theta_2) - cos(theta_1 + theta_2 + theta_3))**2,                                                                                                                                          m_2*(sin(theta_1)*sin(theta_2) - cos(theta_1)*cos(theta_2))**2 + m_2*(-sin(theta_1)*cos(theta_2) - sin(theta_2)*cos(theta_1))**2 + m_3*(-sin(theta_1 + theta_2) - sin(theta_1 + theta_2 + theta_3))**2 + m_3*(-cos(theta_1 + theta_2) - cos(theta_1 + theta_2 + theta_3))**2, -m_3*(-sin(theta_1 + theta_2) - sin(theta_1 + theta_2 + theta_3))*sin(theta_1 + theta_2 + theta_3) - m_3*(-cos(theta_1 + theta_2) - cos(theta_1 + theta_2 + theta_3))*cos(theta_1 + theta_2 + theta_3)],\n",
       "[                                                                                                                                                                                                               -m_3*(-sin(theta_1 + theta_2) - sin(theta_1 + theta_2 + theta_3))*sin(theta_1 + theta_2 + theta_3) - m_3*(-cos(theta_1 + theta_2) - cos(theta_1 + theta_2 + theta_3))*cos(theta_1 + theta_2 + theta_3),                                                                                                                                                                                                                -m_3*(-sin(theta_1 + theta_2) - sin(theta_1 + theta_2 + theta_3))*sin(theta_1 + theta_2 + theta_3) - m_3*(-cos(theta_1 + theta_2) - cos(theta_1 + theta_2 + theta_3))*cos(theta_1 + theta_2 + theta_3),                                                                                                                      m_3*sin(theta_1 + theta_2 + theta_3)**2 + m_3*cos(theta_1 + theta_2 + theta_3)**2]])"
      ]
     },
     "execution_count": 77,
     "metadata": {},
     "output_type": "execute_result"
    }
   ],
   "source": [
    "m_1,m_2,m_3 = sp.symbols('m_1,m_2,m_3',real=True)\n",
    "m = sp.diag(m_1,m_1,m_2,m_2,m_3,m_3)\n",
    "\n",
    "M = J.transpose() @ m @ J\n",
    "M"
   ]
  },
  {
   "cell_type": "code",
   "execution_count": 78,
   "id": "8436ac4f",
   "metadata": {},
   "outputs": [
    {
     "data": {
      "text/latex": [
       "$\\displaystyle \\left[\\begin{matrix}m_{1} + 4 m_{2} + 4 m_{3} & 2 m_{2} + 4 m_{3} & 2 m_{3}\\\\2 m_{2} + 4 m_{3} & m_{2} + 4 m_{3} & 2 m_{3}\\\\2 m_{3} & 2 m_{3} & m_{3}\\end{matrix}\\right]$"
      ],
      "text/plain": [
       "Matrix([\n",
       "[m_1 + 4*m_2 + 4*m_3, 2*m_2 + 4*m_3, 2*m_3],\n",
       "[      2*m_2 + 4*m_3,   m_2 + 4*m_3, 2*m_3],\n",
       "[              2*m_3,         2*m_3,   m_3]])"
      ]
     },
     "execution_count": 78,
     "metadata": {},
     "output_type": "execute_result"
    }
   ],
   "source": [
    "# Standing Configuration\n",
    "M.subs([[theta_1,0],[theta_2,0],[theta_3,0]])"
   ]
  },
  {
   "cell_type": "code",
   "execution_count": 38,
   "id": "53ed3468",
   "metadata": {},
   "outputs": [],
   "source": [
    "\n",
    "nFK1 = lambdify([theta_1],FK1)\n",
    "nFK2 = lambdify([theta_1,theta_2],FK2)\n",
    "nFK3 = lambdify([theta_1,theta_2,theta_3],FK3)\n",
    "\n",
    "nJ1 = lambdify([theta_1],J1)\n",
    "nJ2 = lambdify([theta_1,theta_2],J2)\n",
    "nJ3 = lambdify([theta_1,theta_2,theta_3],J3)\n",
    "\n",
    "nJ = lambdify([theta_1,theta_2,theta_3],J)\n",
    "nM = lambdify([theta_1,theta_2,theta_3],M)"
   ]
  },
  {
   "cell_type": "code",
   "execution_count": 51,
   "id": "7f03f72c",
   "metadata": {},
   "outputs": [
    {
     "data": {
      "text/latex": [
       "$\\displaystyle \\left[\\begin{matrix}-1 & 0 & 0\\\\0 & 0 & 0\\\\-2 & -1 & 0\\\\0 & 0 & 0\\\\-3 & -2 & -1\\\\0 & 0 & 0\\end{matrix}\\right]$"
      ],
      "text/plain": [
       "Matrix([\n",
       "[-1,  0,  0],\n",
       "[ 0,  0,  0],\n",
       "[-2, -1,  0],\n",
       "[ 0,  0,  0],\n",
       "[-3, -2, -1],\n",
       "[ 0,  0,  0]])"
      ]
     },
     "execution_count": 51,
     "metadata": {},
     "output_type": "execute_result"
    }
   ],
   "source": [
    "J.subs([[theta_1,0],[theta_2,0],[theta_3,0]])"
   ]
  },
  {
   "cell_type": "code",
   "execution_count": null,
   "id": "bc44fc40",
   "metadata": {},
   "outputs": [],
   "source": []
  }
 ],
 "metadata": {
  "kernelspec": {
   "display_name": "Python 3 (ipykernel)",
   "language": "python",
   "name": "python3"
  },
  "language_info": {
   "codemirror_mode": {
    "name": "ipython",
    "version": 3
   },
   "file_extension": ".py",
   "mimetype": "text/x-python",
   "name": "python",
   "nbconvert_exporter": "python",
   "pygments_lexer": "ipython3",
   "version": "3.11.5"
  }
 },
 "nbformat": 4,
 "nbformat_minor": 5
}
