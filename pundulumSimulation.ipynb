{
 "cells": [
  {
   "cell_type": "code",
   "execution_count": 33,
   "id": "05635a2b",
   "metadata": {},
   "outputs": [],
   "source": [
    "import numpy as np\n",
    "import matplotlib.pyplot as plt\n",
    "import matplotlib.gridspec as gridspec\n",
    "from scipy.integrate import solve_ivp"
   ]
  },
  {
   "cell_type": "code",
   "execution_count": 34,
   "id": "e859625b",
   "metadata": {},
   "outputs": [],
   "source": [
    "def pendulum(t,x,g,l):\n",
    "    x1, x2 = x;\n",
    "    x_dot = [x2, -g/l*np.sin(x1)]\n",
    "    return x_dot"
   ]
  },
  {
   "cell_type": "code",
   "execution_count": 35,
   "id": "de0f32c8",
   "metadata": {},
   "outputs": [],
   "source": [
    "g = 9.81\n",
    "l = 1\n",
    "x0 = [1,0]"
   ]
  },
  {
   "cell_type": "code",
   "execution_count": 36,
   "id": "014f9807",
   "metadata": {},
   "outputs": [],
   "source": [
    "result1 = solve_ivp(lambda t,x: pendulum(t,x,g,l), [0, 10], x0, t_eval = np.linspace(0,10,100))"
   ]
  },
  {
   "cell_type": "code",
   "execution_count": 37,
   "id": "450b8ad1",
   "metadata": {},
   "outputs": [],
   "source": [
    "theta = result1.y[0,:]\n",
    "theta_dot = result1.y[1,:]\n",
    "t = result1.t"
   ]
  },
  {
   "cell_type": "code",
   "execution_count": 105,
   "id": "d0672da6",
   "metadata": {},
   "outputs": [
    {
     "data": {
      "image/png": "[encoded data removed]",
      "text/plain": [
       "<Figure size 640x480 with 4 Axes>"
      ]
     },
     "metadata": {},
     "output_type": "display_data"
    }
   ],
   "source": [
    "fig = plt.figure()\n",
    "\n",
    "gs0 = gridspec.GridSpec(3, 1, figure=fig)\n",
    "\n",
    "gs00 = gridspec.GridSpecFromSubplotSpec(2, 3, subplot_spec=gs0[0])\n",
    "\n",
    "ax1 = fig.add_subplot(gs00[:, :-2])\n",
    "ax2 = fig.add_subplot(gs00[-2, -2])\n",
    "ax3 = fig.add_subplot(gs00[-1, -2])\n",
    "ax4 = fig.add_subplot(gs00[0:2, -1])"
   ]
  },
  {
   "cell_type": "code",
   "execution_count": null,
   "id": "403fa4a0",
   "metadata": {},
   "outputs": [],
   "source": []
  }
 ],
 "metadata": {
  "kernelspec": {
   "display_name": "Python 3 (ipykernel)",
   "language": "python",
   "name": "python3"
  },
  "language_info": {
   "codemirror_mode": {
    "name": "ipython",
    "version": 3
   },
   "file_extension": ".py",
   "mimetype": "text/x-python",
   "name": "python",
   "nbconvert_exporter": "python",
   "pygments_lexer": "ipython3",
   "version": "3.11.5"
  }
 },
 "nbformat": 4,
 "nbformat_minor": 5
}
