{
 "cells": [
  {
   "cell_type": "markdown",
   "id": "0bb5d0ac",
   "metadata": {},
   "source": [
    "# MAE 269: HW3"
   ]
  },
  {
   "cell_type": "code",
   "execution_count": 1,
   "id": "ebcffe9c",
   "metadata": {},
   "outputs": [],
   "source": [
    "import numpy as np\n",
    "import sympy as sp\n",
    "import scipy as sci\n",
    "import matplotlib.pyplot as plt\n",
    "import matplotlib.gridspec as gridspec \n",
    "from scipy.integrate import solve_ivp\n",
    "from scipy.optimize import fixed_point\n",
    "from scipy.optimize import root\n",
    "from scipy.optimize import brentq"
   ]
  },
  {
   "cell_type": "markdown",
   "id": "a1314356",
   "metadata": {},
   "source": [
    "## 1. Simulating Dynamical Systems"
   ]
  },
  {
   "cell_type": "markdown",
   "id": "0ecb543d",
   "metadata": {},
   "source": [
    "### Defining Numerical Functions"
   ]
  },
  {
   "cell_type": "code",
   "execution_count": 2,
   "id": "7b559d97",
   "metadata": {},
   "outputs": [],
   "source": [
    "def pendulum(t,x,arg):\n",
    "    x1, x2 = x;\n",
    "    g, l = arg;\n",
    "    return np.array([x2, -g*l*np.sin(x1)])\n",
    "\n",
    "def VanDerPol(t,x,arg):\n",
    "    x1, x2 = x;\n",
    "    k, mu = arg;\n",
    "    return np.array([x2, -k*x1 + mu*(1-np.power(x1,2))*x2])\n",
    "\n",
    "def Hopf(t,x,arg):\n",
    "    x1, x2 = x;\n",
    "    w, mu = arg;\n",
    "    return np.array([(mu-(np.power(x1,2)+np.power(x2,2)))*x1+w*x2,(mu-(np.power(x1,2)+np.power(x2,2)))*x2-w*x1])\n",
    "\n",
    "def sfo(t,x,arg):\n",
    "    x1, x2 = x;\n",
    "    F = ((x1<=0)*2-1)*10\n",
    "    eps = arg;\n",
    "    return np.array([x2, F-2*eps*x2-x1])"
   ]
  },
  {
   "cell_type": "markdown",
   "id": "d4915176",
   "metadata": {},
   "source": [
    "### Defining function parameters"
   ]
  },
  {
   "cell_type": "code",
   "execution_count": 3,
   "id": "abcf5f97",
   "metadata": {},
   "outputs": [],
   "source": [
    "g = 9.81;\n",
    "l = 1;\n",
    "arg1 = [g,l]\n",
    "\n",
    "k = 2;\n",
    "mu = -1\n",
    "arg2 = [k,mu]\n",
    "\n",
    "w = 1;\n",
    "mu = 1;\n",
    "arg3 = [w,mu]\n",
    "\n",
    "eps = 0.2\n",
    "arg4 = eps"
   ]
  },
  {
   "cell_type": "markdown",
   "id": "c4918e6c",
   "metadata": {},
   "source": [
    "### Defining Symbolic Functions"
   ]
  },
  {
   "cell_type": "code",
   "execution_count": 4,
   "id": "d38e3fa3",
   "metadata": {},
   "outputs": [],
   "source": [
    "x1, x2 = sp.symbols('x_1 x_2')\n",
    "\n",
    "f1 = sp.Matrix([x2, -g*l*sp.sin(x1)])\n",
    "f2 = sp.Matrix([x2, -k*x1 + mu*(1-x1**2)*x2])\n",
    "f3 = sp.Matrix([(mu-(x1**2+x2**2))*x1+w*x2,(mu-(x1**2+x2**2))*x2+w*x1])\n",
    "f4a = sp.Matrix([x2, 10-2*eps*x2-x1])\n",
    "f4b = sp.Matrix([x2, -10-2*eps*x2-x1])"
   ]
  },
  {
   "cell_type": "markdown",
   "id": "dcddb879",
   "metadata": {},
   "source": [
    "### Simulation Domain"
   ]
  },
  {
   "cell_type": "code",
   "execution_count": 5,
   "id": "aea82eaf",
   "metadata": {},
   "outputs": [],
   "source": [
    "t = np.linspace(0,10,100);"
   ]
  },
  {
   "cell_type": "markdown",
   "id": "3a101ea3",
   "metadata": {},
   "source": [
    "### Finding Nodes"
   ]
  },
  {
   "cell_type": "code",
   "execution_count": 20,
   "id": "486607ef",
   "metadata": {},
   "outputs": [
    {
     "ename": "AttributeError",
     "evalue": "'list' object has no attribute 'eval'",
     "output_type": "error",
     "traceback": [
      "\u001b[0;31m---------------------------------------------------------------------------\u001b[0m",
      "\u001b[0;31mAttributeError\u001b[0m                            Traceback (most recent call last)",
      "Cell \u001b[0;32mIn[20], line 1\u001b[0m\n\u001b[0;32m----> 1\u001b[0m p1 \u001b[38;5;241m=\u001b[39m sp\u001b[38;5;241m.\u001b[39msolve(f1,(x1,x2))\u001b[38;5;241m.\u001b[39meval()\n\u001b[1;32m      2\u001b[0m p2 \u001b[38;5;241m=\u001b[39m sp\u001b[38;5;241m.\u001b[39msolve(f2,(x1,x2))\u001b[38;5;241m.\u001b[39mfeval()\n\u001b[1;32m      3\u001b[0m p3 \u001b[38;5;241m=\u001b[39m sp\u001b[38;5;241m.\u001b[39msolve(f3,(x1,x2))\u001b[38;5;241m.\u001b[39mfeval()\n",
      "\u001b[0;31mAttributeError\u001b[0m: 'list' object has no attribute 'eval'"
     ]
    }
   ],
   "source": [
    "p1 = sp.solve(f1,(x1,x2)).eval()\n",
    "p2 = sp.solve(f2,(x1,x2)).feval()\n",
    "p3 = sp.solve(f3,(x1,x2)).feval()\n",
    "p4a = sp.solve(f4a,(x1,x2)).feval()\n",
    "p4b = sp.solve(f4b,(x1,x2)).feval()"
   ]
  },
  {
   "cell_type": "markdown",
   "id": "a08f9521",
   "metadata": {},
   "source": [
    "### Node Behavior"
   ]
  },
  {
   "cell_type": "code",
   "execution_count": 9,
   "id": "fcff53a1",
   "metadata": {},
   "outputs": [
    {
     "name": "stdout",
     "output_type": "stream",
     "text": [
      "Pendulum: {-3.13209195267317*I: 1, 3.13209195267317*I: 1}\n",
      "-> Center at (0,0)\n",
      "-> Saddle at (pi,0)\n",
      "\n",
      "VanDerPol: {0.5 - 1.3228756555323*I: 1, 0.5 + 1.3228756555323*I: 1}\n",
      "-> Repelling Focus at (0,0)\n",
      "\n",
      "Hopf: {0: 1, 2.00000000000000: 1}\n",
      "-> Unstable Node at (0,0)\n",
      "\n",
      "STF: {-0.2 - 0.979795897113271*I: 1, -0.2 + 0.979795897113271*I: 1}\n",
      "-> Attracting Focus at (0,0)\n",
      "\n"
     ]
    }
   ],
   "source": [
    "print(\"Pendulum:\",end = \" \")\n",
    "print(f1.jacobian((x1,x2)).subs([(x1,p1[0]),(x2,p1[1])]).evalf().eigenvals())\n",
    "print(\"-> Center at (0,0)\")\n",
    "print(\"-> Saddle at (pi,0)\")\n",
    "\n",
    "print()\n",
    "\n",
    "print(\"VanDerPol:\",end = \" \")  \n",
    "print(f2.jacobian((x1,x2)).subs([(x1,p2[0]),(x2,p2[1])]).evalf().eigenvals())\n",
    "print(\"-> Repelling Focus at (0,0)\")\n",
    "print()\n",
    "\n",
    "print(\"Hopf:\",end = \" \")  \n",
    "print(f3.jacobian((x1,x2)).subs([(x1,p3[0]),(x2,p3[1])]).evalf().eigenvals())\n",
    "print(\"-> Unstable Node at (0,0)\")\n",
    "print()\n",
    "\n",
    "print(\"STF:\",end = \" \")  \n",
    "print(f4.jacobian((x1,x2)).subs([(x1,p4[0]),(x2,p4[1])]).evalf().eigenvals())\n",
    "print(\"-> Attracting Focus at (0,0)\")\n",
    "print()"
   ]
  },
  {
   "cell_type": "code",
   "execution_count": 54,
   "id": "c595bd54",
   "metadata": {},
   "outputs": [],
   "source": [
    "def plot_system(f,arg,T,xmin,xmax,ymin,ymax,t,fig):\n",
    "    x = np.linspace(xmin,xmax,19)\n",
    "    y = np.linspace(ymin,ymax,19);\n",
    "    X, Y = np.meshgrid(x,y)\n",
    "    XY = [X, Y]\n",
    "\n",
    "    UV = f(t,XY,arg)\n",
    "    U, V = UV\n",
    "    Uhat = U * (1 / np.sqrt(np.power(U,2) + np.power(V,2)))\n",
    "    Vhat = V * (1 / np.sqrt(np.power(U,2) + np.power(V,2)))\n",
    "\n",
    "\n",
    "    h = 0.01 # step size (1 ms)\n",
    "    tf = 10 # duration (1 s)\n",
    "    N = int(tf/h);\n",
    "\n",
    "    s1 = solve_ivp(f, [0, 10],T[0], args=[arg], t_eval=t).y\n",
    "    s2 = solve_ivp(f, [0, 10],T[1], args=[arg], t_eval=t).y\n",
    "    s3 = solve_ivp(f, [0, 10],T[2], args=[arg], t_eval=t).y\n",
    "\n",
    "    gs0 = gridspec.GridSpec(1, 1, figure=fig)\n",
    "\n",
    "    gs00 = gridspec.GridSpecFromSubplotSpec(2, 2, subplot_spec=gs0[0])\n",
    "\n",
    "    ax1 = fig.add_subplot(gs00[:, :-1])\n",
    "    ax2 = fig.add_subplot(gs00[-1, -1])\n",
    "    ax3 = fig.add_subplot(gs00[-0, -1])\n",
    "    fig.tight_layout(pad=1)\n",
    "\n",
    "    ax1.quiver(X,Y,Uhat,Vhat)\n",
    "    ax1.plot(s1[0,:],s1[1,:])\n",
    "    ax1.plot(s2[0,:],s2[1,:])\n",
    "    ax1.plot(s3[0,:],s3[1,:])\n",
    "    ax1.set_xlim([xmin,xmax])\n",
    "    ax1.set_ylim([ymin,ymax])\n",
    "    ax2.plot(t,s1[0])\n",
    "    ax2.plot(t,s2[0])\n",
    "    ax2.plot(t,s3[0])\n",
    "    ax3.plot(t,s1[1])\n",
    "    ax3.plot(t,s2[1])\n",
    "    ax3.plot(t,s3[1])\n",
    "    return [ax1, ax2, ax3]\n",
    "\n",
    "%matplotlib qt"
   ]
  },
  {
   "cell_type": "code",
   "execution_count": 57,
   "id": "dba0b69a",
   "metadata": {
    "scrolled": true
   },
   "outputs": [
    {
     "name": "stderr",
     "output_type": "stream",
     "text": [
      "/var/folders/9w/9hcqnn0s191_z131mzx0lmx40000gn/T/ipykernel_20085/1444858045.py:9: RuntimeWarning: divide by zero encountered in divide\n",
      "  Uhat = U * (1 / np.sqrt(np.power(U,2) + np.power(V,2)))\n",
      "/var/folders/9w/9hcqnn0s191_z131mzx0lmx40000gn/T/ipykernel_20085/1444858045.py:9: RuntimeWarning: invalid value encountered in multiply\n",
      "  Uhat = U * (1 / np.sqrt(np.power(U,2) + np.power(V,2)))\n",
      "/var/folders/9w/9hcqnn0s191_z131mzx0lmx40000gn/T/ipykernel_20085/1444858045.py:10: RuntimeWarning: divide by zero encountered in divide\n",
      "  Vhat = V * (1 / np.sqrt(np.power(U,2) + np.power(V,2)))\n",
      "/var/folders/9w/9hcqnn0s191_z131mzx0lmx40000gn/T/ipykernel_20085/1444858045.py:10: RuntimeWarning: invalid value encountered in multiply\n",
      "  Vhat = V * (1 / np.sqrt(np.power(U,2) + np.power(V,2)))\n"
     ]
    },
    {
     "data": {
      "text/plain": [
       "[<Axes: >, <Axes: >, <Axes: >]"
      ]
     },
     "execution_count": 57,
     "metadata": {},
     "output_type": "execute_result"
    }
   ],
   "source": [
    "plt.close('all')\n",
    "\n",
    "\n",
    "\n",
    "fig1 = plt.figure(figsize=(12,4))\n",
    "t1 = np.linspace(0,10,100);\n",
    "ax11, ax12, ax13 = plot_system(pendulum,arg1,[[1,0],[1.5,0],[2,0]],-np.pi,np.pi,-10,10,t1,fig1);\n",
    "eq1, = ax11.plot(p1[0][0].evalf(),p1[0][1].evalf(),'go',label='Center')\n",
    "eq2, = ax11.plot(p1[1][0].evalf(),p1[1][1].evalf(),'rx',label='Saddle')\n",
    "eq2, = ax11.plot(-p1[1][0].evalf(),p1[1][1].evalf(),'rx',label='Saddle')\n",
    "ax11.legend(handles=[eq1, eq2])\n",
    "\n",
    "fig2 = plt.figure(figsize=(12,4))\n",
    "t2 = np.linspace(0,10,100);\n",
    "ax1, ax2, ax3 = plot_system(VanDerPol,arg2,[[1,0],[1.5,0],[2,0]],-np.pi,np.pi,-10,10,t2,fig2)\n",
    "eq1, = ax21.plot(p1[0][0].evalf(),p1[0][1].evalf(),'go',label='Center')\n",
    "\n",
    "\n",
    "fig3 = plt.figure(figsize=(12,4))\n",
    "t3 = np.linspace(0,10,100);\n",
    "plot_system(Hopf,arg3,[[-6,6],[-3,-3],[9,9]],-10,10,-10,10,t3,fig3)\n",
    "\n",
    "fig4 = plt.figure(figsize=(12,4))\n",
    "t4 = np.linspace(0,3,100);\n",
    "plot_system(sfo,arg4,[[-1,0],[-2,-0],[-3,0]],-10,10,-10,10,t4,fig4)"
   ]
  },
  {
   "cell_type": "code",
   "execution_count": 21,
   "id": "e6951040",
   "metadata": {},
   "outputs": [
    {
     "data": {
      "text/plain": [
       "[(0.0, 0.0), (3.14159265358979, 0.0)]"
      ]
     },
     "execution_count": 21,
     "metadata": {},
     "output_type": "execute_result"
    }
   ],
   "source": [
    "p1"
   ]
  },
  {
   "cell_type": "code",
   "execution_count": 47,
   "id": "72817d38",
   "metadata": {},
   "outputs": [
    {
     "data": {
      "text/plain": [
       "sympy.core.numbers.Float"
      ]
     },
     "execution_count": 47,
     "metadata": {},
     "output_type": "execute_result"
    }
   ],
   "source": [
    "type(p1[0][0])"
   ]
  },
  {
   "cell_type": "code",
   "execution_count": 40,
   "id": "db9c8b7e",
   "metadata": {},
   "outputs": [
    {
     "data": {
      "text/plain": [
       "(3.14159265358979, 0.0)"
      ]
     },
     "execution_count": 40,
     "metadata": {},
     "output_type": "execute_result"
    }
   ],
   "source": [
    "p1[:][1]"
   ]
  },
  {
   "cell_type": "code",
   "execution_count": 50,
   "id": "43bc24ae",
   "metadata": {},
   "outputs": [
    {
     "data": {
      "text/latex": [
       "$\\displaystyle 0$"
      ],
      "text/plain": [
       "0"
      ]
     },
     "execution_count": 50,
     "metadata": {},
     "output_type": "execute_result"
    }
   ],
   "source": [
    "p1[0][0].evalf()"
   ]
  },
  {
   "cell_type": "code",
   "execution_count": null,
   "id": "ef772f48",
   "metadata": {},
   "outputs": [],
   "source": []
  }
 ],
 "metadata": {
  "kernelspec": {
   "display_name": "Python 3 (ipykernel)",
   "language": "python",
   "name": "python3"
  },
  "language_info": {
   "codemirror_mode": {
    "name": "ipython",
    "version": 3
   },
   "file_extension": ".py",
   "mimetype": "text/x-python",
   "name": "python",
   "nbconvert_exporter": "python",
   "pygments_lexer": "ipython3",
   "version": "3.11.5"
  }
 },
 "nbformat": 4,
 "nbformat_minor": 5
}
