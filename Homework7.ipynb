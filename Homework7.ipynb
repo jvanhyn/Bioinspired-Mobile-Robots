{
 "cells": [
  {
   "cell_type": "code",
   "execution_count": 1,
   "metadata": {},
   "outputs": [],
   "source": [
    "import sympy as sp\n",
    "import numpy as np\n",
    "from sympy import symbols, pprint\n",
    "from sympy import sin, cos, asin, acos, pi, lambdify\n",
    "from sympy import Matrix, simplify, Function, diff, Derivative, nsimplify\n",
    "from scipy.integrate import solve_ivp"
   ]
  },
  {
   "cell_type": "code",
   "execution_count": 2,
   "metadata": {},
   "outputs": [],
   "source": [
    "from IPython import display # for the animation\n",
    "import matplotlib as mpl\n",
    "mpl.use('Qt5Agg')\n",
    "\n",
    "import matplotlib.pyplot as plt\n",
    "plt.ion()\n",
    "\n",
    "\n",
    "# styling for plots\n",
    "mpl.rcParams['axes.titlesize'] = 24\n",
    "mpl.rcParams['axes.labelsize'] = 20\n",
    "mpl.rcParams['lines.linewidth'] = 3\n",
    "mpl.rcParams['lines.markersize'] = 10\n",
    "mpl.rcParams['xtick.labelsize'] = 16\n",
    "mpl.rcParams['ytick.labelsize'] = 16"
   ]
  },
  {
   "cell_type": "markdown",
   "metadata": {},
   "source": [
    "# Simulating Multi-link System"
   ]
  },
  {
   "cell_type": "markdown",
   "metadata": {},
   "source": [
    "## Solving the Dynamics"
   ]
  },
  {
   "cell_type": "code",
   "execution_count": 3,
   "metadata": {},
   "outputs": [],
   "source": [
    "(t, \n",
    " theta_1, \n",
    " theta_2, \n",
    " theta_3, \n",
    " l_1, \n",
    " l_2, \n",
    " l_3, \n",
    " m_1,\n",
    " m_2,\n",
    " m_3,\n",
    " g) =         symbols(\"\"\"t, \n",
    "                         theta_1 \n",
    "                         theta_2 \n",
    "                         theta_3 \n",
    "                         l_1 \n",
    "                         l_2 \n",
    "                         l_3\n",
    "                         m_1\n",
    "                         m_2\n",
    "                         m_3\n",
    "                         g\"\"\" , real = True)\n",
    "\n",
    "\n",
    "theta_1 = Function('theta_1', real=True)(t)\n",
    "theta_2 = Function('theta_2', real=True)(t)\n",
    "theta_3 = Function('theta_3', real=True)(t)"
   ]
  },
  {
   "cell_type": "code",
   "execution_count": 4,
   "metadata": {},
   "outputs": [],
   "source": [
    "def T(theta, x, y):\n",
    "    return Matrix([[cos(theta), -sin(theta), x], \n",
    "                   [sin(theta), cos(theta), y],\n",
    "                   [0, 0, 1]])"
   ]
  },
  {
   "cell_type": "code",
   "execution_count": 5,
   "metadata": {},
   "outputs": [],
   "source": [
    "# Transformation Matricies\n",
    "T_01 = T(theta_1, 0,   0)\n",
    "T_12 = T(theta_2, l_1, 0)\n",
    "T_23 = T(theta_3, l_2, 0)"
   ]
  },
  {
   "cell_type": "code",
   "execution_count": 6,
   "metadata": {},
   "outputs": [],
   "source": [
    "# Zero Positions\n",
    "M1 = Matrix([[l_1], [0], [1]])\n",
    "M2 = Matrix([[l_2], [0], [1]])\n",
    "M3 = Matrix([[l_3], [0], [1]])"
   ]
  },
  {
   "cell_type": "code",
   "execution_count": 7,
   "metadata": {},
   "outputs": [],
   "source": [
    "# Forward Kinematics\n",
    "FK1 = (T_01 * M1)[:-1,0]\n",
    "FK2 = simplify((T_01 * T_12 * M2)[:-1,0])\n",
    "FK3 = simplify((T_01 * T_12 * T_23 * M3)[:-1,0])"
   ]
  },
  {
   "cell_type": "code",
   "execution_count": 8,
   "metadata": {},
   "outputs": [],
   "source": [
    "# Jacobian \n",
    "J1 = FK1.jacobian([theta_1, theta_2, theta_3])\n",
    "J2 = simplify(FK2.jacobian([theta_1, theta_2, theta_3]))\n",
    "J3 = simplify(FK3.jacobian([theta_1, theta_2, theta_3]))\n",
    "J = Matrix([J1,J2,J3])"
   ]
  },
  {
   "cell_type": "code",
   "execution_count": 9,
   "metadata": {},
   "outputs": [],
   "source": [
    "# Velocities\n",
    "v1 = diff(FK1,t)\n",
    "v2 = diff(FK2,t)\n",
    "v3 = diff(FK3,t)"
   ]
  },
  {
   "cell_type": "code",
   "execution_count": 10,
   "metadata": {},
   "outputs": [],
   "source": [
    "# Calculate mass matrix from Jacobian\n",
    "mass_newton = J.transpose() @ sp.diag(m_1,m_1,m_2,m_2,m_3,m_3) @ J\n",
    "mass_newton = simplify(mass_newton)"
   ]
  },
  {
   "cell_type": "code",
   "execution_count": 11,
   "metadata": {},
   "outputs": [],
   "source": [
    "# Kinetic Energy\n",
    "KE1 = (1/2)*m_1*(v1.T * v1)[0]\n",
    "KE2 = (1/2)*m_2*(v2.T * v2)[0]\n",
    "KE3 = (1/2)*m_3*(v3.T * v3)[0]"
   ]
  },
  {
   "cell_type": "code",
   "execution_count": 12,
   "metadata": {},
   "outputs": [],
   "source": [
    "# Potential Energy\n",
    "P1 = m_1*g*FK1[1]\n",
    "P2 = m_2*g*FK2[1]\n",
    "P3 = m_3*g*FK3[1]"
   ]
  },
  {
   "cell_type": "code",
   "execution_count": 13,
   "metadata": {},
   "outputs": [],
   "source": [
    "# Lagrangian \n",
    "L = KE1 + KE2 + KE3 - P1 - P2 - P3\n",
    "L = simplify(L)\n"
   ]
  },
  {
   "cell_type": "code",
   "execution_count": 14,
   "metadata": {},
   "outputs": [],
   "source": [
    "# Equations of Motion\n",
    "EOM_theta_1 = diff(diff(L, Derivative(theta_1, t)), t) - diff(L, theta_1)\n",
    "EOM_theta_1 = nsimplify(EOM_theta_1)\n",
    "EOM_theta_2 = diff(diff(L, Derivative(theta_2, t)), t) - diff(L, theta_2)\n",
    "EOM_theta_2 = nsimplify(EOM_theta_2)\n",
    "EOM_theta_3 = diff(diff(L, Derivative(theta_3, t)), t) - diff(L, theta_3)\n",
    "EOM_theta_3 = nsimplify(EOM_theta_3)"
   ]
  },
  {
   "cell_type": "code",
   "execution_count": 15,
   "metadata": {},
   "outputs": [],
   "source": [
    "# Extract mass matrix from legrangian\n",
    "mass = sp.symarray('',(3,3))\n",
    "\n",
    "mass[0,0] = EOM_theta_1.expand().coeff(Derivative(theta_1,t,t))\n",
    "mass[0,1] = EOM_theta_1.expand().coeff(Derivative(theta_2,t,t))\n",
    "mass[0,2] = EOM_theta_1.expand().coeff(Derivative(theta_3,t,t))\n",
    "\n",
    "mass[1,0] = EOM_theta_2.expand().coeff(Derivative(theta_1,t,t))\n",
    "mass[1,1] = EOM_theta_2.expand().coeff(Derivative(theta_2,t,t))\n",
    "mass[1,2] = EOM_theta_2.expand().coeff(Derivative(theta_3,t,t))\n",
    "\n",
    "mass[2,0] = EOM_theta_3.expand().coeff(Derivative(theta_1,t,t))\n",
    "mass[2,1] = EOM_theta_3.expand().coeff(Derivative(theta_2,t,t))\n",
    "mass[2,2] = EOM_theta_3.expand().coeff(Derivative(theta_3,t,t))\n",
    "\n",
    "mass_lagrange = Matrix(mass)\n",
    "mass_lagrange = simplify(mass_lagrange)"
   ]
  },
  {
   "cell_type": "code",
   "execution_count": 16,
   "metadata": {},
   "outputs": [],
   "source": [
    "# Extract other terms\n",
    "accel_state_vector = Matrix([[Derivative(theta_1, t, t)], [Derivative(theta_2, t, t)], [Derivative(theta_3, t, t)]])\n",
    "\n",
    "EOM1_leftover = simplify(EOM_theta_1.expand() - (mass_lagrange[0,:]*accel_state_vector)[0])\n",
    "EOM2_leftover = simplify(EOM_theta_2.expand() - (mass_lagrange[1,:]*accel_state_vector)[0])\n",
    "EOM3_leftover = simplify(EOM_theta_3.expand() - (mass_lagrange[2,:]*accel_state_vector)[0])"
   ]
  },
  {
   "cell_type": "code",
   "execution_count": 17,
   "metadata": {},
   "outputs": [],
   "source": [
    "# Extract gravitational matrix\n",
    "G_1 = EOM1_leftover.subs([(Derivative(theta_1, t), 0), (Derivative(theta_2, t), 0), (Derivative(theta_3, t), 0)])\n",
    "G_2 = EOM2_leftover.subs([(Derivative(theta_1, t), 0), (Derivative(theta_2, t), 0), (Derivative(theta_3, t), 0)])\n",
    "G_3 = EOM3_leftover.subs([(Derivative(theta_1, t), 0), (Derivative(theta_2, t), 0), (Derivative(theta_3, t), 0)])"
   ]
  },
  {
   "cell_type": "code",
   "execution_count": 18,
   "metadata": {},
   "outputs": [],
   "source": [
    "# Extract coriolis matrix  \n",
    "C_1 = EOM1_leftover - G_1\n",
    "C_2 = simplify(EOM2_leftover - G_2)\n",
    "C_3 = simplify(EOM3_leftover - G_3)"
   ]
  },
  {
   "cell_type": "code",
   "execution_count": 19,
   "metadata": {},
   "outputs": [
    {
     "data": {
      "text/latex": [
       "$\\displaystyle \\text{True}$"
      ],
      "text/plain": [
       "True"
      ]
     },
     "execution_count": 19,
     "metadata": {},
     "output_type": "execute_result"
    }
   ],
   "source": [
    "# Is newton the same as Lagrange? \n",
    "sp.Eq(mass_newton,mass_lagrange)"
   ]
  },
  {
   "cell_type": "markdown",
   "metadata": {},
   "source": [
    "## Simulating"
   ]
  },
  {
   "cell_type": "code",
   "execution_count": 20,
   "metadata": {},
   "outputs": [],
   "source": [
    "# Create numerical functions\n",
    "M =   lambdify((theta_1, theta_2, theta_3, Derivative(theta_1, t), Derivative(theta_2, t),Derivative(theta_3, t), l_1, l_2, l_3, m_1, m_2, m_3), mass_lagrange)\n",
    "EOM = lambdify((theta_1, theta_2, theta_3, Derivative(theta_1, t), Derivative(theta_2, t),Derivative(theta_3, t), l_1, l_2, l_3, m_1, m_2, m_3), \n",
    "               Matrix([[EOM1_leftover.subs([(g, 9.8)])], [EOM2_leftover.subs([(g, 9.8)])],[EOM3_leftover.subs([(g, 9.8)])]]))\n",
    "\n",
    "nFK1 = lambdify((theta_1, theta_2, theta_3,l_1, l_2, l_3, m_1, m_2, m_3),FK1)\n",
    "nFK2 = lambdify((theta_1, theta_2, theta_3,l_1, l_2, l_3, m_1, m_2, m_3),FK2)\n",
    "nFK3 = lambdify((theta_1, theta_2, theta_3,l_1, l_2, l_3, m_1, m_2, m_3),FK3)"
   ]
  },
  {
   "cell_type": "code",
   "execution_count": 21,
   "metadata": {},
   "outputs": [],
   "source": [
    "# Parameters\n",
    "m = [1,1,2]\n",
    "m1,m2,m3 = m\n",
    "l = [1,1,1.5]\n",
    "l1,l2,l3 = l"
   ]
  },
  {
   "cell_type": "code",
   "execution_count": 22,
   "metadata": {},
   "outputs": [],
   "source": [
    "# Dynamics Function\n",
    "def dynamics(t, state, l, m):\n",
    "    theta_1, theta_2, theta_3, dtheta_1, dtheta_2, dtheta_3 = state\n",
    "    m_1,m_2,m_3 = m\n",
    "    l_1,l_2,l_3 = l\n",
    "    dydt = np.linalg.inv(M(theta_1, theta_2, theta_3, dtheta_1, dtheta_2, dtheta_3, l_1, l_2, l_3, m_1, m_2, m_3))@(-EOM(theta_1, theta_2, theta_3, dtheta_1, dtheta_2, dtheta_3, l_1, l_2, l_3, m_1, m_2, m_3))\n",
    "    return [dtheta_1, dtheta_2, dtheta_3, dydt[0][0], dydt[1][0] , dydt[2][0]]"
   ]
  },
  {
   "cell_type": "code",
   "execution_count": 23,
   "metadata": {},
   "outputs": [
    {
     "data": {
      "text/plain": [
       "[0,\n",
       " 0,\n",
       " 0,\n",
       " -6.000769315822004e-16,\n",
       " 6.000769315821969e-16,\n",
       " 1.5777218104420236e-30]"
      ]
     },
     "execution_count": 23,
     "metadata": {},
     "output_type": "execute_result"
    }
   ],
   "source": [
    "state0 = [np.pi/2,0,0,0,0,0]\n",
    "dynamics(0, state0, l, m)"
   ]
  },
  {
   "cell_type": "code",
   "execution_count": 24,
   "metadata": {},
   "outputs": [],
   "source": [
    "t_end = 10\n",
    "dt = 0.0001\n",
    "time = np.linspace(0,t_end,int(t_end/dt))\n",
    "\n",
    "sol = solve_ivp(lambda t, y: dynamics(t, y, l, m),\n",
    "                [0,t_end],state0, \n",
    "                t_eval = time, \n",
    "                rtol=1e-8, atol = 1e-8)"
   ]
  },
  {
   "cell_type": "code",
   "execution_count": 25,
   "metadata": {},
   "outputs": [],
   "source": [
    "\n",
    "fig = plt.figure();\n",
    "ax = plt.gca();\n",
    "ax.plot(sol.t, sol.y[0,:],label=r\"$\\theta_1$\")\n",
    "ax.plot(sol.t, sol.y[1,:],label=r\"$\\theta_2$\")\n",
    "ax.plot(sol.t, sol.y[2,:],label=r\"$\\theta_3$\")\n",
    "ax.legend()\n",
    "plt.show()\n",
    "# plt.ylabel('$x$')\n",
    "# plt.xlabel('time')"
   ]
  },
  {
   "cell_type": "code",
   "execution_count": 26,
   "metadata": {},
   "outputs": [],
   "source": [
    "stop = False\n",
    "\n",
    "def on_close(event):\n",
    "    global stop \n",
    "    stop = True\n",
    "\n",
    "fig = plt.figure()\n",
    "fig.canvas.mpl_connect('close_event', on_close)\n",
    "\n",
    "skip = 100\n",
    "p0 = np.zeros(len(time[0:-1:skip]))\n",
    "st = time[0:-1:skip]\n",
    "theta1 = sol.y[0,0:-1:skip]\n",
    "theta2 = sol.y[1,0:-1:skip]\n",
    "theta3 = sol.y[1,0:-1:skip]\n",
    "\n",
    "\n",
    "\n",
    "\n",
    "for i in range(len(p0)):\n",
    "    plt.clf();\n",
    "    ax = plt.gca();\n",
    "\n",
    "    ax.plot([p0[i],nFK1(theta1[i],theta2[i],theta3[i],l1,l2,l3,m1,m2,m3)[0][0],nFK2(theta1[i],theta2[i],theta3[i],l1,l2,l3,m1,m2,m3)[0][0],nFK3(theta1[i],theta2[i],theta3[i],l1,l2,l3,m1,m2,m3)[0][0]],\n",
    "            [p0[i],nFK1(theta1[i],theta2[i],theta3[i],l1,l2,l3,m1,m2,m3)[1][0],nFK2(theta1[i],theta2[i],theta3[i],l1,l2,l3,m1,m2,m3)[1][0],nFK3(theta1[i],theta2[i],theta3[i],l1,l2,l3,m1,m2,m3)[1][0]])\n",
    "    ax.scatter([p0[i],nFK1(theta1[i],theta2[i],theta3[i],l1,l2,l3,m1,m2,m3)[0][0],nFK2(theta1[i],theta2[i],theta3[i],l1,l2,l3,m1,m2,m3)[0][0],nFK3(theta1[i],theta2[i],theta3[i],l1,l2,l3,m1,m2,m3)[0][0]],\n",
    "               [p0[i],nFK1(theta1[i],theta2[i],theta3[i],l1,l2,l3,m1,m2,m3)[1][0],nFK2(theta1[i],theta2[i],theta3[i],l1,l2,l3,m1,m2,m3)[1][0],nFK3(theta1[i],theta2[i],theta3[i],l1,l2,l3,m1,m2,m3)[1][0]])\n",
    "    ax.set_xlim([-5,5])\n",
    "    ax.set_ylim([-5,5])\n",
    "    ax.text(3,4,str(st[i]))\n",
    "    \n",
    "    plt.pause(0.01)\n",
    "    plt.show()\n",
    "    if(stop):\n",
    "        break"
   ]
  },
  {
   "cell_type": "markdown",
   "metadata": {},
   "source": [
    "# Rimless Wheel"
   ]
  },
  {
   "cell_type": "code",
   "execution_count": 3,
   "metadata": {},
   "outputs": [],
   "source": [
    "(k,\n",
    " alpha,\n",
    " theta0,\n",
    " theta,\n",
    " dtheta,\n",
    " l,  \n",
    " g,\n",
    " t,\n",
    " m) = symbols(r'k, alpha, theta_0, theta, \\dot{\\theta}, l, g,t, m')\n",
    "# I = m*l**2\n",
    "# x = Matrix([[dtheta],[(g/l)* sin(theta) - k*(theta-theta0)/I]])\n",
    "# x"
   ]
  },
  {
   "cell_type": "code",
   "execution_count": 133,
   "metadata": {},
   "outputs": [],
   "source": [
    "def rimless_wheel(t,x,args):\n",
    "    theta,dtheta = x\n",
    "    m, g, l, theta0, k = args\n",
    "    return [dtheta, -(g/l)* sin(theta) - k*(theta-theta0)/m/l**2]\n",
    "\n",
    "\n"
   ]
  },
  {
   "cell_type": "code",
   "execution_count": 201,
   "metadata": {},
   "outputs": [],
   "source": [
    "alpha = np.pi/6\n",
    "arg = [1, 9.8, 1, alpha, 1]\n",
    "time = np.linspace(0,1,100)\n",
    "\n",
    "\n",
    "def step_event(t,state): \n",
    "    theta, dtheta = state\n",
    "    return theta - alpha\n",
    "    \n",
    "    \n",
    "def collision_reset(state,step):\n",
    "    theta, omega = state\n",
    "    if(step != 0):\n",
    "        theta = - alpha\n",
    "        omega = omega*np.cos(2*alpha)\n",
    "    return [theta, omega]\n",
    "\n",
    "step_event.terminal = True\n",
    "\n",
    "state_sol = [-alpha-0.0001,0]\n",
    "time_sol = 0\n",
    "steps = 5\n",
    "\n",
    "theta = np.array(state_sol[0])\n",
    "dtheta = np.array(state_sol[1])\n",
    "time = np.array([0])\n",
    "N = 1000\n",
    "t_end = 10\n",
    "\n",
    "steptime = []\n",
    "vstep = []\n",
    "\n",
    "for i in range(steps):\n",
    "    sol = solve_ivp(lambda t,x: rimless_wheel(t,x,arg),\n",
    "                    [time_sol,time_sol + t_end],\n",
    "                    collision_reset(state_sol,i), \n",
    "                    t_eval = np.linspace(time_sol,time_sol + t_end,N),\n",
    "                    events = step_event)\n",
    "    time_sol = sol.t[-1]\n",
    "    state_sol = sol.y[:,-1]\n",
    "    theta = np.hstack([theta,sol.y[0,:-1]])\n",
    "    dtheta = np.hstack([dtheta, sol.y[1,:-1]])\n",
    "    time = np.hstack([time,sol.t[:-1]])\n",
    "    steptime.append(sol.t_events[0][0])\n",
    "    vstep.append(sol.y_events[0][0])\n",
    "\n",
    "\n"
   ]
  },
  {
   "cell_type": "code",
   "execution_count": 202,
   "metadata": {},
   "outputs": [],
   "source": [
    "returnmap = np.zeros([2,len(vstep)-1])\n",
    "\n",
    "for i in range(len(vstep)-1):\n",
    "    returnmap[:,i] = np.array([vstep[i][1], vstep[i+1][1]])\n"
   ]
  },
  {
   "cell_type": "code",
   "execution_count": 203,
   "metadata": {},
   "outputs": [
    {
     "data": {
      "text/plain": [
       "array([[0.88523966, 0.99179489, 1.0137992 , 1.01805216],\n",
       "       [0.99179489, 1.0137992 , 1.01805216, 1.01671843]])"
      ]
     },
     "execution_count": 203,
     "metadata": {},
     "output_type": "execute_result"
    }
   ],
   "source": [
    "returnmap"
   ]
  },
  {
   "cell_type": "code",
   "execution_count": 206,
   "metadata": {},
   "outputs": [],
   "source": [
    "plt.close();\n",
    "fig2 = plt.figure()\n",
    "ax = plt.gca()\n",
    "ax.scatter(returnmap[0],returnmap[1],20);\n",
    "ax.plot(returnmap[0],returnmap[1],linewidth=1);\n",
    "ax.plot(np.linspace(0,1),np.linspace(0,1),'--r',linewidth=1);\n"
   ]
  },
  {
   "cell_type": "code",
   "execution_count": 208,
   "metadata": {},
   "outputs": [
    {
     "data": {
      "text/plain": [
       "[<matplotlib.lines.Line2D at 0x153f55cd0>]"
      ]
     },
     "execution_count": 208,
     "metadata": {},
     "output_type": "execute_result"
    }
   ],
   "source": [
    "plt.close();\n",
    "fig3 = plt.figure()\n",
    "ax = plt.gca();\n",
    "ax.plot(theta,dtheta)"
   ]
  },
  {
   "cell_type": "code",
   "execution_count": 209,
   "metadata": {},
   "outputs": [
    {
     "data": {
      "text/plain": [
       "[<matplotlib.lines.Line2D at 0x195118750>]"
      ]
     },
     "execution_count": 209,
     "metadata": {},
     "output_type": "execute_result"
    }
   ],
   "source": [
    "plt.close();\n",
    "fig1 = plt.figure()\n",
    "ax = plt.gca();\n",
    "ax.plot(time,theta)\n",
    "ax.plot(time,dtheta)\n",
    "ax.plot([0,time[-1]],[alpha,alpha])\n"
   ]
  },
  {
   "cell_type": "code",
   "execution_count": 210,
   "metadata": {},
   "outputs": [],
   "source": [
    "plt.close(\"all\");\n",
    "\n",
    "stop = False\n",
    "\n",
    "def on_close(event):\n",
    "    global stop \n",
    "    stop = True\n",
    "\n",
    "\n",
    "fig2 = plt.figure();\n",
    "fig2.canvas.mpl_connect('close_event', on_close)\n",
    "\n",
    "step = 0;\n",
    "for i in range(len(theta)):\n",
    "    if(time[i] < time [-2]):\n",
    "        if(time[i+1] >= steptime[step]):\n",
    "            step = step+1\n",
    "        \n",
    "    plt.clf()\n",
    "    ax = plt.gca()\n",
    "    px = np.sin(theta[i])\n",
    "    py = np.cos(theta[i])\n",
    "    dx = 2 * np.sin(alpha) * step\n",
    "    ax.plot([dx, px+dx],[0,py])\n",
    "    ax.scatter([dx, px+dx],[0,py])\n",
    "    ax.plot([-1.5+dx+px,1.5+dx+px],[0,0],'k')\n",
    "    plt.grid()\n",
    "    ax.set_xlim([-1.5+dx+px,1.5+dx+px])\n",
    "    ax.set_ylim([-1.5,1.5])\n",
    "    str_time = \"{:.5f}\".format(time[i])\n",
    "    plt.title(str_time)\n",
    "    plt.draw()\n",
    "    plt.show()\n",
    "    plt.pause(0.01)\n",
    "    if(stop):\n",
    "        stop = False\n",
    "        break\n"
   ]
  },
  {
   "cell_type": "code",
   "execution_count": 19,
   "metadata": {},
   "outputs": [],
   "source": [
    "\n",
    "alpha = np.pi/6\n",
    "theta_0 = np.linspace(-100,-alpha,100);\n",
    "k = np.linspace(0,100,100);\n",
    "K, THETA_0 = np.meshgrid(k,theta_0)"
   ]
  },
  {
   "cell_type": "code",
   "execution_count": 20,
   "metadata": {},
   "outputs": [],
   "source": [
    "m = 1\n",
    "l = 5\n",
    "theta_star = 2*np.sqrt(-K*alpha*THETA_0/m/l**2)*1/np.tan(2*alpha)"
   ]
  },
  {
   "cell_type": "code",
   "execution_count": 39,
   "metadata": {},
   "outputs": [
    {
     "data": {
      "text/plain": [
       "<matplotlib.image.AxesImage at 0x16b9e9450>"
      ]
     },
     "execution_count": 39,
     "metadata": {},
     "output_type": "execute_result"
    }
   ],
   "source": [
    "\n",
    "\n",
    "\n",
    "plt.imshow(theta_star)\n",
    "# plt.matshow(theta_star)\n",
    "#plt.xticks(np.linspace(10,100,10),np.linspace(10,100,10))\n"
   ]
  },
  {
   "cell_type": "code",
   "execution_count": null,
   "metadata": {},
   "outputs": [],
   "source": [
    "k"
   ]
  }
 ],
 "metadata": {
  "kernelspec": {
   "display_name": "Python 3 (ipykernel)",
   "language": "python",
   "name": "python3"
  },
  "language_info": {
   "codemirror_mode": {
    "name": "ipython",
    "version": 3
   },
   "file_extension": ".py",
   "mimetype": "text/x-python",
   "name": "python",
   "nbconvert_exporter": "python",
   "pygments_lexer": "ipython3",
   "version": "3.11.5"
  }
 },
 "nbformat": 4,
 "nbformat_minor": 4
}
