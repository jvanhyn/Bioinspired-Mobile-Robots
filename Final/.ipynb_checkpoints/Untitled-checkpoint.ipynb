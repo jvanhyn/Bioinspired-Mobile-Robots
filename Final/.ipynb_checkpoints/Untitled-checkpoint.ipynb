{
 "cells": [
  {
   "cell_type": "code",
   "execution_count": 1,
   "id": "6f9c3097",
   "metadata": {},
   "outputs": [],
   "source": [
    "import sympy as sp\n",
    "from sympy import cos,sin,Matrix\n",
    "from sympy.physics.mechanics import dynamicsymbols, init_vprinting\n",
    "import numpy as np\n",
    "init_vprinting()"
   ]
  },
  {
   "cell_type": "code",
   "execution_count": 2,
   "id": "be361588",
   "metadata": {},
   "outputs": [],
   "source": [
    "(m1,m2,l,l1,l2,l3,t) = sp.symbols(\"m_1,m_2,l,l_1,l_2,l_3,t\")\n",
    "(theta1,theta2,phi) = dynamicsymbols(\"theta_1,theta_2,phi\")\n",
    "dtheta1 = sp.diff(theta1)\n",
    "dtheta2 = sp.diff(theta2)\n",
    "dphi = sp.diff(phi)\n",
    "\n",
    "ddtheta1 = sp.diff(dtheta1)\n",
    "ddtheta2 = sp.diff(dtheta2)\n",
    "ddphi = sp.diff(dphi)\n",
    "\n",
    "q = sp.Matrix([theta1,theta2,phi]);\n",
    "dq = sp.Matrix([dtheta1,dtheta2,dphi]);\n",
    "ddq = sp.Matrix([ddtheta1,ddtheta2,ddphi]);\n",
    "\n",
    "\n",
    "l1 = l\n",
    "l2 = l\n",
    "l3 = l"
   ]
  },
  {
   "cell_type": "code",
   "execution_count": 3,
   "id": "20adfed5",
   "metadata": {},
   "outputs": [],
   "source": [
    "I1 = m1*l1**2\n",
    "I2 = m2*l2**2\n",
    "I3 = m1*(1/2*l3+l1*sp.cos(theta1))**2+m2*(1/2*l3+l2*sp.cos(theta2))**2"
   ]
  },
  {
   "cell_type": "code",
   "execution_count": 4,
   "id": "fdda82b6",
   "metadata": {},
   "outputs": [],
   "source": [
    "K1 = 1/2*I1*dtheta1**2\n",
    "K2 = 1/2*I2*dtheta2**2\n",
    "K3 = 1/2*I3*dphi**2"
   ]
  },
  {
   "cell_type": "code",
   "execution_count": 5,
   "id": "7b23b901",
   "metadata": {},
   "outputs": [],
   "source": [
    "L1 = K1\n",
    "L2 = K2\n",
    "L3 = K3"
   ]
  },
  {
   "cell_type": "code",
   "execution_count": 12,
   "id": "492e932b",
   "metadata": {},
   "outputs": [],
   "source": [
    "EOM_1 = sp.diff(sp.diff(L1,dq[0]),t)-sp.diff(L1,q[0])\n",
    "EOM_2 = sp.diff(sp.diff(L2,dq[1]),t)-sp.diff(L2,q[1])\n",
    "EOM_3 = sp.diff(sp.diff(L3,dq[2]),t)-sp.diff(L3,q[2])"
   ]
  },
  {
   "cell_type": "code",
   "execution_count": 13,
   "id": "0cf9f7d8",
   "metadata": {},
   "outputs": [
    {
     "data": {
      "text/latex": [
       "$\\displaystyle \\left[\\begin{matrix}1.0 l^{2} m_{1} & 0 & 0\\\\0 & 1.0 l^{2} m_{2} & 0\\\\0 & 0 & 1.0 l^{2} m_{1} \\cos^{2}{\\left(\\theta_{1} \\right)} + 1.0 l^{2} m_{1} \\cos{\\left(\\theta_{1} \\right)} + 0.25 l^{2} m_{1} + 1.0 l^{2} m_{2} \\cos^{2}{\\left(\\theta_{2} \\right)} + 1.0 l^{2} m_{2} \\cos{\\left(\\theta_{2} \\right)} + 0.25 l^{2} m_{2}\\end{matrix}\\right]$"
      ],
      "text/plain": [
       "⎡     2                                                                       \n",
       "⎢1.0⋅l ⋅m₁      0                                                          0  \n",
       "⎢                                                                             \n",
       "⎢                2                                                            \n",
       "⎢    0      1.0⋅l ⋅m₂                                                      0  \n",
       "⎢                                                                             \n",
       "⎢                           2       2            2                    2       \n",
       "⎣    0          0      1.0⋅l ⋅m₁⋅cos (θ₁) + 1.0⋅l ⋅m₁⋅cos(θ₁) + 0.25⋅l ⋅m₁ + 1\n",
       "\n",
       "                                                  ⎤\n",
       "                                                  ⎥\n",
       "                                                  ⎥\n",
       "                                                  ⎥\n",
       "                                                  ⎥\n",
       "                                                  ⎥\n",
       "    2       2            2                    2   ⎥\n",
       ".0⋅l ⋅m₂⋅cos (θ₂) + 1.0⋅l ⋅m₂⋅cos(θ₂) + 0.25⋅l ⋅m₂⎦"
      ]
     },
     "execution_count": 13,
     "metadata": {},
     "output_type": "execute_result"
    }
   ],
   "source": [
    "M = sp.zeros(3)\n",
    "M[0,0] = EOM_1.expand().coeff(ddtheta1)\n",
    "M[1,1] = EOM_2.expand().coeff(ddtheta2)\n",
    "M[2,2] = EOM_3.expand().coeff(ddphi)\n",
    "M"
   ]
  },
  {
   "cell_type": "code",
   "execution_count": 14,
   "id": "88c13868",
   "metadata": {},
   "outputs": [
    {
     "data": {
      "text/latex": [
       "$\\displaystyle \\left[\\begin{matrix}0 & 0 & 0\\\\0 & 0 & 0\\\\0 & 0 & 0\\end{matrix}\\right]$"
      ],
      "text/plain": [
       "⎡0  0  0⎤\n",
       "⎢       ⎥\n",
       "⎢0  0  0⎥\n",
       "⎢       ⎥\n",
       "⎣0  0  0⎦"
      ]
     },
     "execution_count": 14,
     "metadata": {},
     "output_type": "execute_result"
    }
   ],
   "source": [
    "C = sp.zeros(3)\n",
    "C[0,0] = EOM_1.expand().coeff(dtheta1)\n",
    "C[1,1] = EOM_2.expand().coeff(dtheta2)\n",
    "C[2,2] = EOM_3.expand().coeff(dphi**2)*dphi\n",
    "C"
   ]
  },
  {
   "cell_type": "code",
   "execution_count": 130,
   "id": "7a35066a",
   "metadata": {},
   "outputs": [],
   "source": [
    "# EOM = sp.diff(sp.diff(L,dq[0])+sp.diff(L,dq[1])+sp.diff(L,dq[2]),t)-sp.diff(L,q[0])+sp.diff(L,q[1])+sp.diff(L,q[2])"
   ]
  },
  {
   "cell_type": "code",
   "execution_count": 124,
   "id": "068fde65",
   "metadata": {},
   "outputs": [],
   "source": [
    "# EOM = sp.simplify(EOM)"
   ]
  },
  {
   "cell_type": "code",
   "execution_count": 21,
   "id": "f16c0168",
   "metadata": {},
   "outputs": [
    {
     "data": {
      "image/png": "[encoded data removed]",
      "text/latex": [
       "$\\displaystyle 1.0 l^{2} m_{2} \\ddot{\\theta}_{2}$"
      ],
      "text/plain": [
       "     2      \n",
       "1.0⋅l ⋅m₂⋅θ₂̈"
      ]
     },
     "execution_count": 21,
     "metadata": {},
     "output_type": "execute_result"
    }
   ],
   "source": [
    "EOM_2"
   ]
  },
  {
   "cell_type": "code",
   "execution_count": 22,
   "id": "c18691f8",
   "metadata": {},
   "outputs": [
    {
     "data": {
      "image/png": "[encoded data removed]",
      "text/latex": [
       "$\\displaystyle - 2.0 l^{2} m_{1} \\sin{\\left(\\theta_{1} \\right)} \\cos{\\left(\\theta_{1} \\right)} \\dot{\\phi} \\dot{\\theta}_{1} - 1.0 l^{2} m_{1} \\sin{\\left(\\theta_{1} \\right)} \\dot{\\phi} \\dot{\\theta}_{1} + 1.0 l^{2} m_{1} \\cos^{2}{\\left(\\theta_{1} \\right)} \\ddot{\\phi} + 1.0 l^{2} m_{1} \\cos{\\left(\\theta_{1} \\right)} \\ddot{\\phi} + 0.25 l^{2} m_{1} \\ddot{\\phi} - 2.0 l^{2} m_{2} \\sin{\\left(\\theta_{2} \\right)} \\cos{\\left(\\theta_{2} \\right)} \\dot{\\phi} \\dot{\\theta}_{2} - 1.0 l^{2} m_{2} \\sin{\\left(\\theta_{2} \\right)} \\dot{\\phi} \\dot{\\theta}_{2} + 1.0 l^{2} m_{2} \\cos^{2}{\\left(\\theta_{2} \\right)} \\ddot{\\phi} + 1.0 l^{2} m_{2} \\cos{\\left(\\theta_{2} \\right)} \\ddot{\\phi} + 0.25 l^{2} m_{2} \\ddot{\\phi}$"
      ],
      "text/plain": [
       "       2                            2                        2       2        \n",
       "- 2.0⋅l ⋅m₁⋅sin(θ₁)⋅cos(θ₁)⋅φ̇⋅θ₁̇ - l ⋅m₁⋅sin(θ₁)⋅φ̇⋅θ₁̇ + 1.0⋅l ⋅m₁⋅cos (θ₁)\n",
       "\n",
       "      2                      2             2                            2     \n",
       "⋅φ̈ + 1.0⋅l ⋅m₁⋅cos(θ₁)⋅φ̈ + 0.25⋅l ⋅m₁⋅φ̈ - 2.0⋅l ⋅m₂⋅sin(θ₂)⋅cos(θ₂)⋅φ̇⋅θ₂̇ \n",
       "\n",
       "                   2       2              2                      2     \n",
       "- l ⋅m₂⋅sin(θ₂)⋅φ̇⋅θ₂̇ + 1.0⋅l ⋅m₂⋅cos (θ₂)⋅φ̈ + 1.0⋅l ⋅m₂⋅cos(θ₂)⋅φ̈ + 0.25⋅l"
      ]
     },
     "execution_count": 22,
     "metadata": {},
     "output_type": "execute_result"
    }
   ],
   "source": [
    "EOM_3.expand()"
   ]
  },
  {
   "cell_type": "code",
   "execution_count": 151,
   "id": "61a5df46",
   "metadata": {},
   "outputs": [
    {
     "data": {
      "text/latex": [
       "$\\displaystyle \\left[\\begin{matrix}1.0 l^{2} m_{1} \\ddot{\\theta}_{1} + \\left(- 2.0 l^{2} m_{1} \\sin{\\left(\\theta_{1} \\right)} \\cos{\\left(\\theta_{1} \\right)} \\dot{\\phi} - 1.0 l^{2} m_{1} \\sin{\\left(\\theta_{1} \\right)} \\dot{\\phi}\\right) \\dot{\\theta}_{1}\\\\1.0 l^{2} m_{2} \\ddot{\\theta}_{2} + \\left(- 2.0 l^{2} m_{2} \\sin{\\left(\\theta_{2} \\right)} \\cos{\\left(\\theta_{2} \\right)} \\dot{\\phi} - 1.0 l^{2} m_{2} \\sin{\\left(\\theta_{2} \\right)} \\dot{\\phi}\\right) \\dot{\\theta}_{2}\\\\\\left(1.0 l^{2} m_{1} \\sin{\\left(\\theta_{1} \\right)} \\cos{\\left(\\theta_{1} \\right)} + 0.5 l^{2} m_{1} \\sin{\\left(\\theta_{1} \\right)} - 1.0 l^{2} m_{2} \\sin{\\left(\\theta_{2} \\right)} \\cos{\\left(\\theta_{2} \\right)} - 0.5 l^{2} m_{2} \\sin{\\left(\\theta_{2} \\right)}\\right) \\dot{\\phi}^{2} + \\left(1.0 l^{2} m_{1} \\cos^{2}{\\left(\\theta_{1} \\right)} + 1.0 l^{2} m_{1} \\cos{\\left(\\theta_{1} \\right)} + 0.25 l^{2} m_{1} + 1.0 l^{2} m_{2} \\cos^{2}{\\left(\\theta_{2} \\right)} + 1.0 l^{2} m_{2} \\cos{\\left(\\theta_{2} \\right)} + 0.25 l^{2} m_{2}\\right) \\ddot{\\phi}\\end{matrix}\\right]$"
      ],
      "text/plain": [
       "⎡                                                                          2  \n",
       "⎢                                                                     1.0⋅l ⋅m\n",
       "⎢                                                                             \n",
       "⎢                                                                          2  \n",
       "⎢                                                                     1.0⋅l ⋅m\n",
       "⎢                                                                             \n",
       "⎢⎛     2                           2               2                          \n",
       "⎣⎝1.0⋅l ⋅m₁⋅sin(θ₁)⋅cos(θ₁) + 0.5⋅l ⋅m₁⋅sin(θ₁) - l ⋅m₂⋅sin(θ₂)⋅cos(θ₂) - 0.5⋅\n",
       "\n",
       "       ⎛       2                         2             ⎞                      \n",
       "₁⋅θ₁̈ + ⎝- 2.0⋅l ⋅m₁⋅sin(θ₁)⋅cos(θ₁)⋅φ̇ - l ⋅m₁⋅sin(θ₁)⋅φ̇⎠⋅θ₁̇               \n",
       "                                                                              \n",
       "       ⎛       2                         2             ⎞                      \n",
       "₂⋅θ₂̈ + ⎝- 2.0⋅l ⋅m₂⋅sin(θ₂)⋅cos(θ₂)⋅φ̇ - l ⋅m₂⋅sin(θ₂)⋅φ̇⎠⋅θ₂̇               \n",
       "                                                                              \n",
       " 2           ⎞  2   ⎛     2       2            2                    2         \n",
       "l ⋅m₂⋅sin(θ₂)⎠⋅φ̇  + ⎝1.0⋅l ⋅m₁⋅cos (θ₁) + 1.0⋅l ⋅m₁⋅cos(θ₁) + 0.25⋅l ⋅m₁ + 1.\n",
       "\n",
       "                                                   ⎤\n",
       "                                                       ⎥\n",
       "                                                   ⎥\n",
       "                                                   ⎥\n",
       "                                                       ⎥\n",
       "                                                   ⎥\n",
       "  2       2            2                    2   ⎞  ⎥\n",
       "0⋅l ⋅m₂⋅cos (θ₂) + 1.0⋅l ⋅m₂⋅cos(θ₂) + 0.25⋅l ⋅m₂⎠⋅φ̈⎦"
      ]
     },
     "execution_count": 151,
     "metadata": {},
     "output_type": "execute_result"
    }
   ],
   "source": [
    "M @ ddq + C @ dq "
   ]
  },
  {
   "cell_type": "code",
   "execution_count": 93,
   "id": "e4dee16e",
   "metadata": {},
   "outputs": [],
   "source": [
    "M = sp.Matrix([[0.5*l**2*m1,0,0],[0,0.5*m2*l**2,0],[0,0,0.125*m1*l**2*(2*sp.cos(theta1)+1)**2+0.125*m2*l**2*(2*sp.cos(theta2)+1)**2]])"
   ]
  },
  {
   "cell_type": "code",
   "execution_count": 92,
   "id": "a7514a04",
   "metadata": {},
   "outputs": [
    {
     "data": {
      "text/latex": [
       "$\\displaystyle \\left[\\begin{matrix}0.5 l^{2} m_{1} & 0 & 0\\\\0 & 0.5 m_{2}^{2} & 0\\\\0 & 0 & 0.125 l^{2} m_{1} \\left(2 \\cos{\\left(\\theta_{1} \\right)} + 1\\right)^{2} + 0.125 l^{2} m_{2} \\left(2 \\cos{\\left(\\theta_{2} \\right)} + 1\\right)^{2}\\end{matrix}\\right]$"
      ],
      "text/plain": [
       "⎡     2                                                                       \n",
       "⎢0.5⋅l ⋅m₁     0                                  0                           \n",
       "⎢                                                                             \n",
       "⎢                 2                                                           \n",
       "⎢    0      0.5⋅m₂                                0                           \n",
       "⎢                                                                             \n",
       "⎢                           2                   2          2                  \n",
       "⎣    0         0     0.125⋅l ⋅m₁⋅(2⋅cos(θ₁) + 1)  + 0.125⋅l ⋅m₂⋅(2⋅cos(θ₂) + 1\n",
       "\n",
       "  ⎤\n",
       "  ⎥\n",
       "  ⎥\n",
       "  ⎥\n",
       "  ⎥\n",
       "  ⎥\n",
       " 2⎥\n",
       ") ⎦"
      ]
     },
     "execution_count": 92,
     "metadata": {},
     "output_type": "execute_result"
    }
   ],
   "source": [
    "M"
   ]
  },
  {
   "cell_type": "code",
   "execution_count": 109,
   "id": "856eb26e",
   "metadata": {},
   "outputs": [],
   "source": [
    "C = sp.Matrix([[m1*cos(theta1 + 0.5)*sin(theta1)*dphi,0,0],[0,m2*cos(theta1 + 0.5)*sin(theta1)*dphi,0],[0,0,0.5*l*m1*(l*cos(theta2) + 0.5*l)*sin(theta2)*dphi+0.5*l*m1*(l*cos(theta1) + 0.5*l)*sin(theta1)*dphi]])"
   ]
  },
  {
   "cell_type": "code",
   "execution_count": 110,
   "id": "6e01757a",
   "metadata": {},
   "outputs": [
    {
     "data": {
      "text/latex": [
       "$\\displaystyle \\left[\\begin{matrix}0.5 l m_{1} \\left(l \\cos{\\left(\\theta_{1} \\right)} + 0.5 l\\right) \\sin{\\left(\\theta_{1} \\right)} \\dot{\\phi} + 0.5 l m_{1} \\left(l \\cos{\\left(\\theta_{2} \\right)} + 0.5 l\\right) \\sin{\\left(\\theta_{2} \\right)} \\dot{\\phi}\\end{matrix}\\right]$"
      ],
      "text/plain": [
       "[0.5⋅l⋅m₁⋅(l⋅cos(θ₁) + 0.5⋅l)⋅sin(θ₁)⋅φ̇ + 0.5⋅l⋅m₁⋅(l⋅cos(θ₂) + 0.5⋅l)⋅sin(θ₂\n",
       ")⋅φ̇]"
      ]
     },
     "execution_count": 110,
     "metadata": {},
     "output_type": "execute_result"
    }
   ],
   "source": [
    "C"
   ]
  },
  {
   "cell_type": "code",
   "execution_count": 117,
   "id": "23a99bbe",
   "metadata": {},
   "outputs": [
    {
     "ename": "NameError",
     "evalue": "name 'm_2' is not defined",
     "output_type": "error",
     "traceback": [
      "\u001b[0;31m---------------------------------------------------------------------------\u001b[0m",
      "\u001b[0;31mNameError\u001b[0m                                 Traceback (most recent call last)",
      "Cell \u001b[0;32mIn[117], line 1\u001b[0m\n\u001b[0;32m----> 1\u001b[0m (m1\u001b[38;5;241m*\u001b[39m(cos(theta1 \u001b[38;5;241m+\u001b[39m \u001b[38;5;241m0.5\u001b[39m)\u001b[38;5;241m*\u001b[39msin(theta1)\u001b[38;5;241m*\u001b[39mdtheta1 \u001b[38;5;241m+\u001b[39m m_2\u001b[38;5;241m*\u001b[39m(cos(theta_2(t)) \u001b[38;5;241m+\u001b[39m \u001b[38;5;241m0.5\u001b[39m)\u001b[38;5;241m*\u001b[39msin(theta_2(t))\u001b[38;5;241m*\u001b[39mDerivative(theta_2(t), t))\u001b[38;5;241m*\u001b[39mDerivative(phi(t), t))\n",
      "\u001b[0;31mNameError\u001b[0m: name 'm_2' is not defined"
     ]
    }
   ],
   "source": [
    "(m1*(cos(theta1 + 0.5)*sin(theta1)*dtheta1 + m2*(cos(theta2) + 0.5)*sin(theta_2)*diff(theta2, t))*Derivative(phi(t), t))"
   ]
  },
  {
   "cell_type": "code",
   "execution_count": 149,
   "id": "d97cf8e9",
   "metadata": {},
   "outputs": [
    {
     "data": {
      "text/latex": [
       "$\\displaystyle \\left[\\begin{matrix}\\ddot{\\theta}_{1}\\\\\\ddot{\\theta}_{2}\\\\\\ddot{\\phi}\\end{matrix}\\right]$"
      ],
      "text/plain": [
       "⎡θ₁̈⎤\n",
       "⎢  ⎥\n",
       "⎢θ₂̈⎥\n",
       "⎢  ⎥\n",
       "⎣φ̈ ⎦"
      ]
     },
     "execution_count": 149,
     "metadata": {},
     "output_type": "execute_result"
    }
   ],
   "source": []
  },
  {
   "cell_type": "code",
   "execution_count": 24,
   "id": "4908d22e",
   "metadata": {},
   "outputs": [
    {
     "ename": "SyntaxError",
     "evalue": "invalid syntax. Perhaps you forgot a comma? (892383604.py, line 1)",
     "output_type": "error",
     "traceback": [
      "\u001b[0;36m  Cell \u001b[0;32mIn[24], line 1\u001b[0;36m\u001b[0m\n\u001b[0;31m    A = sp.Matrix([[0,0],[0,0],[5 + 3 cos ( alpha2 ) + cos ( alpha1 - alpha2 ),5 + 3 cos ( alpha1 ) + cos ( alpha1 - alpha2 )]])\u001b[0m\n\u001b[0m                                ^\u001b[0m\n\u001b[0;31mSyntaxError\u001b[0m\u001b[0;31m:\u001b[0m invalid syntax. Perhaps you forgot a comma?\n"
     ]
    }
   ],
   "source": [
    "A = sp.Matrix([[0,0],[0,0],[5 + 3*cos( alpha2 ) + cos( alpha1 - alpha2 ),5 + 3*cos ( alpha1 ) + cos ( alpha1 - alpha2 )]]) \n",
    "\n"
   ]
  },
  {
   "cell_type": "code",
   "execution_count": null,
   "id": "76bce6a2",
   "metadata": {},
   "outputs": [],
   "source": []
  }
 ],
 "metadata": {
  "kernelspec": {
   "display_name": "Python 3 (ipykernel)",
   "language": "python",
   "name": "python3"
  },
  "language_info": {
   "codemirror_mode": {
    "name": "ipython",
    "version": 3
   },
   "file_extension": ".py",
   "mimetype": "text/x-python",
   "name": "python",
   "nbconvert_exporter": "python",
   "pygments_lexer": "ipython3",
   "version": "3.11.5"
  }
 },
 "nbformat": 4,
 "nbformat_minor": 5
}
